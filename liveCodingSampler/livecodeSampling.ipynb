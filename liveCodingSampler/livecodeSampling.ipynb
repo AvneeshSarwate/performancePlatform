{
 "cells": [
  {
   "cell_type": "markdown",
   "metadata": {
    "deletable": true,
    "editable": true
   },
   "source": [
    "A quick guide on how to use this \"notebook\" - each cell contains a block of code that can be run by hitting ctrl+ENTER.\n",
    "\n",
    "Running a cell will overwrite any variable assignments that have been done earlier. \n",
    "\n",
    "Also, for the purposes of this tutorial, don't worry about recording your own audio to splice just yet - the buffers are pre  loaded with drum sounds to make the example patterns sound better. Audio splicing and recording is covered at the end of the notebook"
   ]
  },
  {
   "cell_type": "markdown",
   "metadata": {
    "deletable": true,
    "editable": true
   },
   "source": [
    "### SETUP (do not change this) - Run this cell first, it sets up the Python portion of the piece"
   ]
  },
  {
   "cell_type": "code",
   "execution_count": null,
   "metadata": {
    "collapsed": false,
    "deletable": true,
    "editable": true
   },
   "outputs": [],
   "source": [
    "try:\n",
    "    initalSetUpDone\n",
    "    print \"set up already done\"\n",
    "except NameError:  \n",
    "    import PydalChanel as pydal\n",
    "    from LFOFM import *\n",
    "\n",
    "    read = pydal.read\n",
    "    wavePlayer = WavePlayer()\n",
    "    timestretchMode = wavePlayer.timestretchMode\n",
    "    tempo = wavePlayer.tempo\n",
    "    \n",
    "    ch1 = pydal.newChannel(1)\n",
    "    def play(patStr, time=1):\n",
    "        ch1.play(read(patStr, time, \"max\"))\n",
    "    def stop():\n",
    "        ch1.stop()\n",
    "    \n",
    "    initalSetUpDone = True\n",
    "    print \"Python set up done. Remember to start SuperCollider and open the Max Patch\""
   ]
  },
  {
   "cell_type": "markdown",
   "metadata": {
    "deletable": true,
    "editable": true
   },
   "source": [
    "## CELL A - run this to play a pattern"
   ]
  },
  {
   "cell_type": "code",
   "execution_count": null,
   "metadata": {
    "collapsed": false,
    "deletable": true,
    "editable": true
   },
   "outputs": [],
   "source": [
    "# \"pat\" can be any string that has a valid syntax (the set up cell sets its initival value to \"a\". \n",
    "# In the cells below, I'll give examples of that syntax and explain its rules.\n",
    "## \n",
    "play(\"a\")\n",
    "\n",
    "#After running this cell, you should hear a steady kick drum pulse"
   ]
  },
  {
   "cell_type": "code",
   "execution_count": null,
   "metadata": {
    "collapsed": false
   },
   "outputs": [],
   "source": [
    "# you can change the tempo with this function\n",
    "tempo(120)"
   ]
  },
  {
   "cell_type": "markdown",
   "metadata": {
    "deletable": true,
    "editable": true
   },
   "source": [
    "## CELL B - run this to stop the audio"
   ]
  },
  {
   "cell_type": "code",
   "execution_count": null,
   "metadata": {
    "collapsed": false,
    "deletable": true,
    "editable": true
   },
   "outputs": [],
   "source": [
    "stop()"
   ]
  },
  {
   "cell_type": "markdown",
   "metadata": {
    "deletable": true,
    "editable": true
   },
   "source": [
    "## SECTION 1 - Patterns\n",
    "Below are various different patterns. To hear how they sound, it ctrl+ENTER in the cell of the pattern (and click into Cell B and run that to stop it). The comments in the cell will explain what the pattern syntax is and how you can use it to generate some pretty crazy rhythms. **`\"a\"`** **`\"b\"`** **`\"c\"`** and **`\"d\"`** refer to the 4 buffers that you can record to, but to make these tutorial patterns sound better, they have been preloaded with bass drum, snare, rim, and high hat sounds respectively. **Section 2**, at the end of the tutorial, explains syntax related to splicing the audio (e.g the difference betwee **`a`**, **`a:3`**, or **`a:1.5_1.75`**). Also, the **`~`** symbol is effectively a \"rest\"."
   ]
  },
  {
   "cell_type": "markdown",
   "metadata": {
    "deletable": true,
    "editable": true
   },
   "source": [
    "###### Example 1 - the basics \n",
    "The core idea that the pattern syntax is based off of is the notion of subdividing a beat. If you run this pattern, you'll hear a steady bass drum kick - that's the speed of the beat (or the \"cycle\", or the \"pulse\", whatever you want to call it) that we'll be subdividing."
   ]
  },
  {
   "cell_type": "code",
   "execution_count": null,
   "metadata": {
    "collapsed": true,
    "deletable": true,
    "editable": true
   },
   "outputs": [],
   "source": [
    "pla(\"a\")"
   ]
  },
  {
   "cell_type": "markdown",
   "metadata": {
    "deletable": true,
    "editable": true
   },
   "source": [
    "###### Example 2 - subdividing the beat\n",
    "Running the pattern below will give you a kick drum beat at 2x the speed of the pattern above. Similarly, **`\"a a a\"`** or **`\"a a a a\"`** will subdivide the pulse to 3x or 4x of the initial length. (Try it! Replace the string **`\"a a\"`** with **`\"a a a\"`**)"
   ]
  },
  {
   "cell_type": "code",
   "execution_count": null,
   "metadata": {
    "collapsed": true,
    "deletable": true,
    "editable": true
   },
   "outputs": [],
   "source": [
    "play(\"a a\")"
   ]
  },
  {
   "cell_type": "markdown",
   "metadata": {
    "deletable": true,
    "editable": true
   },
   "source": [
    "##### Example 3 - grouping\n",
    "So what if you want patterns that aren't just even divisions of the pulse? You can group patterns together with **`[]`**. In the pattern in the cell below, the pattern is first subdivided into 2, so both **`a`** and **`[a a]`** will take up half of the time of the pulse. Then **`[a a]`** is further subdivided into 2. Thus, you'll end up with a pattern with hits with inter-onset-intervals of 0.5 0.25 0.25 (where 1 is the whole pulse). Similarly **`\"a [a a a]\"`** would give you 1/2 1/6 1/6 1/6. You can even do this recursively - **`\"a [a [a a]]\"`** would give you 0.5 0.25 0.125 0.125. Try it and play around! "
   ]
  },
  {
   "cell_type": "code",
   "execution_count": null,
   "metadata": {
    "collapsed": true,
    "deletable": true,
    "editable": true
   },
   "outputs": [],
   "source": [
    "play(\"a [a a]\")"
   ]
  },
  {
   "cell_type": "markdown",
   "metadata": {
    "deletable": true,
    "editable": true
   },
   "source": [
    "###### Example 4 - a syntactic shortcut for repetition\n",
    "Lets say you want a pattern like **`\"[a a a a]\"`**. Seems a bit redundant right? Well, there is an easier way to write even-subdivison reptitions of the same symbol. You can write **`\"a*4\"`** instead. Try some variations like **`\"a*2 b\"`** or **`\"a*2 b*3\"`**. You can even use the **`*`** operator on bracketed subpatterns (e.g **`\"[a b]*2\"`**) "
   ]
  },
  {
   "cell_type": "code",
   "execution_count": null,
   "metadata": {
    "collapsed": true,
    "deletable": true,
    "editable": true
   },
   "outputs": [],
   "source": [
    "play(\"a*2\")"
   ]
  },
  {
   "cell_type": "markdown",
   "metadata": {
    "deletable": true,
    "editable": true
   },
   "source": [
    "###### Example 5 - overlaying patterns using [ ] brackets\n",
    "The **`[]`** brackets have another use - you can use them to overlay patterns on top of each other. Square brackets are used to overlay two patterns such that their total time is the same. The examaple below gives us a 3 over 2 pattern of hi hat over bass drum (note, the pattern below is equivalent to **`\"[a*2, b*3]\"`**. Play around with some examples like **`\"[a a a, [c d]*2]\"`** or **`[a b, c [c d]*2]\"`**"
   ]
  },
  {
   "cell_type": "code",
   "execution_count": null,
   "metadata": {
    "collapsed": true,
    "deletable": true,
    "editable": true
   },
   "outputs": [],
   "source": [
    "play(\"[a a, d d d]\")"
   ]
  },
  {
   "cell_type": "markdown",
   "metadata": {
    "deletable": true,
    "editable": true
   },
   "source": [
    "###### Example 6 - overlaying patterns using { } brackets\n",
    "The **`{ }`** brackets offer a different way to overlay patterns. Rather than overlaying the pattern such that their total time is the same, it overlays patterns such that their top level divisions have the same time length. For example, in the pattern below, you'll hear a steady bass drum pattern at half the speed of the pulse, and a rotating beat of snare, rim, and hi hat over it. This effectively gives us a pattern that repeats every 1.5 beats (since the **`b c d`** pattern is 3/2 the duration of the **`a a`** pattern. This can lead to some interesting phasing results. Try **`{a a, {~ ~, c*2 c d}`** (remember **`~`** is a \"rest\")."
   ]
  },
  {
   "cell_type": "code",
   "execution_count": null,
   "metadata": {
    "collapsed": true,
    "deletable": true,
    "editable": true
   },
   "outputs": [],
   "source": [
    "play(\"{a a, b c d}\")"
   ]
  },
  {
   "cell_type": "markdown",
   "metadata": {
    "deletable": true,
    "editable": true
   },
   "source": [
    "###### Eample 7 - slowing things down by adding another argument to the play( ) function\n",
    "So far we've only been using the play function with a single argument - the pattern that we want to hear. By default, the play function assumes that the pattern we want to play will have a full duration of 1 beat. However, if we give a second argument to the play function, we can stretch the pattern to take up more or less time. Calling **`play(pat, 2)`** will play a pattern half as fast (doubling it's total time), and **`play(pat, 0.5)`** will play a pattern twice as fast. Slowing down the pattern is especially hepful if we want to play very long patterns. Something like **`a c a a c a a a a a a a a c`** would be subdivided into 1/14th of the pulse and would be quite fast and sound pretty jumbled. But by giving the play function an argument of **`4`**, we could slow it down so we can hear the individual hits. Listen to it by running the cell below (just click into it and hit crtl+ENTER, don't worry about setting the pat variable and running Cell A). "
   ]
  },
  {
   "cell_type": "code",
   "execution_count": null,
   "metadata": {
    "collapsed": true,
    "deletable": true,
    "editable": true
   },
   "outputs": [],
   "source": [
    "play(\"a c a a c a a a a a a a a c\", 4)"
   ]
  },
  {
   "cell_type": "markdown",
   "metadata": {
    "deletable": true,
    "editable": true
   },
   "source": [
    "###### Example 8 - iterating through subpatterns with ( )\n",
    "The **`( )`** brackets let you render a different subpattern every time the pattern is played. You can type out multiple patterns inside the **`( )`** and separate them with commas, and every time the pattern is played, the next one in sequence will play. The pattern below is effectively 3 cycles long. "
   ]
  },
  {
   "cell_type": "code",
   "execution_count": null,
   "metadata": {
    "collapsed": true,
    "deletable": true,
    "editable": true
   },
   "outputs": [],
   "source": [
    "play(\"a a (b, c c, d)\")"
   ]
  },
  {
   "cell_type": "markdown",
   "metadata": {
    "deletable": true,
    "editable": true
   },
   "source": [
    "###### Example 9 - random choice with < >\n",
    "Much like the **`( )`** brackets allowed for sequential choice, the **`< >`** brackets allow for random choice, and will randomly select one of the subpatterns inside it to play. "
   ]
  },
  {
   "cell_type": "code",
   "execution_count": null,
   "metadata": {
    "collapsed": true,
    "deletable": true,
    "editable": true
   },
   "outputs": [],
   "source": [
    "play(\"a a <b, c c, d>\")"
   ]
  },
  {
   "cell_type": "markdown",
   "metadata": {
    "deletable": true,
    "editable": true
   },
   "source": [
    "## SECTION 2 - Audio recording and slicing\n",
    "\n",
    "Up till now, we have been using the preset drum sounds in our audio buffers, however, we can record up to 10 seconds of audio into the buffers and use sections of that as our \"drums\" instead of the preset drum sounds.\n",
    "\n",
    "###### How to record\n",
    "To record into a buffer, press the number keys 1-4 to start or stop recording audio from the first through fourth buffers, respectively. You can see if a buffer is recording by looking at the X buttons in the blue box in the Max patch. If the X is white, that buffer is recording. Currently, the start and stop of the recording is synced to the internal metronome - the recording will start on the next metronome hit after you press a buffers corresponding key, and recording will stop on the next hit after the key press as well. You can toggle the audio of the metornome on or off by pressing the X button highlighted in green in the Max patch. You can restore the drum samples by pressing the button highlighted in yellow in the Max patch. \n",
    "\n",
    "###### Default buffer play length\n",
    "For now, we have been using simple symbols like **`a`**, but if we want to splice audio, we have to use more complicated symbols like **`a:4`** or **`a:0.5_1.25`**. In the symbol, the letter determines which buffer is playing. If you don't include any colon or numbers, the buffer will start at the beginning and play for 0.25 beats, or until it is cut off by another call to play the same buffer (whichever is sooner). \n",
    "\n",
    "###### Buffer Start offsets\n",
    "If you want to start the buffer from a certain number of beats after the start, you would write it as **`a:4`** or **`a:0.5`**. This will start playing the buffer from that number of beats in and play it until the end or until it is cut off by another call to play the same buffer (whichever is sooner). \n",
    "\n",
    "###### Buffer Endpoints\n",
    "If you want to start a buffer at a certain point AND cut it off after a certain amount of time, you would write **`a:0.5_1.25`**, where the first number is the starting point of the buffer (as the number of beats from the start), and the 2nd number is the ending point of the buffer (also as the number of beats from the start). \n"
   ]
  },
  {
   "cell_type": "code",
   "execution_count": null,
   "metadata": {
    "collapsed": true,
    "deletable": true,
    "editable": true
   },
   "outputs": [],
   "source": [
    "play(\"a:0_0.5 a:2_2.5 <b:1, c:1 c:3, d>\")"
   ]
  },
  {
   "cell_type": "markdown",
   "metadata": {},
   "source": [
    "## Section 3 - Wave based warping (more detailed tutorial coming soon)\n",
    "\n",
    "There are 5 different types of waves you can work with - Sine, Cosine, Saw, Square, and Triangle (object names **`Sin()`**, **`Cos()`**, **`Saw()`**, **`Sqr()`**, **`Tri()`**). Waves can be added and multiplied to each other (or to other numbers using the normal **`*`** and **`+`** operators). You can set the frequency and phase of the waves via the freq and phase named arguments in the constructor, and these could be a number or another wave. E.g **`Cos(phase=Sin())`** or **`Sqr(freq=Saw())`**. Use **`wavePlayer.shift([string a-d], [some wave or number])`** to control the pitch shift of the sample, and **`wavePlayer.speed([string a-d], [some wave or number])`** to control the play speed (independent of the pitch). To turn off the timestretch mode for sample playback and control the raw playback speed, use **`timestretchMode([string a-d], [Boolean value])`** to toggle timestretch mode for that sample. Some examples are given below. "
   ]
  },
  {
   "cell_type": "code",
   "execution_count": null,
   "metadata": {
    "collapsed": false,
    "deletable": true,
    "editable": true
   },
   "outputs": [],
   "source": [
    "timestretchMode(\"a\", False)\n",
    "wavePlayer.shift(\"b\", (Sqr(freq=Sin())*400)+(Tri(freq=1.0/30)*500)) #range has been change to +- 2400 cents\n",
    "wavePlayer.speed(\"a\", (Sqr(freq=Sin())*4)+(Tri(freq=1.0/30)*5))\n",
    "play(\"((b*4, b ~ b, b b*2), <(a*4, b ~ a, b a*2), {~, [a a b [a b]] [[a b] a b b]}> {~, [b b b b*2] [b*2 b b b]})\")"
   ]
  },
  {
   "cell_type": "code",
   "execution_count": null,
   "metadata": {
    "collapsed": false,
    "deletable": true,
    "editable": true
   },
   "outputs": [],
   "source": [
    "wavePlayer.shift(\"b\", 0)\n",
    "wavePlayer.speed(\"a\", 1)\n",
    "\n",
    "#to stop a wave you now have to \n",
    "wavePlayer.shift(\"b\", \"stop\")\n",
    "wavePlayer.shift(\"a\", \"stop\")\n",
    "stop()"
   ]
  }
 ],
 "metadata": {
  "celltoolbar": "Raw Cell Format",
  "kernelspec": {
   "display_name": "Python 2",
   "language": "python",
   "name": "python2"
  },
  "language_info": {
   "codemirror_mode": {
    "name": "ipython",
    "version": 2
   },
   "file_extension": ".py",
   "mimetype": "text/x-python",
   "name": "python",
   "nbconvert_exporter": "python",
   "pygments_lexer": "ipython2",
   "version": "2.7.13"
  }
 },
 "nbformat": 4,
 "nbformat_minor": 2
}
