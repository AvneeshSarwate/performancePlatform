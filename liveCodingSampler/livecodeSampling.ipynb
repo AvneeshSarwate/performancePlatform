{
 "cells": [
  {
   "cell_type": "code",
   "execution_count": 2,
   "metadata": {
    "collapsed": false,
    "deletable": true,
    "editable": true
   },
   "outputs": [],
   "source": [
    "import PydalChanel as pydal\n",
    "from LFOFM import *\n",
    "\n",
    "read = pydal.read\n",
    "\n",
    "wavePlayer = WavePlayer()\n",
    "ch1 = pydal.newChannel(1)"
   ]
  },
  {
   "cell_type": "code",
   "execution_count": 4,
   "metadata": {
    "collapsed": false,
    "deletable": true,
    "editable": true
   },
   "outputs": [],
   "source": [
    "t = Tri()*500\n",
    "# wavePlayer.shift(2, t)\n",
    "pat = read(\"{[a*3, b b], (~, c, c*2)}\", 1, \"max\")\n",
    "pat2 = read(\"a:0\", 1.5, \"max\")\n",
    "ch1.play(pat2)"
   ]
  },
  {
   "cell_type": "code",
   "execution_count": null,
   "metadata": {
    "collapsed": false,
    "deletable": true,
    "editable": true
   },
   "outputs": [],
   "source": [
    "wavePlayer.shift(2, 0)\n",
    "ch1.stop()"
   ]
  },
  {
   "cell_type": "code",
   "execution_count": null,
   "metadata": {
    "collapsed": false,
    "deletable": true,
    "editable": true
   },
   "outputs": [],
   "source": [
    "pat2.frac"
   ]
  },
  {
   "cell_type": "code",
   "execution_count": null,
   "metadata": {
    "collapsed": true,
    "deletable": true,
    "editable": true
   },
   "outputs": [],
   "source": [
    "pat = read(\"a\", 1, \"max\")\n",
    "pat = read(\"a a\", 1, \"max\")\n",
    "pat = read(\"a*2\", 1, \"max\")\n",
    "pat = read(\"a*2 b\", 1, \"max\")\n",
    "pat = read(\"a*2 b*3\", 1, \"max\")\n",
    "pat = read(\"[a b] a\", 1, \"max\")\n",
    "pat = read(\"[a b] [a c a]\", 1, \"max\")\n",
    "pat = read(\"[a a, b b b]\", 1, \"max\")\n",
    "pat = read(\"[a*2, b*3]\", 1, \"max\")\n",
    "pat = read(\"{a a, b c b}\", 1, \"max\")\n",
    "pat = read(\"{a*2, b c b}\", 1, \"max\")"
   ]
  }
 ],
 "metadata": {
  "kernelspec": {
   "display_name": "Python 2",
   "language": "python",
   "name": "python2"
  },
  "language_info": {
   "codemirror_mode": {
    "name": "ipython",
    "version": 2
   },
   "file_extension": ".py",
   "mimetype": "text/x-python",
   "name": "python",
   "nbconvert_exporter": "python",
   "pygments_lexer": "ipython2",
   "version": "2.7.13"
  }
 },
 "nbformat": 4,
 "nbformat_minor": 2
}
