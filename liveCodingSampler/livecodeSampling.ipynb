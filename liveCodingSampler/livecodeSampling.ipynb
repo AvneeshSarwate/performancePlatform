{
 "cells": [
  {
   "cell_type": "markdown",
   "metadata": {},
   "source": [
    "A quick guide on how to use this \"notebook\" - each cell contains a block of code that can be run by hitting ctrl+ENTER.\n",
    "\n",
    "Running a cell will overwrite any variable assignments that have been done earlier. \n",
    "\n",
    "Also, for the purposes of this tutorial, don't worry about recording your own audio to splice just yet - the buffers are pre  loaded with drum sounds to make the example patterns sound better. "
   ]
  },
  {
   "cell_type": "markdown",
   "metadata": {},
   "source": [
    "### SETUP - only run this once. This cell performs the setup for the piece"
   ]
  },
  {
   "cell_type": "code",
   "execution_count": 6,
   "metadata": {
    "collapsed": false,
    "deletable": true,
    "editable": true
   },
   "outputs": [],
   "source": [
    "## ONLY RUN THIS ONCE - THIS CELL PERFORMS THE SET-UP FOR THE PIECE\n",
    "import PydalChanel as pydal\n",
    "from LFOFM import *\n",
    "\n",
    "read = pydal.read\n",
    "\n",
    "wavePlayer = WavePlayer()\n",
    "ch1 = pydal.newChannel(1)\n",
    "def play(patStr, time=1):\n",
    "    ch1.play(read(patStr, time, \"max\"))\n",
    "def stop():\n",
    "    ch1.stop()\n",
    "pat = \"a\""
   ]
  },
  {
   "cell_type": "code",
   "execution_count": 18,
   "metadata": {
    "collapsed": false
   },
   "outputs": [],
   "source": [
    "play(\"{a a, {~ ~, c c d}}\")"
   ]
  },
  {
   "cell_type": "markdown",
   "metadata": {},
   "source": [
    "## CELL A - run this to play a pattern"
   ]
  },
  {
   "cell_type": "code",
   "execution_count": null,
   "metadata": {
    "collapsed": true
   },
   "outputs": [],
   "source": [
    "# \"pat\" can be any string that has a valid syntax. In the cells below, \n",
    "# I'll give examples of that syntax and explain its rules.\n",
    "play(pat)\n",
    "\n",
    "#After running this cell, you should hear a steady kick drum pulse"
   ]
  },
  {
   "cell_type": "markdown",
   "metadata": {},
   "source": [
    "## CELL B - run this to stop the audio"
   ]
  },
  {
   "cell_type": "code",
   "execution_count": 19,
   "metadata": {
    "collapsed": false,
    "deletable": true,
    "editable": true
   },
   "outputs": [],
   "source": [
    "stop()"
   ]
  },
  {
   "cell_type": "markdown",
   "metadata": {},
   "source": [
    "## SECTION 1 - Patterns\n",
    "Below are various different patterns. To hear how they sound, it ctrl+ENTER in the cell of the pattern, then go back and click into Cell A and run it to hear the pattern (and click into Cell B and run that to stop it). The comments in the cell will explain what the pattern syntax is and how you can use it to generate some pretty crazy rhythms. **`\"a\"`** **`\"b\"`** **`\"c\"`** and **`\"d\"`** refer to the 4 buffers that you can record to, but to make these tutorial patterns sound better, they have been preloaded with bass drum, snare, rim, and high hat sounds respectively. Section 2, at the end of the tutorial, explains syntax related to splicing the audio (e.g the difference betwee a, a:3, or a:1.5_1.75). Also, the **`~`** symbol is effectively a \"rest\"."
   ]
  },
  {
   "cell_type": "markdown",
   "metadata": {},
   "source": [
    "###### Example 1 - the basics \n",
    "The core idea that the pattern syntax is based off of is the notion of subdividing a beat. If you run this pattern, you'll hear a steady bass drum kick - that's the speed of the beat (or the \"cycle\", or the \"pulse\", whatever you want to call it) that we'll be subdividing."
   ]
  },
  {
   "cell_type": "code",
   "execution_count": 3,
   "metadata": {
    "collapsed": true
   },
   "outputs": [],
   "source": [
    "pat = \"a\""
   ]
  },
  {
   "cell_type": "markdown",
   "metadata": {},
   "source": [
    "###### Example 2 - subdividing the beat\n",
    "Running the pattern below will give you a kick drum beat at 2x the speed of the pattern above. Similarly, **`\"a a a\"`** or **`\"a a a a\"`** will subdivide the pulse to 3x or 4x of the initial length. (Try it! Replace the string **`\"a a\"`** with **`\"a a a\"`**, run the cell to set the pat variable, and then go back and run Cell A."
   ]
  },
  {
   "cell_type": "code",
   "execution_count": null,
   "metadata": {
    "collapsed": true
   },
   "outputs": [],
   "source": [
    "pat = \"a a\""
   ]
  },
  {
   "cell_type": "markdown",
   "metadata": {},
   "source": [
    "##### Example 3 - grouping\n",
    "So what if you want patterns that aren't just even divisions of the pulse? You can group patterns together with []. In the pattern in the cell below, the pattern is first subdivided into 2, so both **`a`** and **`[a a]`** will take up half of the time of the pulse. Then **`[a a]`** is further subdivided into 2. Thus, you'll end up with a pattern with hits with inter-onset-intervals of 0.5 0.25 0.25 (where 1 is the whole pulse). Similarly **`\"a [a a a]\"`** would give you 1/2 1/6 1/6 1/6. You can even do this recursively - **`\"a [a [a a]]\"`** would give you 0.5 0.25 0.125 0.125. Try it and play around! "
   ]
  },
  {
   "cell_type": "code",
   "execution_count": null,
   "metadata": {
    "collapsed": true,
    "deletable": true,
    "editable": true
   },
   "outputs": [],
   "source": [
    "pat = \"a [a a]\""
   ]
  },
  {
   "cell_type": "markdown",
   "metadata": {},
   "source": [
    "###### Example 4 - a syntactic shortcut for repetition\n",
    "Lets say you want a pattern like **`\"[a a a a]\"`**. Seems a bit redundant right? Well there is an easier way to write even-subdivison reptitions of the same symbol. You can write **`\"a*4\"`** instead. Try some variations like **`\"a*2 b\"`** or **`\"a*2 b*3\"`**. You can even use the **`*`** operator on bracketed subpatterns (e.g **`\"[a b]*2\"`**) "
   ]
  },
  {
   "cell_type": "code",
   "execution_count": null,
   "metadata": {
    "collapsed": true
   },
   "outputs": [],
   "source": [
    "pat = \"a*2\""
   ]
  },
  {
   "cell_type": "markdown",
   "metadata": {},
   "source": [
    "###### Example 5 - overlaying patterns using [ ] brackets\n",
    "The **`[]`** brackets have another use - you can use them to overlay patterns on top of each other. Square brackets are used to overlay two patterns such that their total time is the same. The examaple below gives us a 3 over 2 pattern of hi hat over bass drum (note, the pattern below is equivalent to **`\"[a*2, b*3]\"`**. Play around with some examples like **`\"[a a a, [c d]*2]\"`** or **`[a b, c [c d]*2]\"`**"
   ]
  },
  {
   "cell_type": "code",
   "execution_count": null,
   "metadata": {
    "collapsed": true
   },
   "outputs": [],
   "source": [
    "pat = \"[a a, d d d]\""
   ]
  },
  {
   "cell_type": "markdown",
   "metadata": {},
   "source": [
    "###### Example 6 - overlaying patterns using { } brackets\n",
    "The **`{ }`** brackets offer a different way to overlay patterns. Rather than overlaying the pattern such that their total time is the same, it overlays patterns such that their top level divisions have the same time length. For example, in the pattern below, you'll hear a steady bass drum pattern at half the speed of the pulse, and a rotating beat of snare, rim, and hi hat over it. This effectively gives us a pattern that repeats every 1.5 beats (since the **`b c d`** pattern is 3/2 the duration of the **`a a`** pattern. This can lead to some interesting phasing results. Try **`{a a, {~ ~, c*2 c d}`** (remember **`~`** is a \"rest\")."
   ]
  },
  {
   "cell_type": "code",
   "execution_count": null,
   "metadata": {
    "collapsed": true
   },
   "outputs": [],
   "source": [
    "pat = \"{a a, b c d}\""
   ]
  },
  {
   "cell_type": "markdown",
   "metadata": {},
   "source": [
    "###### Slowing things down - adding another argument to the play( ) function\n",
    "So "
   ]
  },
  {
   "cell_type": "code",
   "execution_count": null,
   "metadata": {
    "collapsed": true
   },
   "outputs": [],
   "source": []
  }
 ],
 "metadata": {
  "celltoolbar": "Raw Cell Format",
  "kernelspec": {
   "display_name": "Python 2",
   "language": "python",
   "name": "python2"
  },
  "language_info": {
   "codemirror_mode": {
    "name": "ipython",
    "version": 2
   },
   "file_extension": ".py",
   "mimetype": "text/x-python",
   "name": "python",
   "nbconvert_exporter": "python",
   "pygments_lexer": "ipython2",
   "version": "2.7.13"
  }
 },
 "nbformat": 4,
 "nbformat_minor": 2
}
