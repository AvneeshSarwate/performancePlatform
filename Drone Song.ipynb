{
 "cells": [
  {
   "cell_type": "code",
   "execution_count": 1,
   "metadata": {
    "collapsed": false,
    "deletable": true,
    "editable": true
   },
   "outputs": [],
   "source": [
    "from fh import FH \n",
    "import fh\n",
    "from treeBuilder import TreeBuilder as TB\n",
    "import PydalChanel as pydal\n",
    "import copy\n",
    "import pickle\n",
    "import arpeggiator\n",
    "from spatializer import Spatializer\n",
    "\n",
    "lp = FH()\n",
    "\n",
    "\n",
    "oneHitShift = fh.oneHitShift\n",
    "\n",
    "read = pydal.read\n",
    "end = pydal.end\n",
    "tempo = pydal.tempo\n",
    "rootScale = lp.rootScale\n",
    "stripSymbols = lambda beats : map(lambda beat : list(beat[1])[0], beats)\n",
    "\n",
    "ch1 = pydal.newChannel(1)\n",
    "ch2 = pydal.newChannel(2)\n",
    "ch3 = pydal.newChannel(3)\n",
    "ch4 = pydal.newChannel(4)\n",
    "ch5 = pydal.newChannel(5)\n",
    "\n",
    "idv = lambda a : a\n",
    "codec = lambda buf: fh.noteListToHitList(fh.flattenByBeat(fh.notesByBeat(fh.hitListToNoteList(buf))))"
   ]
  },
  {
   "cell_type": "code",
   "execution_count": 2,
   "metadata": {
    "collapsed": false,
    "deletable": true,
    "editable": true
   },
   "outputs": [],
   "source": [
    "s = Spatializer(60, [[0,1,2,3], [4,5,6,7], [8,9,10,11]], lp)\n",
    "s.spatialize = False\n",
    "s.separateChannels = True\n",
    "lp.addForwardingHandler(1, s)\n",
    "s.loadChordsFromFile(\"droneSong3.chords\")\n",
    "lp.loadScenesFromFile(\"droneSongParams.scenes\")\n",
    "lp.playScene(1)\n",
    "def toggleSustain():\n",
    "    s.sustaining = not s.sustaining\n",
    "def toggleSeparateChannels():\n",
    "    s.separateChannels = not s.separateChannels\n",
    "lp.topRowFunctions[0] = toggleSustain\n",
    "lp.topRowFunctions[1] = toggleSeparateChannels\n",
    "# have 3 rows of chords\n",
    "# 1 - theme1, 2 - variation, 3 - \"climax\" of theme1 statement\n",
    "# need - theme1 variant with strongly resolving cadence\n",
    "#      - theme2 - a minor theme (borrow/rearrange a minor sequence from theme 1, add diminished chords?)\n",
    "#      - variation on theme2\n",
    "#      - a similar \"climax\" on theme 2 - strong movements of a minor flavor\n",
    "#      - a transition to or restatement of the \"climax\" of theme 1 \n",
    "#      - a restatement of the theme1 variant with the most strongly resolving cadence (last 3 chords already written)\n",
    "# TODO - add option to leave shared notes between chord transitions on to allow longer synth decay\n",
    "#      - find (at least) 4 different parameter points for the synth \n",
    "#      - think of some temporal scheme/pattern for how the synth sound changes\n",
    "\n",
    "# note - move keys \"down\" a row to access lower notes and visualize chords properly\n",
    "\n",
    "# 8 \"lines\"\n",
    "# l,2,3 - rows 1,2,3 - 1 beat per chord, 2 beats on last\n",
    "# 4 - row 3 - 1248537 - 1 beat per chord, 2 beats on last\n",
    "# 5,6 - row 4 - 12545456 then 1-8\n",
    "# 7 - row 1 - 123, row 3 - 34567 1 beat per chord, 2 beats on last\n",
    "# 8 - row 3 - 1234, row 6 - 567 1 beat per chord, 2 beats on last"
   ]
  },
  {
   "cell_type": "code",
   "execution_count": null,
   "metadata": {
    "collapsed": true,
    "deletable": true,
    "editable": true
   },
   "outputs": [],
   "source": [
    "s.playChord(s.savedChords[5])"
   ]
  },
  {
   "cell_type": "code",
   "execution_count": null,
   "metadata": {
    "collapsed": false,
    "deletable": true,
    "editable": true
   },
   "outputs": [],
   "source": [
    "lp.saveScenesToFile(\"droneSongParams.scenes\")"
   ]
  },
  {
   "cell_type": "code",
   "execution_count": null,
   "metadata": {
    "collapsed": true,
    "deletable": true,
    "editable": true
   },
   "outputs": [],
   "source": [
    "'''\n",
    "bd 3\n",
    "lt\n",
    "sn 5\n",
    "ho\n",
    "hc \n",
    "bot 1\n",
    "bin \n",
    "bend\n",
    "2 freebie - rd:1? bin:1? cp? bend? sn3?\n",
    "'''\n",
    "\n",
    "a = read('[bd sn]*2 rd:1 [bd sn]*2 [rd:1 ~ ~ rd:1] [~ rd:1]', 5)\n",
    "a1 = read('[~ <sn, ~>]*2 bin [~ sn]*2 [rd:1 ~ ~ bin] [~ rd:1]', 5)\n",
    "b = read(\"~ [lt lt ~]\", 1.5)\n",
    "c = read(\"bd:3 <bd:3, bd> ~\")\n",
    "br = read(\"(bd*2, [bd:3 bd:3] bd) [sn:5 [bd sn:3]] [[bd sn:3] bd] <sn:5 [bd sn:3], <sn:5*4, sn:5*2 ~, sn:5*2 [sn:5 ~]>>\", 4)\n",
    "d = read(\"bd:3 bd:3 <sn:5, ~, bd:3*2> <bd:3, bd:3*2> bd:3 sn:5 bd sn:5*2\", 4)\n",
    "e = read(\"{[bin <bin:1, bin, bin*2> bin bot, hc <hc, ho>], bd sn:3}\")\n",
    "f = read(\"[hc ~] [bend ~] ([~ bin], [bin ~])\", 3)\n",
    "g = read(\"((lt,  bd, <lt, bd>, <lt, bd>)*4, sn:3 (~, <sn:3, ~>))\")\n",
    "h = read(\"{lt*3, <hc hc, bd sn>, (cp cp:3, bin) [bd sn]}\")\n",
    "demo = read(\"{lt bd bd*3, hc ho}\")"
   ]
  },
  {
   "cell_type": "code",
   "execution_count": null,
   "metadata": {
    "collapsed": false,
    "deletable": true,
    "editable": true
   },
   "outputs": [],
   "source": [
    "ch1.stop()"
   ]
  },
  {
   "cell_type": "code",
   "execution_count": null,
   "metadata": {
    "collapsed": false,
    "deletable": true,
    "editable": true
   },
   "outputs": [],
   "source": [
    "def sendParams(bank, visualize=True, sonify=False):\n",
    "    banksToString = lambda a: \"-\".join(map(lambda bank: \".\".join(map(lambda slot: \",\".join(map(str,slot)), bank)), a))\n",
    "    currentFadersToString = lambda bank: \".\".join(map(lambda slot: \",\".join(map(str,slot)), bank))\n",
    "    if visualize:\n",
    "        lp.currentFaderVals[2] = bank\n",
    "    if sonify:\n",
    "        lp.currentFaderVals[1] = bank\n",
    "    msg = OSC.OSCMessage()\n",
    "    msg.setAddress(\"/loadSceneFaders\")\n",
    "    msg.append(banksToString(lp.faderBanks))\n",
    "    msg.append(currentFadersToString(lp.currentFaderVals))\n",
    "    lp.superColliderClient.send(msg)"
   ]
  },
  {
   "cell_type": "code",
   "execution_count": null,
   "metadata": {
    "collapsed": true,
    "deletable": true,
    "editable": true
   },
   "outputs": [],
   "source": [
    "# coolParams = []\n",
    "coolParams.append(lp.currentFaderVals[1])"
   ]
  },
  {
   "cell_type": "code",
   "execution_count": null,
   "metadata": {
    "collapsed": false,
    "deletable": true,
    "editable": true
   },
   "outputs": [],
   "source": [
    "sendParams([0]*12, sonify=True)"
   ]
  },
  {
   "cell_type": "code",
   "execution_count": null,
   "metadata": {
    "collapsed": false,
    "deletable": true,
    "editable": true
   },
   "outputs": [],
   "source": [
    "import numpy as np\n",
    "import matplotlib.pyplot as plt\n",
    "\n",
    "N = 12\n",
    "menMeans = [60]*12\n",
    "\n",
    "ind = np.arange(N)  # the x locations for the groups\n",
    "width = 0.35       # the width of the bars\n",
    "\n",
    "fig, ax = plt.subplots()\n",
    "rects1 = ax.bar(ind, menMeans, width, color='r')\n",
    "\n",
    "\n",
    "# add some text for labels, title and axes ticks\n",
    "ax.set_ylabel('Scores')\n",
    "ax.set_title('Scores by group and gender')\n",
    "ax.set_xticks(ind + width)\n",
    "ax.set_xticklabels(('G1', 'G2', 'G3', 'G4', 'G5'))\n",
    "\n",
    "ax.legend((rects1[0]), ('params'))\n",
    "\n",
    "\n",
    "def autolabel(rects):\n",
    "    # attach some text labels\n",
    "    for rect in rects:\n",
    "        height = rect.get_height()\n",
    "        ax.text(rect.get_x() + rect.get_width()/2., 1.05*height,\n",
    "                '%d' % int(height),\n",
    "                ha='center', va='bottom')\n",
    "\n",
    "autolabel(rects1)\n",
    "\n",
    "plt.show()"
   ]
  },
  {
   "cell_type": "code",
   "execution_count": null,
   "metadata": {
    "collapsed": false,
    "deletable": true,
    "editable": true
   },
   "outputs": [],
   "source": [
    "s.heldNotesOff(1)"
   ]
  },
  {
   "cell_type": "code",
   "execution_count": null,
   "metadata": {
    "collapsed": false,
    "deletable": true,
    "editable": true
   },
   "outputs": [],
   "source": [
    "lp.startChannel(1, lambda buf: fh.spatialize(buf, lp.roots[0], [[0,1,2,3], [4,5,6,7], [8,9,10,11]]), lp.loops[0][0])"
   ]
  },
  {
   "cell_type": "code",
   "execution_count": null,
   "metadata": {
    "collapsed": false,
    "deletable": true,
    "editable": true
   },
   "outputs": [],
   "source": [
    "lp.stopChannel(1)"
   ]
  },
  {
   "cell_type": "code",
   "execution_count": null,
   "metadata": {
    "collapsed": false,
    "deletable": true,
    "editable": true
   },
   "outputs": [],
   "source": [
    "a = read(\"{bd (lt*2, lt, lt), hc <~, sn hc> ~ hc:2}\")\n",
    "b = read(\"{(bd ~, sn:3 <~, cp>)}\")\n",
    "c = read(\"((bd:2*2, [bd:3 bd:3] bd), [sn:5 [bd sn:3]], [[bd sn:3] bd], <sn:6 [bd sn:3], <sn:6*4, sn:6*2 ~, sn:6*2 [sn:6 ~]>>)\")\n",
    "c2 = read(\"(bd:2*2, [bd:3 bd:3] bd) [sn:5 [bd sn:3]] [[bd sn:3] bd] <sn:6 [bd sn:3], <sn:6*4, sn:6*2 ~, sn:6*2 [sn:6 ~]>>\", 4)\n",
    "d = read(\"{~ ~, bin ~ bin ~}\")\n",
    "e = read(\"{[bin <bin:1, bin, bin*2> bin bot, hc <hc, ho>], bd sn:3}\")\n",
    "\n",
    "'''\n",
    "bd 3\n",
    "lt\n",
    "sn 5\n",
    "cp\n",
    "hc:1 \n",
    "ho\n",
    "bot\n",
    "bin \n",
    "bend:2\n",
    "1 freebie \n",
    "'''\n",
    "\n",
    "demo = read(\"bend:2 bin\")\n",
    "\n",
    "f = read(\"aa:4_4.75*2 aa:5_5.75*3\", 2, 'sample')\n",
    "f2 = read(\"hc*2 cp*3\", 2)\n",
    "d2 = read(\"{~ ~ , bd ~ sn:3 ~}\", 4)\n",
    "g = read(\"{~ ~ , ab:0_2 ~ ab:3_5 ~}\", 4, 'sample')"
   ]
  },
  {
   "cell_type": "code",
   "execution_count": null,
   "metadata": {
    "collapsed": false,
    "deletable": true,
    "editable": true
   },
   "outputs": [],
   "source": [
    "ch1.stop()"
   ]
  },
  {
   "cell_type": "code",
   "execution_count": null,
   "metadata": {
    "collapsed": false,
    "deletable": true,
    "editable": true
   },
   "outputs": [],
   "source": [
    "s.saveChordsToFile(\"droneSong3.chords\")"
   ]
  },
  {
   "cell_type": "code",
   "execution_count": null,
   "metadata": {
    "collapsed": false,
    "deletable": true,
    "editable": true
   },
   "outputs": [],
   "source": [
    "rootScale(1, lp.roots[1], \"maj5\")"
   ]
  },
  {
   "cell_type": "code",
   "execution_count": null,
   "metadata": {
    "collapsed": false,
    "deletable": true,
    "editable": true
   },
   "outputs": [],
   "source": [
    "lp.startChannel(1, lambda buf: fh.randTranspose(buf, lp.roots[1], lp.scales[1]), lp.loops[1][0])"
   ]
  },
  {
   "cell_type": "code",
   "execution_count": null,
   "metadata": {
    "collapsed": true,
    "deletable": true,
    "editable": true
   },
   "outputs": [],
   "source": [
    "lp.stopChannel(1)"
   ]
  },
  {
   "cell_type": "code",
   "execution_count": null,
   "metadata": {
    "collapsed": false,
    "deletable": true,
    "editable": true
   },
   "outputs": [],
   "source": [
    "lp.startChannel(1, lambda buf: fh.warp(buf, 3, 1), lp.loops[1][3])"
   ]
  }
 ],
 "metadata": {
  "kernelspec": {
   "display_name": "Python 2",
   "language": "python",
   "name": "python2"
  },
  "language_info": {
   "codemirror_mode": {
    "name": "ipython",
    "version": 2
   },
   "file_extension": ".py",
   "mimetype": "text/x-python",
   "name": "python",
   "nbconvert_exporter": "python",
   "pygments_lexer": "ipython2",
   "version": "2.7.13"
  }
 },
 "nbformat": 4,
 "nbformat_minor": 0
}
