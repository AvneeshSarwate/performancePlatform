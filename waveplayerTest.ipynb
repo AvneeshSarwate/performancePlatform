{
 "cells": [
  {
   "cell_type": "code",
   "execution_count": 1,
   "metadata": {
    "collapsed": true,
    "deletable": true,
    "editable": true
   },
   "outputs": [],
   "source": [
    "from LFOFM import *"
   ]
  },
  {
   "cell_type": "code",
   "execution_count": 2,
   "metadata": {
    "collapsed": false,
    "deletable": true,
    "editable": true
   },
   "outputs": [
    {
     "name": "stdout",
     "output_type": "stream",
     "text": [
      "triwav.(1,0,500,triwav.(3,0,sinwav.(sawwav.(5,0,1,0,time),0,0.333333333333,0.0,time),0.0,time),time)\n"
     ]
    }
   ],
   "source": [
    "t = Tri()*500\n",
    "sw = Saw(5)\n",
    "s1 = t + (Tri(3)*Sin(freq=sw)) / 3.0\n",
    "s2 = (Tri(3)*Saw(5))\n",
    "print str(s1)"
   ]
  },
  {
   "cell_type": "code",
   "execution_count": 3,
   "metadata": {
    "collapsed": false,
    "deletable": true,
    "editable": true
   },
   "outputs": [],
   "source": [
    "wavePlayer = WavePlayer()\n",
    "# wavePlayer.startWave(1, Sin()*10)"
   ]
  },
  {
   "cell_type": "code",
   "execution_count": 8,
   "metadata": {
    "collapsed": true,
    "deletable": true,
    "editable": true
   },
   "outputs": [],
   "source": [
    "wavePlayer.startWaveOSC(\"/sampLoop/1/shift\", t)\n",
    "wavePlayer.stopWave(\"/sampLoop/1/shift\")"
   ]
  },
  {
   "cell_type": "code",
   "execution_count": null,
   "metadata": {
    "collapsed": false,
    "deletable": true,
    "editable": true
   },
   "outputs": [],
   "source": [
    "wavePlayer.stopWave(80)\n",
    "wavePlayer.stopWave(81)\n",
    "wavePlayer.stopWave(82)"
   ]
  },
  {
   "cell_type": "code",
   "execution_count": null,
   "metadata": {
    "collapsed": true,
    "deletable": true,
    "editable": true
   },
   "outputs": [],
   "source": [
    "wavePlayer.startWave(80, Sin(4)*30+20)\n",
    "wavePlayer.startWave(82, Tri(0.2)*60)\n",
    "f = (Saw(freq=0.3)*3+Sin(freq=1.5))\n",
    "t2 = Saw()\n",
    "t = Tri(phase=f)*30\n",
    "wavePlayer.startWave(81, t)\n",
    "## you want to plug a wave into the phase param, not the freq param"
   ]
  },
  {
   "cell_type": "code",
   "execution_count": null,
   "metadata": {
    "collapsed": false,
    "deletable": true,
    "editable": true
   },
   "outputs": [],
   "source": [
    "str Tri((Saw(freq=0.3)*3+Sin(freq=1.5))/30.0)*30"
   ]
  },
  {
   "cell_type": "code",
   "execution_count": null,
   "metadata": {
    "collapsed": false,
    "deletable": true,
    "editable": true
   },
   "outputs": [],
   "source": [
    "print str(t)"
   ]
  },
  {
   "cell_type": "code",
   "execution_count": null,
   "metadata": {
    "collapsed": false,
    "deletable": true,
    "editable": true
   },
   "outputs": [],
   "source": [
    "from spatializer import Spatializer\n",
    "from fh import FH \n",
    "lp = FH()\n",
    "s = Spatializer(60, [[0,1,2,3], [4,5,6,7], [8,9,10,11]], lp)\n",
    "s.spatialize = False\n",
    "s.separateChannels = False\n",
    "s.sustaining = True\n",
    "lp.addForwardingHandler(2, s)"
   ]
  },
  {
   "cell_type": "code",
   "execution_count": null,
   "metadata": {
    "collapsed": true,
    "deletable": true,
    "editable": true
   },
   "outputs": [],
   "source": [
    "(\"x--x--x--x---\", 60, \"i: a\")"
   ]
  }
 ],
 "metadata": {
  "kernelspec": {
   "display_name": "Python 2",
   "language": "python",
   "name": "python2"
  },
  "language_info": {
   "codemirror_mode": {
    "name": "ipython",
    "version": 2
   },
   "file_extension": ".py",
   "mimetype": "text/x-python",
   "name": "python",
   "nbconvert_exporter": "python",
   "pygments_lexer": "ipython2",
   "version": "2.7.13"
  }
 },
 "nbformat": 4,
 "nbformat_minor": 2
}
