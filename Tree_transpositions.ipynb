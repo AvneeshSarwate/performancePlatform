{
 "cells": [
  {
   "cell_type": "code",
   "execution_count": 1,
   "metadata": {
    "collapsed": false
   },
   "outputs": [],
   "source": [
    "import fh\n",
    "from fh import FH\n",
    "from treeBuilder import TreeBuilder\n",
    "import treeBuilder\n",
    "import PydalChanel as pydal\n",
    "import copy\n",
    "import random\n",
    "import itertools\n",
    "\n",
    "# algorithmically generate the tree traversals\n",
    "# have harmonic tree, and separately have a rhythmic/phrasing tree\n",
    "\n",
    "# dimensions that can be varried per instrument:\n",
    "# base rhythm, root note, \n",
    "# rhythmic permutation root/traversal \n",
    "# melodic variation root/traversal\n",
    "\n",
    "# 4 values for each of the 6 parameters above \n",
    "# have a tree that creates variations of a 4d vector with values [1,2,3,4]\n",
    "# this tree is the \"arrangement tree\" \n",
    "# - have a traverser on the tree for each parameter\n",
    "# - the value of the vector for each parameter determines what paramter value each instrument has\n",
    "\n",
    "# it is important that there is \"coordinated change\" i.e. that some parameters change\n",
    "# between instruments in the same way at the same time.\n",
    "# A way to do this is to have all 6 parameter traversers start at the same node\n",
    "# in the arrangment tree, and have groups of traversers follow identical paths\n",
    "\n",
    "# a the vector of the 6 arrangement traverser node positions be a \"thematic point\"\n",
    "# pick a handful of thematic points, create a sequence of them\n",
    "# - that is the \"outline\" of the composition\n",
    "# the arangement traversers will pathfind their way between these thematic points,\n",
    "# with groups traversers moving in identical paths as described above\n",
    "\n",
    "# how to create these paths?\n",
    "\n",
    "\n",
    "# ------------------------------------------------------------------------------------------\n",
    "# ------------------------------------------------------------------------------------------\n",
    "# the melody playing on each instrument can be represented by a 6 dimensional vector\n",
    "# (1 value for each of the 6 parameters listed above). \n",
    "# A \"transformation\" is a change to that vector\n",
    "# Two transformations can be said to be of the same \"type\" if they affect the same\n",
    "# set of dimensions in the vector. \n",
    "# Two or more instruments simultaneosly undergoing transformations of the same\n",
    "# \"type\" is an instance of coordinated change \n",
    "\n",
    "# Create a list of matricies with vectors of the above type. they are the \"outline\" of the composition\n",
    "# Randomly apply variation functions as described above, slowly attempting to interpolate from\n",
    "# one matrix to another. \n",
    "# Dynamically construct variation trees as a \"memory\" structure during the interpolation. \n",
    "# Revisit older branches/traversals from the varation tree later on, reapplying the same sequence of \n",
    "# transformation \"types\" as used before\n",
    "\n",
    "lp = FH()\n",
    "tempo = pydal.tempo\n",
    "\n",
    "buf2chan = lambda buf, chan: map(lambda elem: elem[:3] + [chan, elem[-1]], buf)\n",
    "dropOctave = lambda buf, numOctaves: map(lambda elem: [elem[0], max(elem[1]-(12*numOctaves),0)] + elem[2:], buf)\n",
    "getVec = lambda treeInd, traversalInd : trees[treeInd].executeStepwise(traversals[traversalInd])"
   ]
  },
  {
   "cell_type": "code",
   "execution_count": 2,
   "metadata": {
    "collapsed": false
   },
   "outputs": [],
   "source": [
    "tree = TreeBuilder([0]*8, fh.transformTranspositionVector, 6, lambda depth: 5)\n",
    "melodyTrees = [copy.deepcopy(tree) for i in range(4)]\n",
    "melodyTrees[0].execute(\"\\/ \\/\")\n",
    "melodyTrees[1].execute(\"\\/:1 \\/\")\n",
    "melodyTrees[2].execute(\"\\/:2 \\/\")\n",
    "melodyTrees[3].execute(\"\\/:3 \\/\")\n",
    "\n",
    "tree = TreeBuilder(range(8), fh.oneHitShift, 6, lambda depth: 5)\n",
    "rhythmTrees = [copy.deepcopy(tree) for i in range(4)]\n",
    "rhythmTrees[0].execute(\"\\/ \\/\")\n",
    "rhythmTrees[1].execute(\"\\/:1 \\/\")\n",
    "rhythmTrees[2].execute(\"\\/:2 \\/\")\n",
    "rhythmTrees[3].execute(\"\\/:3 \\/\")\n",
    "\n",
    "lp.roots[3] = 60\n",
    "lp.scales[3] = lp.scales[2]\n",
    "\n",
    "sectionPoints = [[[random.choice(range(4)) for i in range(4)] for j in range(4)] for k in range(8)]\n",
    "\n"
   ]
  },
  {
   "cell_type": "code",
   "execution_count": 76,
   "metadata": {
    "collapsed": true
   },
   "outputs": [],
   "source": [
    "# \"traversal\" - a \"random walk\" from a root that generates a tree.\n",
    "# the random walk should have weights s.t. the root is hit more often\n",
    "# than gen 1, which is hit more than gen 2 (and so on) and that earlier\n",
    "# generated siblings are traversed to more than later generated siblings.\n",
    "# undefined whether newer siblings are more or less common than nodes in \n",
    "# the next generation.\n",
    "\n",
    "# simple implementation - markov model, 5 sibling limit\n",
    "# .3 - to parent, \n",
    "# .25 to child (.06 base, with remainder divided by i*k for ith child (lower i is newer), \n",
    "#    k s.t it all adds up, with p(newChild) same as having one newer child\n",
    "# .45 to sibs (total), with similar division between sibs as for child (can transition to self)\n",
    "# for root - .2 probability transition to self, per child prob divided as above \n",
    "def weighted_choice(choices):\n",
    "    total = sum(w for w, c in choices)\n",
    "    r = random.uniform(0, total)\n",
    "    upto = 0\n",
    "    for w, c in choices:\n",
    "        if upto + w >= r:\n",
    "            #print \"selected choice\", c\n",
    "            return c\n",
    "        upto += w\n",
    "    assert False, \"Shouldn't get here\"\n",
    "\n",
    "def treeStep(arrangementTree, newNodeAllowed=False):\n",
    "    node = tree.currentNode\n",
    "    n = len(node.children)\n",
    "    #returns distribution over move-to-child/new-child\n",
    "    def childChoices(childTotalP, childBaseP, numChildren, newNodeIncluded): \n",
    "        num = numChildren+1 if newNodeIncluded else numChildren\n",
    "        piece = (childTotalP - childBaseP*(num)) / sum(range(num))\n",
    "        return [childBaseP + (num-i-1)*piece for i in range(num)] \n",
    "    if tree.currentNode == tree.root:\n",
    "        prepAction = \"\"\n",
    "        rootP = 0.2\n",
    "        pChildren = childChoices(.8, .1, len(node.children), newNodeIncluded)\n",
    "        choices = [(rootP, '_')] + [(pChildren[i], '\\/:'+str(i)) for i in range(n)] \n",
    "        if newNodeAllowed:\n",
    "            choice += [(pChildren[-1], '\\/!')]\n",
    "    else:\n",
    "        prepAction = \"^ \\/\"\n",
    "        tree.execute(prepAction) #makes \"move to nth sibling\" (rather than nth \"next\") logic cleaner \n",
    "        rootP = 0.3\n",
    "        pChildren = childChoices(.25, .06, len(node.children), newNodeIncluded)\n",
    "        pSiblings = childChoices(.45, .11, len(node.parent.children), newNodeIncluded)\n",
    "        choices = [(rootP, '^')] + [(pChildren[i], '\\/:'+str(i)) for i in range(n)]  \\\n",
    "            + [(pChildren[i], '>:'+str(i)) for i in range(n)] \n",
    "        if newNodeAllowed:\n",
    "            choice += [(pSiblings[-1], '< >!'), (pChildren[-1], '\\/!')]\n",
    "    action = weighted_choice(choices)\n",
    "    #print \"selected action\", action\n",
    "    tree.execute(action)\n",
    "    return prepAction + \" \" + action"
   ]
  },
  {
   "cell_type": "code",
   "execution_count": 4,
   "metadata": {
    "collapsed": true
   },
   "outputs": [],
   "source": [
    "# select major themes as random (6*4) matricies - randomly drop instruments?\n",
    "# TODO: have some recursively flavored way to create a repetitive sequence of the themes\n",
    "\n",
    "# iteration - go for 4-8 \"matrix-steps\" then jump, to next theme, \n",
    "# saving both the traversal type list as well as the actual matricies\n",
    "\n",
    "# upon moving to a new theme a second time, randomly decide whether to do a new traversal,\n",
    "# whether to copy a previous traversal type list, or whether to straight up use old matrices\n",
    "# (sometimes, make decision on an instrument by instrument basis)\n",
    "\n",
    "# to actually implement having the \"central arrangement\" handler play the indivudal instrument\n",
    "# melodies in realtime, implement a scheduler that calculates the next melody to play for each\n",
    "# instrument ahead of time, and provides it upon the \"update\" message for the instrument.\n",
    "# Have a threadsafe counter that checks whether all of the instruments are playing the \"on deck\"\n",
    "# melody. when the last instrument update message comes in, calculate the next set of melodies"
   ]
  },
  {
   "cell_type": "code",
   "execution_count": 5,
   "metadata": {
    "collapsed": false,
    "scrolled": true
   },
   "outputs": [
    {
     "data": {
      "text/plain": [
       "([[3, 2, 0, 0], [3, 3, 0, 3], [2, 2, 2, 0], [2, 1, 0, 3]],\n",
       " [[False], [False], [[True, True, False, False]], [[False, True, True, True]]])"
      ]
     },
     "execution_count": 5,
     "metadata": {},
     "output_type": "execute_result"
    }
   ],
   "source": [
    "# rather than using hardcoded parameters for rhythmic/harmonic tree traversals,\n",
    "# use a random walk in the trees, and save the paths taken at each theme\n",
    "\n",
    "# ignore targetState stuff for now\n",
    "state = [[random.choice(range(4)) for i in range(4)] for j in range(4)]\n",
    "\n",
    "def stateDiff(currentState, targetState):\n",
    "    numParams = len(currentState[0])\n",
    "    numInst = len(currentState)\n",
    "    stateDiff = [[0]*numParams for i in range(numInst)] #True means different\n",
    "    samePairs = set()\n",
    "    diffPairs = set()\n",
    "    if targetState is not None:\n",
    "        for i in range(len(currentState)):\n",
    "            for j in range(len(currentState[i])):\n",
    "                stateDiff[i][j] == currentState[i][j] != targetState[i][j]\n",
    "                if stateDiff[i][j]:\n",
    "                    diffPairs.addd((i,j))\n",
    "                else:\n",
    "                    samePairs.add((i,j))\n",
    "    return (stateDiff, samePairs, diffPairs)\n",
    "    \n",
    "def transformSongMatrix(currentState, targetState=None, towardsTarget=False, pCoordinatedChange=0.2):\n",
    "    newState = copy.deepcopy(currentState)\n",
    "    numParams = len(currentState[0])\n",
    "    numInst = len(currentState)\n",
    "    instruments = [random.choice([True, False]) for i in range(numInst)]\n",
    "    stateDiff = [[0]*numParams for i in range(numInst)] #True means different\n",
    "    samePairs = set()\n",
    "    diffPairs = set()\n",
    "    if targetState is not None:\n",
    "        stateDiff, sampePairs, diffPairs = stateDiff(currentState, targetState)\n",
    "    coordinatedChange = random.uniform(0, 1) < pCoordinatedChange\n",
    "    coordinatedParamsToChange = [random.choice([True, False]) for i in range(numParams)]\n",
    "    transformationType = []\n",
    "    for i in range(len(currentState)):\n",
    "        paramsToChange = [random.choice([True, False]) for k in range(numParams)]\n",
    "        p2c = coordinatedParamsToChange if coordinatedChange else paramsToChange\n",
    "        transformationType.append([p2c if instruments[i] else False])\n",
    "        for j in range(len(currentState[i])):\n",
    "            if instruments[i] and p2c[j]:\n",
    "                currentVal = currentState[i][j]\n",
    "                currentState[i][j] = random.choice([set(range(numInst)) - set([currentVal])])\n",
    "    return (newState, transformationType)\n",
    "\n",
    "transformSongMatrix(state)"
   ]
  },
  {
   "cell_type": "code",
   "execution_count": 71,
   "metadata": {
    "collapsed": true
   },
   "outputs": [],
   "source": [
    "def squashMelodies(*hitLists):\n",
    "    for hl in hitLists:\n",
    "        if None in hl:\n",
    "            print \"GOT ONE\", hl\n",
    "        else:\n",
    "            print \"NAH\", hl\n",
    "    noteLists = map(fh.hitListToNoteList, hitLists)\n",
    "    flattenedNotes = [note for nList in noteLists for note in nList]\n",
    "    flattenedNotes.sort()\n",
    "    return fh.noteListToHitList(flattenedNotes)"
   ]
  },
  {
   "cell_type": "code",
   "execution_count": 73,
   "metadata": {
    "collapsed": false
   },
   "outputs": [],
   "source": [
    "#todo - test traversal get/set as well as everything else\n",
    "#     - test newNodeIncluded in treeTraversal\n",
    "\n",
    "\n",
    "class Section:\n",
    "    \n",
    "    def __init__(self, songMatrix, melodyTrees, rhythmTrees):\n",
    "        self.arrangementTree = TreeBuilder(songMatrix, transformSongMatrix)\n",
    "        self.melodyTrees = melodyTrees\n",
    "        self.rhythmTrees = rhythmTrees\n",
    "        self.arrangementWalk = [songMatrix]\n",
    "        self.rhythmWalk = [[(\"_\", r.getTraversalState(), r.currentNode.value)] for r in rhythmTrees]\n",
    "        self.melodyWalk = [[(\"_\", m.getTraversalState(), m.currentNode.value)] for m in melodyTrees]\n",
    "    \n",
    "    def createVariation(self):\n",
    "        action = treeStep(self.arrangementTree, True)\n",
    "        arrangementWalk.append((action, self.arrangementTree.currentNode.value))\n",
    "        \n",
    "        self.rhythmWalk.append([])\n",
    "        self.melodyWalk.append([])\n",
    "        for r in self.rhythmTrees:\n",
    "            action = treeStep(r)\n",
    "            self.rhythmWalk[-1].append((action, r.getTraversalState(), r.currentNode.value))\n",
    "        for m in self.melodyTrees:\n",
    "            treeStep(m)\n",
    "            self.melodyWalk[-1].append((action, m.getTraversalState(), m.currentNode.value))        \n",
    "\n",
    "class SongState:\n",
    "    def __init__(self, sectionPoints, melodyTrees, rhythmTrees, roots, scales):\n",
    "        self.sectionPoints = sectionPoints\n",
    "        self.roots = roots\n",
    "        self.scales = scales\n",
    "        self.sections = [Section(sectionPoints[0], melodyTrees, rhythmTrees)] \n",
    "        self.stepsInSection = random.randint(4,8)\n",
    "        self.transposes = [0, 3, 7, 11]\n",
    "        self.rhythms = [loop, loop2, loop, loop2]\n",
    "        self.melodyTrees = melodyTrees\n",
    "        self.melodyRoots = [m.getTraversalState() for m in melodyTrees]\n",
    "        self.rhythmTrees = rhythmTrees\n",
    "        self.rhythmRoots = [r.getTraversalState() for r in rhythmTrees]\n",
    "    \n",
    "    def resetTrees(self):\n",
    "        for i in range(self.melodyTrees):\n",
    "            self.melodyTrees[i].setTraversalState(self.melodyRoots[i])\n",
    "            self.rhythmTrees[i].setTraversalState(self.rhythmRoots[i])\n",
    "    \n",
    "    def updateStep(self, placeholderArg):\n",
    "        melodies = self.getMelodies()\n",
    "        self.stepsInSection -= 1\n",
    "        if self.stepsInSection == 0:\n",
    "            self.stepsInSection = random.randint(4,8)\n",
    "            self.resetTrees()\n",
    "            ind = len(self.sections % len(self.sectionPoints))\n",
    "            self.sections.append(Section(self.sectionPoints[ind], self.melodyTrees, self.rhythmTrees))\n",
    "        else:\n",
    "            self.sections[-1].createVariation()\n",
    "        return melodies\n",
    "    \n",
    "    \n",
    "    def generateMelody(self, instInd):\n",
    "        instVec = self.sections[-1].arrangementWalk[-1][instInd]\n",
    "        \n",
    "        #get rhythm\n",
    "        melody = self.rhythms[instVec[0]]\n",
    "        melody = buf2chan(melody, instInd)\n",
    "        \n",
    "        #get root transpose\n",
    "        print instInd, self.roots[instInd], self.scales[instInd], instVec[1]\n",
    "        melody = fh.scaleTranspose(melody, self.roots[instInd], self.scales[instInd], self.transposes[instVec[1]])\n",
    "        \n",
    "        #apply melody transformation\n",
    "        vec = self.sections[-1].melodyWalk[instInd][-1][2]\n",
    "        print instInd, vec, self.roots[instInd], self.scales[instInd]\n",
    "        melody = fh.vectorTranspose(melody, self.roots[instInd], self.scales[instInd], vec)\n",
    "        \n",
    "        #apply rhythm transformation\n",
    "        vec = self.sections[-1].rhythmWalk[instInd][-1][2]\n",
    "        melody = fh.vectorBeatPermute(melody, vec) \n",
    "        return melody\n",
    "    \n",
    "    def getMelodies(self):\n",
    "        melodies = [self.generateMelody(i) for i in range(4)]\n",
    "        return squashMelodies(*melodies)\n",
    "    "
   ]
  },
  {
   "cell_type": "code",
   "execution_count": 7,
   "metadata": {
    "collapsed": false
   },
   "outputs": [],
   "source": [
    "loop = [[0.0, 60, 105, 0, 'on'],\n",
    " [0.20402940171402, 60, 0, 0, 'off'],\n",
    " [0.54597059828598, 60, 106, 0, 'on'],\n",
    " [0.23738891228436, 60, 0, 0, 'off'],\n",
    " [0.51261108771564, 60, 104, 0, 'on'],\n",
    " [0.21680734841448, 60, 0, 0, 'off'],\n",
    " [0.53319265158552, 60, 103, 0, 'on'],\n",
    " [0.21780347927461, 60, 0, 0, 'off'],\n",
    " [0.53219652072539, 60, 108, 0, 'on'],\n",
    " [0.16372601843477, 60, 0, 0, 'off'],\n",
    " [0.33627398156523, 60, 91, 0, 'on'],\n",
    " [0.16410705546696, 60, 0, 0, 'off'],\n",
    " [0.33589294453304, 60, 106, 0, 'on'],\n",
    " [0.18537746576249, 60, 0, 0, 'off'],\n",
    " [0.56462253423751, 60, 103, 0, 'on'],\n",
    " [0.17460586809761, 60, 0, 0, 'off'],\n",
    " [0.57539413190239, 60, 105, 0, 'on'],\n",
    " [0.14310510345877, 60, 0, 0, 'off'],\n",
    " [0.35689489654123, 60, 104, 0, 'on'],\n",
    " [0.12087395538379, 60, 0, 0, 'off'],\n",
    " [0.12912604461621, 60, 91, 0, 'on'],\n",
    " [0.17366323724332, 60, 0, 0, 'off'],\n",
    " [0.32633676275668, 60, 105, 0, 'on'],\n",
    " [0.16298597599166, 60, 0, 0, 'off'],\n",
    " [0.08701402400834, 60, 95, 0, 'on'],\n",
    " [0.17452761168374, 60, 0, 0, 'off'],\n",
    " [0.32547238831626, 60, 116, 0, 'on'],\n",
    " [0.19636576324069, 60, 0, 0, 'off'],\n",
    " [0.30363423675931, 0, 0, 0, 'timeAfterLastHit']]\n",
    "loop2 = [[0.0, 63, 98, 0, 'on'],\n",
    " [0.08077396240185, 63, 0, 0, 'off'],\n",
    " [0.66922603759815, 62, 107, 0, 'on'],\n",
    " [0.14656983480671, 62, 0, 0, 'off'],\n",
    " [0.60343016519329, 60, 103, 0, 'on'],\n",
    " [0.14721199971888, 60, 0, 0, 'off'],\n",
    " [0.60278800028112, 62, 110, 0, 'on'],\n",
    " [0.15809415775112, 62, 0, 0, 'off'],\n",
    " [0.59190584224888, 63, 110, 0, 'on'],\n",
    " [0.14687753298239, 63, 0, 0, 'off'],\n",
    " [0.60312246701761, 65, 101, 0, 'on'],\n",
    " [0.17093161197243, 65, 0, 0, 'off'],\n",
    " [0.57906838802757, 67, 107, 0, 'on'],\n",
    " [0.14678211657241, 67, 0, 0, 'off'],\n",
    " [0.60321788342759, 65, 98, 0, 'on'],\n",
    " [0.13548617451193, 65, 0, 0, 'off'],\n",
    " [0.61451382548807, 63, 109, 0, 'on'],\n",
    " [0.16879031485729, 63, 0, 0, 'off'],\n",
    " [0.58120968514271, 62, 110, 0, 'on'],\n",
    " [0.15891339785867, 62, 0, 0, 'off'],\n",
    " [0.59108660214133, 60, 108, 0, 'on'],\n",
    " [0.14645264142581, 60, 0, 0, 'off'],\n",
    " [0.35354735857419, 0, 0, 0, 'timeAfterLastHit']]"
   ]
  },
  {
   "cell_type": "code",
   "execution_count": 74,
   "metadata": {
    "collapsed": false
   },
   "outputs": [],
   "source": [
    "songState = SongState(sectionPoints, melodyTrees, rhythmTrees, lp.roots, lp.scales)\n",
    "#todo - test traversal get/set as well as everything else\n",
    "#     - test newNodeIncluded in treeTraversal"
   ]
  },
  {
   "cell_type": "code",
   "execution_count": 75,
   "metadata": {
    "collapsed": false
   },
   "outputs": [
    {
     "name": "stdout",
     "output_type": "stream",
     "text": [
      "0 60 [0, 2, 3, 5, 7, 8, 10] 1\n",
      "0 [0, -1, 0, 0, -1, -1, -1, 0] 60 [0, 2, 3, 5, 7, 8, 10]\n",
      "1 60 [0, 2, 3, 5, 7, 8, 10] 2\n",
      "1 [0, 0, 0, 0, 0, 0, 0, -2] 60 [0, 2, 3, 5, 7, 8, 10]\n",
      "2 36 [0, 2, 3, 5, 7, 8, 10] 2\n",
      "2 [0, 0, 0, 0, 1, -1, 0, 0] 36 [0, 2, 3, 5, 7, 8, 10]\n",
      "3 60 [0, 2, 3, 5, 7, 8, 10] 3\n",
      "3 [0, 2, 0, 0, 0, 0, 0, 0] 60 [0, 2, 3, 5, 7, 8, 10]\n",
      "NAH [[0.0, 65, 105, 0, 'on'], [0.20402940171402, 65, 105, 0, 'off'], [0.5459705982859799, 65, 106, 0, 'on'], [0.23738891228436, 65, 106, 0, 'off'], [0.012611087715640013, 63, 104, 0, 'on'], [0.12087395538379031, 63, 104, 0, 'off'], [0.1291260446162097, 63, 91, 0, 'on'], [0.17366323724331956, 63, 91, 0, 'off'], [0.32633676275668044, 63, 105, 0, 'on'], [0.16298597599165987, 63, 105, 0, 'off'], [0.5870140240083401, 63, 104, 0, 'on'], [0.21680734841447968, 63, 104, 0, 'off'], [0.5331926515855203, 65, 103, 0, 'on'], [0.2178034792746102, 65, 103, 0, 'off'], [0.5321965207253898, 65, 108, 0, 'on'], [0.16372601843477064, 65, 108, 0, 'off'], [0.33627398156522936, 65, 91, 0, 'on'], [0.16410705546696036, 65, 91, 0, 'off'], [0.33589294453303964, 63, 106, 0, 'on'], [0.1853774657624898, 63, 106, 0, 'off'], [0.5646225342375102, 63, 103, 0, 'on'], [0.17460586809761036, 63, 103, 0, 'off'], [0.5753941319023896, 63, 105, 0, 'on'], [0.1431051034587698, 63, 105, 0, 'off'], [0.3568948965412302, 65, 95, 0, 'on'], [0.17452761168374042, 65, 95, 0, 'off'], [0.3254723883162596, 65, 116, 0, 'on'], [0.19636576324069033, 65, 116, 0, 'off'], [0.3036342367593097, 0, 0, 0, 'timeAfterLastHit']]\n",
      "NAH [[0.0, 75, 98, 1, 'on'], [0.08077396240185, 75, 98, 1, 'off'], [0.66922603759815, 74, 107, 1, 'on'], [0.14656983480670993, 74, 107, 1, 'off'], [0.35343016519329007, 74, 110, 1, 'on'], [0.1580941577511199, 74, 110, 1, 'off'], [1.09190584224888, 79, 107, 1, 'on'], [0.14678211657241036, 79, 107, 1, 'off'], [0.8532178834275896, 72, 103, 1, 'on'], [0.1472119997188801, 72, 103, 1, 'off'], [0.6027880002811199, 77, 98, 1, 'on'], [0.13548617451193046, 77, 98, 1, 'off'], [0.6145138254880695, 75, 109, 1, 'on'], [0.16879031485729, 75, 109, 1, 'off'], [0.58120968514271, 74, 110, 1, 'on'], [0.15891339785866965, 74, 110, 1, 'off'], [0.09108660214133035, 75, 110, 1, 'on'], [0.1468775329823906, 75, 110, 1, 'off'], [0.6031224670176094, 77, 101, 1, 'on'], [0.17093161197242956, 77, 101, 1, 'off'], [0.5790683880275704, 68, 108, 1, 'on'], [0.14645264142581027, 68, 108, 1, 'off'], [0.35354735857418973, 0, 0, 0, 'timeAfterLastHit']]\n",
      "NAH [[0.0, 75, 98, 2, 'on'], [0.08077396240185, 75, 98, 2, 'off'], [0.66922603759815, 74, 107, 2, 'on'], [0.14656983480670993, 74, 107, 2, 'off'], [0.6034301651932901, 72, 103, 2, 'on'], [0.1472119997188801, 72, 103, 2, 'off'], [0.8527880002811199, 72, 108, 2, 'on'], [0.14645264142581027, 72, 108, 2, 'off'], [0.35354735857418973, 75, 110, 2, 'on'], [0.14687753298239015, 75, 110, 2, 'off'], [0.6031224670176099, 77, 101, 2, 'on'], [0.17093161197243, 77, 101, 2, 'off'], [0.32906838802757, 74, 110, 2, 'on'], [0.1580941577511199, 74, 110, 2, 'off'], [1.09190584224888, 80, 107, 2, 'on'], [0.14678211657241036, 80, 107, 2, 'off'], [0.6032178834275896, 75, 98, 2, 'on'], [0.13548617451193046, 75, 98, 2, 'off'], [0.6145138254880695, 75, 109, 2, 'on'], [0.16879031485729, 75, 109, 2, 'off'], [0.58120968514271, 74, 110, 2, 'on'], [0.15891339785866965, 74, 110, 2, 'off'], [0.09108660214133035, 0, 0, 0, 'timeAfterLastHit']]\n",
      "NAH [[0.5, 86, 107, 3, 'on'], [0.14678211657241036, 86, 107, 3, 'off'], [0.6032178834275896, 84, 98, 3, 'on'], [0.13548617451193046, 84, 98, 3, 'off'], [0.6145138254880695, 82, 98, 3, 'on'], [0.08077396240184997, 82, 98, 3, 'off'], [0.66922603759815, 80, 107, 3, 'on'], [0.14656983480670993, 80, 107, 3, 'off'], [0.6034301651932901, 82, 103, 3, 'on'], [0.1472119997188801, 82, 103, 3, 'off'], [0.6027880002811199, 80, 110, 3, 'on'], [0.1580941577511199, 80, 110, 3, 'off'], [0.5919058422488801, 82, 110, 3, 'on'], [0.1468775329823906, 82, 110, 3, 'off'], [0.6031224670176094, 84, 101, 3, 'on'], [0.17093161197242956, 84, 101, 3, 'off'], [0.07906838802757044, 82, 109, 3, 'on'], [0.16879031485729, 82, 109, 3, 'off'], [0.58120968514271, 80, 110, 3, 'on'], [0.15891339785866965, 80, 110, 3, 'off'], [0.5910866021413304, 79, 108, 3, 'on'], [0.14645264142581027, 79, 108, 3, 'off'], [0.35354735857418973, 0, 0, 0, 'timeAfterLastHit']]\n"
     ]
    },
    {
     "ename": "TypeError",
     "evalue": "childChoices() takes exactly 4 arguments (3 given)",
     "output_type": "error",
     "traceback": [
      "\u001b[0;31m---------------------------------------------------------------------------\u001b[0m",
      "\u001b[0;31mTypeError\u001b[0m                                 Traceback (most recent call last)",
      "\u001b[0;32m<ipython-input-75-f0233347b591>\u001b[0m in \u001b[0;36m<module>\u001b[0;34m()\u001b[0m\n\u001b[0;32m----> 1\u001b[0;31m \u001b[0msongState\u001b[0m\u001b[0;34m.\u001b[0m\u001b[0mupdateStep\u001b[0m\u001b[0;34m(\u001b[0m\u001b[0;36m0\u001b[0m\u001b[0;34m)\u001b[0m\u001b[0;34m\u001b[0m\u001b[0m\n\u001b[0m\u001b[1;32m      2\u001b[0m \u001b[0;31m# songState.sections[0].melodyWalk[0]\u001b[0m\u001b[0;34m\u001b[0m\u001b[0;34m\u001b[0m\u001b[0m\n",
      "\u001b[0;32m<ipython-input-73-ff12deff4da2>\u001b[0m in \u001b[0;36mupdateStep\u001b[0;34m(self, placeholderArg)\u001b[0m\n\u001b[1;32m     54\u001b[0m             \u001b[0mself\u001b[0m\u001b[0;34m.\u001b[0m\u001b[0msections\u001b[0m\u001b[0;34m.\u001b[0m\u001b[0mappend\u001b[0m\u001b[0;34m(\u001b[0m\u001b[0mSection\u001b[0m\u001b[0;34m(\u001b[0m\u001b[0mself\u001b[0m\u001b[0;34m.\u001b[0m\u001b[0msectionPoints\u001b[0m\u001b[0;34m[\u001b[0m\u001b[0mind\u001b[0m\u001b[0;34m]\u001b[0m\u001b[0;34m,\u001b[0m \u001b[0mself\u001b[0m\u001b[0;34m.\u001b[0m\u001b[0mmelodyTrees\u001b[0m\u001b[0;34m,\u001b[0m \u001b[0mself\u001b[0m\u001b[0;34m.\u001b[0m\u001b[0mrhythmTrees\u001b[0m\u001b[0;34m)\u001b[0m\u001b[0;34m)\u001b[0m\u001b[0;34m\u001b[0m\u001b[0m\n\u001b[1;32m     55\u001b[0m         \u001b[0;32melse\u001b[0m\u001b[0;34m:\u001b[0m\u001b[0;34m\u001b[0m\u001b[0m\n\u001b[0;32m---> 56\u001b[0;31m             \u001b[0mself\u001b[0m\u001b[0;34m.\u001b[0m\u001b[0msections\u001b[0m\u001b[0;34m[\u001b[0m\u001b[0;34m-\u001b[0m\u001b[0;36m1\u001b[0m\u001b[0;34m]\u001b[0m\u001b[0;34m.\u001b[0m\u001b[0mcreateVariation\u001b[0m\u001b[0;34m(\u001b[0m\u001b[0;34m)\u001b[0m\u001b[0;34m\u001b[0m\u001b[0m\n\u001b[0m\u001b[1;32m     57\u001b[0m         \u001b[0;32mreturn\u001b[0m \u001b[0mmelodies\u001b[0m\u001b[0;34m\u001b[0m\u001b[0m\n\u001b[1;32m     58\u001b[0m \u001b[0;34m\u001b[0m\u001b[0m\n",
      "\u001b[0;32m<ipython-input-73-ff12deff4da2>\u001b[0m in \u001b[0;36mcreateVariation\u001b[0;34m(self)\u001b[0m\n\u001b[1;32m     14\u001b[0m \u001b[0;34m\u001b[0m\u001b[0m\n\u001b[1;32m     15\u001b[0m     \u001b[0;32mdef\u001b[0m \u001b[0mcreateVariation\u001b[0m\u001b[0;34m(\u001b[0m\u001b[0mself\u001b[0m\u001b[0;34m)\u001b[0m\u001b[0;34m:\u001b[0m\u001b[0;34m\u001b[0m\u001b[0m\n\u001b[0;32m---> 16\u001b[0;31m         \u001b[0maction\u001b[0m \u001b[0;34m=\u001b[0m \u001b[0mtreeStep\u001b[0m\u001b[0;34m(\u001b[0m\u001b[0mself\u001b[0m\u001b[0;34m.\u001b[0m\u001b[0marrangementTree\u001b[0m\u001b[0;34m,\u001b[0m \u001b[0mTrue\u001b[0m\u001b[0;34m)\u001b[0m\u001b[0;34m\u001b[0m\u001b[0m\n\u001b[0m\u001b[1;32m     17\u001b[0m         \u001b[0marrangementWalk\u001b[0m\u001b[0;34m.\u001b[0m\u001b[0mappend\u001b[0m\u001b[0;34m(\u001b[0m\u001b[0;34m(\u001b[0m\u001b[0maction\u001b[0m\u001b[0;34m,\u001b[0m \u001b[0mself\u001b[0m\u001b[0;34m.\u001b[0m\u001b[0marrangementTree\u001b[0m\u001b[0;34m.\u001b[0m\u001b[0mcurrentNode\u001b[0m\u001b[0;34m.\u001b[0m\u001b[0mvalue\u001b[0m\u001b[0;34m)\u001b[0m\u001b[0;34m)\u001b[0m\u001b[0;34m\u001b[0m\u001b[0m\n\u001b[1;32m     18\u001b[0m \u001b[0;34m\u001b[0m\u001b[0m\n",
      "\u001b[0;32m<ipython-input-3-c01b47bae9d5>\u001b[0m in \u001b[0;36mtreeStep\u001b[0;34m(arrangementTree, newNodeAllowed)\u001b[0m\n\u001b[1;32m     34\u001b[0m         \u001b[0mprepAction\u001b[0m \u001b[0;34m=\u001b[0m \u001b[0;34m\"\"\u001b[0m\u001b[0;34m\u001b[0m\u001b[0m\n\u001b[1;32m     35\u001b[0m         \u001b[0mrootP\u001b[0m \u001b[0;34m=\u001b[0m \u001b[0;36m0.2\u001b[0m\u001b[0;34m\u001b[0m\u001b[0m\n\u001b[0;32m---> 36\u001b[0;31m         \u001b[0mpChildren\u001b[0m \u001b[0;34m=\u001b[0m \u001b[0mchildChoices\u001b[0m\u001b[0;34m(\u001b[0m\u001b[0;36m.8\u001b[0m\u001b[0;34m,\u001b[0m \u001b[0;36m.1\u001b[0m\u001b[0;34m,\u001b[0m \u001b[0mlen\u001b[0m\u001b[0;34m(\u001b[0m\u001b[0mnode\u001b[0m\u001b[0;34m.\u001b[0m\u001b[0mchildren\u001b[0m\u001b[0;34m)\u001b[0m\u001b[0;34m)\u001b[0m\u001b[0;34m\u001b[0m\u001b[0m\n\u001b[0m\u001b[1;32m     37\u001b[0m         \u001b[0mchoices\u001b[0m \u001b[0;34m=\u001b[0m \u001b[0;34m[\u001b[0m\u001b[0;34m(\u001b[0m\u001b[0mrootP\u001b[0m\u001b[0;34m,\u001b[0m \u001b[0;34m'_'\u001b[0m\u001b[0;34m)\u001b[0m\u001b[0;34m]\u001b[0m \u001b[0;34m+\u001b[0m \u001b[0;34m[\u001b[0m\u001b[0;34m(\u001b[0m\u001b[0mpChildren\u001b[0m\u001b[0;34m[\u001b[0m\u001b[0mi\u001b[0m\u001b[0;34m]\u001b[0m\u001b[0;34m,\u001b[0m \u001b[0;34m'\\/:'\u001b[0m\u001b[0;34m+\u001b[0m\u001b[0mstr\u001b[0m\u001b[0;34m(\u001b[0m\u001b[0mi\u001b[0m\u001b[0;34m)\u001b[0m\u001b[0;34m)\u001b[0m \u001b[0;32mfor\u001b[0m \u001b[0mi\u001b[0m \u001b[0;32min\u001b[0m \u001b[0mrange\u001b[0m\u001b[0;34m(\u001b[0m\u001b[0mn\u001b[0m\u001b[0;34m)\u001b[0m\u001b[0;34m]\u001b[0m\u001b[0;34m\u001b[0m\u001b[0m\n\u001b[1;32m     38\u001b[0m         \u001b[0;32mif\u001b[0m \u001b[0mnewNodeAllowed\u001b[0m\u001b[0;34m:\u001b[0m\u001b[0;34m\u001b[0m\u001b[0m\n",
      "\u001b[0;31mTypeError\u001b[0m: childChoices() takes exactly 4 arguments (3 given)"
     ]
    }
   ],
   "source": [
    "songState.updateStep(0)\n",
    "# songState.sections[0].melodyWalk[0]"
   ]
  },
  {
   "cell_type": "code",
   "execution_count": 62,
   "metadata": {
    "collapsed": false
   },
   "outputs": [
    {
     "data": {
      "text/plain": [
       "False"
      ]
     },
     "execution_count": 62,
     "metadata": {},
     "output_type": "execute_result"
    }
   ],
   "source": []
  },
  {
   "cell_type": "code",
   "execution_count": null,
   "metadata": {
    "collapsed": false
   },
   "outputs": [],
   "source": [
    "chan = 0\n",
    "lp.startChannel(1, lambda buf: fh.shiftTranspose(buf, lp.roots[0], lp.scales[0], getVec(chan, chan)), loop2)\n",
    "loopTwo = fh.beatShuffle(dropOctave(buf2chan(loop, 2), 2))\n",
    "lp.startChannel(2, lambda buf: fh.shiftTranspose(buf, lp.roots[0], lp.scales[0], getVec(chan, chan)), loopTwo)"
   ]
  },
  {
   "cell_type": "code",
   "execution_count": null,
   "metadata": {
    "collapsed": false
   },
   "outputs": [],
   "source": [
    "trees[0].traversalSteps"
   ]
  },
  {
   "cell_type": "code",
   "execution_count": null,
   "metadata": {
    "collapsed": false
   },
   "outputs": [],
   "source": [
    "lp.stopChannel(1)\n",
    "lp.stopChannel(2)"
   ]
  },
  {
   "cell_type": "code",
   "execution_count": null,
   "metadata": {
    "collapsed": false
   },
   "outputs": [],
   "source": [
    "inc = treeBuilder.Counter()\n",
    "tree = TreeBuilder(0, inc, 6, lambda depth: 5)\n",
    "\n",
    "s = '\\/:' + str(1)\n",
    "tree.execute(s)\n",
    "\n",
    "treeStep(tree)\n",
    "tree.currentNode.value\n",
    "\n"
   ]
  }
 ],
 "metadata": {
  "kernelspec": {
   "display_name": "Python 2",
   "language": "python",
   "name": "python2"
  },
  "language_info": {
   "codemirror_mode": {
    "name": "ipython",
    "version": 2
   },
   "file_extension": ".py",
   "mimetype": "text/x-python",
   "name": "python",
   "nbconvert_exporter": "python",
   "pygments_lexer": "ipython2",
   "version": "2.7.10"
  }
 },
 "nbformat": 4,
 "nbformat_minor": 2
}
