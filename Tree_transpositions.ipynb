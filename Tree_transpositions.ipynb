{
 "cells": [
  {
   "cell_type": "code",
   "execution_count": 1,
   "metadata": {
    "collapsed": false
   },
   "outputs": [],
   "source": [
    "import fh\n",
    "from fh import FH\n",
    "from treeBuilder import TreeBuilder\n",
    "import treeBuilder\n",
    "import PydalChanel as pydal\n",
    "import copy\n",
    "import random\n",
    "import itertools\n",
    "import pickle\n",
    "\n",
    "# algorithmically generate the tree traversals\n",
    "# have harmonic tree, and separately have a rhythmic/phrasing tree\n",
    "\n",
    "# dimensions that can be varried per instrument:\n",
    "# base rhythm, root note, \n",
    "# rhythmic permutation root/traversal \n",
    "# melodic variation root/traversal\n",
    "\n",
    "# 4 values for each of the 6 parameters above \n",
    "# have a tree that creates variations of a 4d vector with values [1,2,3,4]\n",
    "# this tree is the \"arrangement tree\" \n",
    "# - have a traverser on the tree for each parameter\n",
    "# - the value of the vector for each parameter determines what paramter value each instrument has\n",
    "\n",
    "# it is important that there is \"coordinated change\" i.e. that some parameters change\n",
    "# between instruments in the same way at the same time.\n",
    "# A way to do this is to have all 6 parameter traversers start at the same node\n",
    "# in the arrangment tree, and have groups of traversers follow identical paths\n",
    "\n",
    "# a the vector of the 6 arrangement traverser node positions be a \"thematic point\"\n",
    "# pick a handful of thematic points, create a sequence of them\n",
    "# - that is the \"outline\" of the composition\n",
    "# the arangement traversers will pathfind their way between these thematic points,\n",
    "# with groups traversers moving in identical paths as described above\n",
    "\n",
    "# how to create these paths?\n",
    "\n",
    "\n",
    "# ------------------------------------------------------------------------------------------\n",
    "# ------------------------------------------------------------------------------------------\n",
    "# the melody playing on each instrument can be represented by a 6 dimensional vector\n",
    "# (1 value for each of the 6 parameters listed above). \n",
    "# A \"transformation\" is a change to that vector\n",
    "# Two transformations can be said to be of the same \"type\" if they affect the same\n",
    "# set of dimensions in the vector. \n",
    "# Two or more instruments simultaneosly undergoing transformations of the same\n",
    "# \"type\" is an instance of coordinated change \n",
    "\n",
    "# Create a list of matricies with vectors of the above type. they are the \"outline\" of the composition\n",
    "# Randomly apply variation functions as described above, slowly attempting to interpolate from\n",
    "# one matrix to another. \n",
    "# Dynamically construct variation trees as a \"memory\" structure during the interpolation. \n",
    "# Revisit older branches/traversals from the varation tree later on, reapplying the same sequence of \n",
    "# transformation \"types\" as used before\n",
    "\n",
    "lp = FH()\n",
    "tempo = pydal.tempo\n",
    "\n",
    "buf2chan = lambda buf, chan: map(lambda elem: elem[:3] + [chan, elem[-1]], buf)\n",
    "dropOctave = lambda buf, numOctaves: map(lambda elem: [elem[0], max(elem[1]-(12*numOctaves),0)] + elem[2:], buf)\n",
    "getVec = lambda treeInd, traversalInd : trees[treeInd].executeStepwise(traversals[traversalInd])"
   ]
  },
  {
   "cell_type": "code",
   "execution_count": 2,
   "metadata": {
    "collapsed": false
   },
   "outputs": [],
   "source": [
    "tree = TreeBuilder([0]*8, fh.transformTranspositionVector, 6, lambda depth: 5)\n",
    "melodyTrees = [copy.deepcopy(tree) for i in range(4)]\n",
    "melodyTrees[0].execute(\"\\/ \\/\")\n",
    "melodyTrees[1].execute(\"\\/:1 \\/\")\n",
    "melodyTrees[2].execute(\"\\/:2 \\/\")\n",
    "melodyTrees[3].execute(\"\\/:3 \\/\")\n",
    "\n",
    "tree = TreeBuilder(range(8), fh.oneHitShift, 6, lambda depth: 5)\n",
    "rhythmTrees = [copy.deepcopy(tree) for i in range(4)]\n",
    "rhythmTrees[0].execute(\"\\/ \\/\")\n",
    "rhythmTrees[1].execute(\"\\/:1 \\/\")\n",
    "rhythmTrees[2].execute(\"\\/:2 \\/\")\n",
    "rhythmTrees[3].execute(\"\\/:3 \\/\")\n",
    "\n",
    "# lp.roots[3] = 60\n",
    "# lp.scales[3] = lp.scales[2]\n",
    "lp.rootScale(3, 60)\n",
    "\n",
    "sectionPoints = [[[random.choice(range(4)) for i in range(4)] for j in range(4)] for k in range(8)]\n",
    "\n"
   ]
  },
  {
   "cell_type": "code",
   "execution_count": 3,
   "metadata": {
    "collapsed": false
   },
   "outputs": [],
   "source": [
    "# \"traversal\" - a \"random walk\" from a root that generates a tree.\n",
    "# the random walk should have weights s.t. the root is hit more often\n",
    "# than gen 1, which is hit more than gen 2 (and so on) and that earlier\n",
    "# generated siblings are traversed to more than later generated siblings.\n",
    "# undefined whether newer siblings are more or less common than nodes in \n",
    "# the next generation.\n",
    "\n",
    "# simple implementation - markov model, 5 sibling limit\n",
    "# .3 - to parent, \n",
    "# .25 to child (.06 base, with remainder divided by i*k for ith child (lower i is newer), \n",
    "#    k s.t it all adds up, with p(newChild) same as having one newer child\n",
    "# .45 to sibs (total), with similar division between sibs as for child (can transition to self)\n",
    "# for root - .2 probability transition to self, per child prob divided as above \n",
    "def weighted_choice(choices):\n",
    "    total = sum(w for w, c in choices)\n",
    "    r = random.uniform(0, total)\n",
    "    upto = 0\n",
    "    for w, c in choices:\n",
    "        if upto + w >= r:\n",
    "            #print \"selected choice\", c\n",
    "            return c\n",
    "        upto += w\n",
    "    assert False, \"Shouldn't get here\"\n",
    "\n",
    "def treeStep(arrangementTree, newNodeAllowed=False):\n",
    "    node = tree.currentNode\n",
    "    n = len(node.children)\n",
    "    #returns distribution over move-to-child/new-child\n",
    "    def childChoices(childTotalP, childBaseP, numChildren, newNodeIncluded): \n",
    "        if numChildren == 0 and not newNodeIncluded:\n",
    "            return [0]\n",
    "        num = numChildren+1 if newNodeIncluded else numChildren\n",
    "        piece = (childTotalP - childBaseP*(num)) / sum(range(num+1)) #todo: +1 correct?\n",
    "        return [childBaseP + (num-i)*piece for i in range(num)]  #todo: (num-i)*piece rather than (num-i-1)*piece?\n",
    "    if tree.currentNode == tree.root:\n",
    "        prepAction = \"\"\n",
    "        rootP = 0.2\n",
    "        pChildren = childChoices(.8, .1, len(node.children), newNodeAllowed)\n",
    "        choices = [(rootP, '_')] + [(pChildren[i], '\\/:'+str(i)) for i in range(n)] \n",
    "        if newNodeAllowed:\n",
    "            choices += [(pChildren[-1], '\\/!')]\n",
    "    else:\n",
    "        prepAction = \"^ \\/\"\n",
    "        tree.execute(prepAction) #makes \"move to nth sibling\" (rather than nth \"next\") logic cleaner \n",
    "        rootP = 0.3\n",
    "        pChildren = childChoices(.25, .06, len(node.children), newNodeAllowed)\n",
    "        pSiblings = childChoices(.45, .11, len(node.parent.children), newNodeAllowed)\n",
    "        choices = [(rootP, '^')] + [(pChildren[i], '\\/:'+str(i)) for i in range(n)]  \\\n",
    "            + [(pChildren[i], '>:'+str(i)) for i in range(n)] \n",
    "        if newNodeAllowed:\n",
    "            choices += [(pSiblings[-1], '< >!'), (pChildren[-1], '\\/!')]\n",
    "    action = weighted_choice(choices)\n",
    "    #print \"selected action\", action\n",
    "    tree.execute(action)\n",
    "    return prepAction + \" \" + action"
   ]
  },
  {
   "cell_type": "code",
   "execution_count": 4,
   "metadata": {
    "collapsed": true
   },
   "outputs": [],
   "source": [
    "# select major themes as random (6*4) matricies - randomly drop instruments?\n",
    "# TODO: have some recursively flavored way to create a repetitive sequence of the themes\n",
    "\n",
    "# iteration - go for 4-8 \"matrix-steps\" then jump, to next theme, \n",
    "# saving both the traversal type list as well as the actual matricies\n",
    "\n",
    "# upon moving to a new theme a second time, randomly decide whether to do a new traversal,\n",
    "# whether to copy a previous traversal type list, or whether to straight up use old matrices\n",
    "# (sometimes, make decision on an instrument by instrument basis)\n",
    "\n",
    "# to actually implement having the \"central arrangement\" handler play the indivudal instrument\n",
    "# melodies in realtime, implement a scheduler that calculates the next melody to play for each\n",
    "# instrument ahead of time, and provides it upon the \"update\" message for the instrument.\n",
    "# Have a threadsafe counter that checks whether all of the instruments are playing the \"on deck\"\n",
    "# melody. when the last instrument update message comes in, calculate the next set of melodies"
   ]
  },
  {
   "cell_type": "code",
   "execution_count": 5,
   "metadata": {
    "collapsed": false,
    "scrolled": true
   },
   "outputs": [
    {
     "data": {
      "text/plain": [
       "([[1, 0, 0, 2], [2, 2, 0, 0], [1, 1, 2, 0], [3, 1, 2, 1]],\n",
       " [[[False, False, False, True]],\n",
       "  [[False, False, False, True]],\n",
       "  [False],\n",
       "  [False]])"
      ]
     },
     "execution_count": 5,
     "metadata": {},
     "output_type": "execute_result"
    }
   ],
   "source": [
    "# rather than using hardcoded parameters for rhythmic/harmonic tree traversals,\n",
    "# use a random walk in the trees, and save the paths taken at each theme\n",
    "\n",
    "# ignore targetState stuff for now\n",
    "state = [[random.choice(range(4)) for i in range(4)] for j in range(4)]\n",
    "\n",
    "def stateDiff(currentState, targetState):\n",
    "    numParams = len(currentState[0])\n",
    "    numInst = len(currentState)\n",
    "    stateDiff = [[0]*numParams for i in range(numInst)] #True means different\n",
    "    samePairs = set()\n",
    "    diffPairs = set()\n",
    "    if targetState is not None:\n",
    "        for i in range(len(currentState)):\n",
    "            for j in range(len(currentState[i])):\n",
    "                stateDiff[i][j] == currentState[i][j] != targetState[i][j]\n",
    "                if stateDiff[i][j]:\n",
    "                    diffPairs.addd((i,j))\n",
    "                else:\n",
    "                    samePairs.add((i,j))\n",
    "    return (stateDiff, samePairs, diffPairs)\n",
    "    \n",
    "def transformSongMatrix(currentState, targetState=None, towardsTarget=False, pCoordinatedChange=0.2):\n",
    "    newState = copy.deepcopy(currentState)\n",
    "    numParams = len(currentState[0])\n",
    "    numInst = len(currentState)\n",
    "    instruments = [random.choice([True, False]) for i in range(numInst)]\n",
    "    stateDiff = [[0]*numParams for i in range(numInst)] #True means different\n",
    "    samePairs = set()\n",
    "    diffPairs = set()\n",
    "    if targetState is not None:\n",
    "        stateDiff, sampePairs, diffPairs = stateDiff(currentState, targetState)\n",
    "    coordinatedChange = random.uniform(0, 1) < pCoordinatedChange\n",
    "    coordinatedParamsToChange = [random.choice([True, False]) for i in range(numParams)]\n",
    "    transformationType = []\n",
    "    for i in range(len(currentState)):\n",
    "        paramsToChange = [random.choice([True, False]) for k in range(numParams)]\n",
    "        p2c = coordinatedParamsToChange if coordinatedChange else paramsToChange\n",
    "        transformationType.append([p2c if instruments[i] else False])\n",
    "        for j in range(len(currentState[i])):\n",
    "            if instruments[i] and p2c[j]:\n",
    "                currentVal = currentState[i][j]\n",
    "                currentState[i][j] = random.choice([set(range(numInst)) - set([currentVal])])\n",
    "    return (newState, transformationType)\n",
    "\n",
    "transformSongMatrix(state)"
   ]
  },
  {
   "cell_type": "code",
   "execution_count": 6,
   "metadata": {
    "collapsed": false
   },
   "outputs": [],
   "source": [
    "def cleanTimestamps(hitList):\n",
    "    return map(lambda hit: [round(hit[0], 6)] + hit[1:], hitList)\n",
    "\n",
    "def squashMelodies(*hitLists):\n",
    "    noteLists = map(lambda buf: fh.hitListToNoteList(cleanTimestamps(buf)), hitLists)\n",
    "    flattenedNotes = [note for nList in noteLists for note in nList]\n",
    "    flattenedNotes.sort()\n",
    "    return fh.noteListToHitList(flattenedNotes)"
   ]
  },
  {
   "cell_type": "code",
   "execution_count": 7,
   "metadata": {
    "collapsed": false
   },
   "outputs": [],
   "source": [
    "#todo - test traversal get/set as well as everything else\n",
    "#     - test newNodeIncluded in treeTraversal\n",
    "\n",
    "\n",
    "class Section:\n",
    "    \n",
    "    def __init__(self, songMatrix, melodyTrees, rhythmTrees):\n",
    "        self.arrangementTree = TreeBuilder(songMatrix, transformSongMatrix)\n",
    "        self.melodyTrees = melodyTrees\n",
    "        self.rhythmTrees = rhythmTrees\n",
    "        self.arrangementWalk = [(\"_\", songMatrix)]\n",
    "        self.rhythmWalk = [[(\"_\", r.getTraversalState(), r.currentNode.value)] for r in rhythmTrees]\n",
    "        self.melodyWalk = [[(\"_\", m.getTraversalState(), m.currentNode.value)] for m in melodyTrees]\n",
    "    \n",
    "    def createVariation(self):\n",
    "        action = treeStep(self.arrangementTree, True)\n",
    "        self.arrangementWalk.append((action, self.arrangementTree.currentNode.value))\n",
    "        \n",
    "        self.rhythmWalk.append([])\n",
    "        self.melodyWalk.append([])\n",
    "        for r in self.rhythmTrees:\n",
    "            action = treeStep(r)\n",
    "            self.rhythmWalk[-1].append((action, r.getTraversalState(), r.currentNode.value))\n",
    "        for m in self.melodyTrees:\n",
    "            treeStep(m)\n",
    "            self.melodyWalk[-1].append((action, m.getTraversalState(), m.currentNode.value))        \n",
    "\n",
    "class SongState:\n",
    "    def __init__(self, sectionPoints, melodyTrees, rhythmTrees, roots, scales, loops):\n",
    "        self.sectionPoints = sectionPoints\n",
    "        self.roots = roots\n",
    "        self.scales = scales\n",
    "        self.sections = [Section(sectionPoints[0], melodyTrees, rhythmTrees)] \n",
    "        self.stepsInSection = random.randint(4,8)\n",
    "        self.transposes = [0, 3, 5, 7]\n",
    "        self.rhythms = copy.deepcopy(loops)\n",
    "        self.melodyTrees = melodyTrees\n",
    "        self.melodyRoots = [m.getTraversalState() for m in melodyTrees]\n",
    "        self.rhythmTrees = rhythmTrees\n",
    "        self.rhythmRoots = [r.getTraversalState() for r in rhythmTrees]\n",
    "        self.loopHistory = []\n",
    "    \n",
    "    def resetTrees(self):\n",
    "        for i in range(len(self.melodyTrees)):\n",
    "            self.melodyTrees[i].setTraversalState(*self.melodyRoots[i])\n",
    "            self.rhythmTrees[i].setTraversalState(*self.rhythmRoots[i])\n",
    "    \n",
    "    def updateStep(self, placeholderArg):\n",
    "        melodies = cleanTimestamps(self.getMelodies())\n",
    "        self.stepsInSection -= 1\n",
    "        if self.stepsInSection == 0:\n",
    "            self.stepsInSection = random.randint(4,8)\n",
    "            self.resetTrees()\n",
    "            ind = len(self.sections) % len(self.sectionPoints)\n",
    "            self.sections.append(Section(self.sectionPoints[ind], self.melodyTrees, self.rhythmTrees))\n",
    "        else:\n",
    "            self.sections[-1].createVariation()\n",
    "        self.loopHistory.append(melodies)\n",
    "        return melodies\n",
    "    \n",
    "    \n",
    "    def generateMelody(self, instInd):\n",
    "        instVec = self.sections[-1].arrangementWalk[-1][1][instInd]\n",
    "        #print \"instVec\", instVec\n",
    "        #get rhythm\n",
    "        melody = self.rhythms[instVec[0]]\n",
    "        melody = buf2chan(melody, instInd)\n",
    "        \n",
    "        #get root transpose\n",
    "        #print instInd, self.roots[instInd], self.scales[instInd], instVec[1]\n",
    "        #print self.roots[instInd], self.scales[instInd], self.transposes[instVec[1]], melody\n",
    "        melody = fh.scaleTranspose(melody, self.roots[instInd], self.scales[instInd], self.transposes[instVec[1]])\n",
    "        \n",
    "        #apply melody transformation\n",
    "        vec = self.sections[-1].melodyWalk[instInd][-1][2]\n",
    "        #print instInd, vec, self.roots[instInd], self.scales[instInd]\n",
    "        melody = fh.vectorTranspose(melody, self.roots[instInd], self.scales[instInd], vec)\n",
    "        \n",
    "        #apply rhythm transformation\n",
    "        vec = self.sections[-1].rhythmWalk[instInd][-1][2]\n",
    "        melody = fh.vectorBeatPermute(melody, vec) \n",
    "        return melody\n",
    "    \n",
    "    def getMelodies(self):\n",
    "        melodies = [self.generateMelody(i) for i in range(4)]\n",
    "        return squashMelodies(*melodies)\n",
    "    "
   ]
  },
  {
   "cell_type": "code",
   "execution_count": 8,
   "metadata": {
    "collapsed": false
   },
   "outputs": [],
   "source": [
    "songState = SongState(sectionPoints, melodyTrees, rhythmTrees, lp.roots, lp.scales, pickle.load(open(\"shortLoops\")))\n",
    "#todo - test traversal get/set as well as everything else\n",
    "#     - test newNodeIncluded in treeTraversal"
   ]
  },
  {
   "cell_type": "code",
   "execution_count": null,
   "metadata": {
    "collapsed": true
   },
   "outputs": [],
   "source": [
    "songState.updateStep(0)\n",
    "# songState.sections[0].melodyWalk[0]\n",
    "# lp.hitListToString(songState.getMelodies(), \"f\", \"f\")"
   ]
  },
  {
   "cell_type": "code",
   "execution_count": 12,
   "metadata": {
    "collapsed": false
   },
   "outputs": [],
   "source": [
    "# lp.startChannel(1, songState.updateStep, loop)\n",
    "lp.stopChannel(1)"
   ]
  },
  {
   "cell_type": "code",
   "execution_count": null,
   "metadata": {
    "collapsed": false
   },
   "outputs": [],
   "source": [
    "lp.hitListToString(songState.loopHistory[-1], 5, 6)\n",
    "# lp.hitListToString(cleanTimestamps(songState.loopHistory[-1]), 1, 2)\n",
    "songState.loopHistory[-1]"
   ]
  },
  {
   "cell_type": "code",
   "execution_count": null,
   "metadata": {
    "collapsed": false
   },
   "outputs": [],
   "source": [
    "pickle.dump(lp.loops[0], open(\"shortLoops\", \"w\"))"
   ]
  },
  {
   "cell_type": "code",
   "execution_count": 10,
   "metadata": {
    "collapsed": false
   },
   "outputs": [],
   "source": [
    "loop = [[0.0, 60, 105, 0, 'on'],\n",
    " [0.20402940171402, 60, 0, 0, 'off'],\n",
    " [0.54597059828598, 60, 106, 0, 'on'],\n",
    " [0.23738891228436, 60, 0, 0, 'off'],\n",
    " [0.51261108771564, 60, 104, 0, 'on'],\n",
    " [0.21680734841448, 60, 0, 0, 'off'],\n",
    " [0.53319265158552, 60, 103, 0, 'on'],\n",
    " [0.21780347927461, 60, 0, 0, 'off'],\n",
    " [0.53219652072539, 60, 108, 0, 'on'],\n",
    " [0.16372601843477, 60, 0, 0, 'off'],\n",
    " [0.33627398156523, 60, 91, 0, 'on'],\n",
    " [0.16410705546696, 60, 0, 0, 'off'],\n",
    " [0.33589294453304, 60, 106, 0, 'on'],\n",
    " [0.18537746576249, 60, 0, 0, 'off'],\n",
    " [0.56462253423751, 60, 103, 0, 'on'],\n",
    " [0.17460586809761, 60, 0, 0, 'off'],\n",
    " [0.57539413190239, 60, 105, 0, 'on'],\n",
    " [0.14310510345877, 60, 0, 0, 'off'],\n",
    " [0.35689489654123, 60, 104, 0, 'on'],\n",
    " [0.12087395538379, 60, 0, 0, 'off'],\n",
    " [0.12912604461621, 60, 91, 0, 'on'],\n",
    " [0.17366323724332, 60, 0, 0, 'off'],\n",
    " [0.32633676275668, 60, 105, 0, 'on'],\n",
    " [0.16298597599166, 60, 0, 0, 'off'],\n",
    " [0.08701402400834, 60, 95, 0, 'on'],\n",
    " [0.17452761168374, 60, 0, 0, 'off'],\n",
    " [0.32547238831626, 60, 116, 0, 'on'],\n",
    " [0.19636576324069, 60, 0, 0, 'off'],\n",
    " [0.30363423675931, 0, 0, 0, 'timeAfterLastHit']]\n",
    "loop2 = [[0.0, 63, 98, 0, 'on'],\n",
    " [0.08077396240185, 63, 0, 0, 'off'],\n",
    " [0.66922603759815, 62, 107, 0, 'on'],\n",
    " [0.14656983480671, 62, 0, 0, 'off'],\n",
    " [0.60343016519329, 60, 103, 0, 'on'],\n",
    " [0.14721199971888, 60, 0, 0, 'off'],\n",
    " [0.60278800028112, 62, 110, 0, 'on'],\n",
    " [0.15809415775112, 62, 0, 0, 'off'],\n",
    " [0.59190584224888, 63, 110, 0, 'on'],\n",
    " [0.14687753298239, 63, 0, 0, 'off'],\n",
    " [0.60312246701761, 65, 101, 0, 'on'],\n",
    " [0.17093161197243, 65, 0, 0, 'off'],\n",
    " [0.57906838802757, 67, 107, 0, 'on'],\n",
    " [0.14678211657241, 67, 0, 0, 'off'],\n",
    " [0.60321788342759, 65, 98, 0, 'on'],\n",
    " [0.13548617451193, 65, 0, 0, 'off'],\n",
    " [0.61451382548807, 63, 109, 0, 'on'],\n",
    " [0.16879031485729, 63, 0, 0, 'off'],\n",
    " [0.58120968514271, 62, 110, 0, 'on'],\n",
    " [0.15891339785867, 62, 0, 0, 'off'],\n",
    " [0.59108660214133, 60, 108, 0, 'on'],\n",
    " [0.14645264142581, 60, 0, 0, 'off'],\n",
    " [0.35354735857419, 0, 0, 0, 'timeAfterLastHit']]"
   ]
  },
  {
   "cell_type": "code",
   "execution_count": null,
   "metadata": {
    "collapsed": false
   },
   "outputs": [],
   "source": [
    "chan = 0\n",
    "lp.startChannel(1, lambda buf: fh.shiftTranspose(buf, lp.roots[0], lp.scales[0], getVec(chan, chan)), loop2)\n",
    "loopTwo = fh.beatShuffle(dropOctave(buf2chan(loop, 2), 2))\n",
    "lp.startChannel(2, lambda buf: fh.shiftTranspose(buf, lp.roots[0], lp.scales[0], getVec(chan, chan)), loopTwo)"
   ]
  },
  {
   "cell_type": "code",
   "execution_count": null,
   "metadata": {
    "collapsed": false
   },
   "outputs": [],
   "source": [
    "trees[0].traversalSteps"
   ]
  },
  {
   "cell_type": "code",
   "execution_count": null,
   "metadata": {
    "collapsed": false
   },
   "outputs": [],
   "source": [
    "lp.stopChannel(1)\n",
    "lp.stopChannel(2)"
   ]
  },
  {
   "cell_type": "code",
   "execution_count": null,
   "metadata": {
    "collapsed": false
   },
   "outputs": [],
   "source": [
    "inc = treeBuilder.Counter()\n",
    "tree = TreeBuilder(0, inc, 6, lambda depth: 5)\n",
    "\n",
    "s = '\\/:' + str(1)\n",
    "tree.execute(s)\n",
    "\n",
    "treeStep(tree)\n",
    "tree.currentNode.value\n",
    "\n"
   ]
  }
 ],
 "metadata": {
  "kernelspec": {
   "display_name": "Python 2",
   "language": "python",
   "name": "python2"
  },
  "language_info": {
   "codemirror_mode": {
    "name": "ipython",
    "version": 2
   },
   "file_extension": ".py",
   "mimetype": "text/x-python",
   "name": "python",
   "nbconvert_exporter": "python",
   "pygments_lexer": "ipython2",
   "version": "2.7.10"
  }
 },
 "nbformat": 4,
 "nbformat_minor": 2
}
