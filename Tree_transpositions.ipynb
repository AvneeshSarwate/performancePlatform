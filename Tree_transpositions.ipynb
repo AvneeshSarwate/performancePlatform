{
 "cells": [
  {
   "cell_type": "code",
   "execution_count": null,
   "metadata": {
    "collapsed": false
   },
   "outputs": [],
   "source": [
    "import fh\n",
    "from fh import FH\n",
    "from treeBuilder import TreeBuilder\n",
    "import PydalChanel as pydal\n",
    "import copy\n",
    "\n",
    "# algorithmically generate the tree traversals\n",
    "# have harmonic tree, and separately have a rhythmic/phrasing tree\n",
    "\n",
    "# dimensions that can be varried per instrument:\n",
    "# base rhythm, root note, \n",
    "# rhythmic permutation root/traversal \n",
    "# melodic variation root/traversal\n",
    "\n",
    "# 4 values for each of the 6 parameters above \n",
    "# have a tree that creates variations of a 4d vector with values [1,2,3,4]\n",
    "# this tree is the \"arrangement tree\" \n",
    "# - have a traverser on the tree for each parameter\n",
    "# - the value of the vector for each parameter determines what paramter value each instrument has\n",
    "\n",
    "# it is important that there is \"coordinated change\" i.e. that some parameters change\n",
    "# between instruments in the same way at the same time.\n",
    "# A way to do this is to have all 6 parameter traversers start at the same node\n",
    "# in the arrangment tree, and have groups of traversers follow identical paths\n",
    "\n",
    "# a the vector of the 6 arrangement traverser node positions be a \"thematic point\"\n",
    "# pick a handful of thematic points, create a sequence of them\n",
    "# - that is the \"outline\" of the composition\n",
    "# the arangement traversers will pathfind their way between these thematic points,\n",
    "# with groups traversers moving in identical paths as described above\n",
    "\n",
    "# how to create these paths?\n",
    "\n",
    "\n",
    "# ------------------------------------------------------------------------------------------\n",
    "# ------------------------------------------------------------------------------------------\n",
    "# the melody playing on each instrument can be represented by a 6 dimensional vector\n",
    "# (1 value for each of the 6 parameters listed above). \n",
    "# A \"transformation\" is a change to that vector\n",
    "# Two transformations can be said to be of the same \"type\" if they affect the same\n",
    "# set of dimensions in the vector. \n",
    "# Two or more instruments simultaneosly undergoing transformations of the same\n",
    "# \"type\" is an instance of coordinated change \n",
    "\n",
    "# Create a list of matricies with vectors of the above type. they are the \"outline\" of the composition\n",
    "# Randomly apply variation functions as described above, slowly attempting to interpolate from\n",
    "# one matrix to another. \n",
    "# Dynamically construct variation trees as a \"memory\" structure during the interpolation. \n",
    "# Revisit older branches/traversals from the varation tree later on, reapplying the same sequence of \n",
    "# transformation \"types\" as used before\n",
    "\n",
    "lp = FH()\n",
    "tempo = pydal.tempo\n",
    "\n",
    "buf2chan = lambda buf, chan: map(lambda elem: elem[:3] + [chan, elem[-1]], buf)\n",
    "dropOctave = lambda buf, numOctaves: map(lambda elem: [elem[0], max(elem[1]-(12*numOctaves),0)] + elem[2:], buf)"
   ]
  },
  {
   "cell_type": "code",
   "execution_count": null,
   "metadata": {
    "collapsed": false
   },
   "outputs": [],
   "source": [
    "tree = TreeBuilder([0]*8, fh.transformTranspositionVector, 6, lambda depth: 5)\n",
    "trees = [copy.deepcopy(tree) for i in range(4)]\n",
    "trees[0].execute(\"\\/ \\/\")\n",
    "trees[1].execute(\"\\/:1 \\/\")\n",
    "trees[2].execute(\"\\/:2 \\/\")\n",
    "trees[3].execute(\"\\/:3 \\/\")\n",
    "\n",
    "traversals = [0]*4\n",
    "traversals[0] = \"+ _ \\/*3 -@\"\n",
    "traversals[1] = \"+ _ > - + >:2 - + >:3 > -\"\n",
    "traversals[2] = \"+ _ \\/ ^ \\/:1 - + \\/:1 \\/ > -@\"\n",
    "traversals[3] = \"+ \\/ \\/ ^ > \\/ -@\"\n",
    "getVec = lambda treeInd, traversalInd : trees[treeInd].executeStepwise(traversals[traversalInd])\n",
    "\n"
   ]
  },
  {
   "cell_type": "code",
   "execution_count": null,
   "metadata": {
    "collapsed": false
   },
   "outputs": [],
   "source": [
    "chan = 0\n",
    "lp.startChannel(1, lambda buf: fh.shiftTranspose(buf, lp.roots[0], lp.scales[0], getVec(chan, chan)), loop2)\n",
    "loopTwo = fh.beatShuffle(dropOctave(buf2chan(loop, 2), 2))\n",
    "lp.startChannel(2, lambda buf: fh.shiftTranspose(buf, lp.roots[0], lp.scales[0], getVec(chan, chan)), loopTwo)"
   ]
  },
  {
   "cell_type": "code",
   "execution_count": null,
   "metadata": {
    "collapsed": false
   },
   "outputs": [],
   "source": [
    "trees[0].traversalSteps"
   ]
  },
  {
   "cell_type": "code",
   "execution_count": null,
   "metadata": {
    "collapsed": false
   },
   "outputs": [],
   "source": [
    "lp.stopChannel(1)\n",
    "lp.stopChannel(2)"
   ]
  },
  {
   "cell_type": "code",
   "execution_count": null,
   "metadata": {
    "collapsed": false
   },
   "outputs": [],
   "source": [
    "loop = [[0.0, 60, 105, 0, 'on'],\n",
    " [0.20402940171402, 60, 0, 0, 'off'],\n",
    " [0.54597059828598, 60, 106, 0, 'on'],\n",
    " [0.23738891228436, 60, 0, 0, 'off'],\n",
    " [0.51261108771564, 60, 104, 0, 'on'],\n",
    " [0.21680734841448, 60, 0, 0, 'off'],\n",
    " [0.53319265158552, 60, 103, 0, 'on'],\n",
    " [0.21780347927461, 60, 0, 0, 'off'],\n",
    " [0.53219652072539, 60, 108, 0, 'on'],\n",
    " [0.16372601843477, 60, 0, 0, 'off'],\n",
    " [0.33627398156523, 60, 91, 0, 'on'],\n",
    " [0.16410705546696, 60, 0, 0, 'off'],\n",
    " [0.33589294453304, 60, 106, 0, 'on'],\n",
    " [0.18537746576249, 60, 0, 0, 'off'],\n",
    " [0.56462253423751, 60, 103, 0, 'on'],\n",
    " [0.17460586809761, 60, 0, 0, 'off'],\n",
    " [0.57539413190239, 60, 105, 0, 'on'],\n",
    " [0.14310510345877, 60, 0, 0, 'off'],\n",
    " [0.35689489654123, 60, 104, 0, 'on'],\n",
    " [0.12087395538379, 60, 0, 0, 'off'],\n",
    " [0.12912604461621, 60, 91, 0, 'on'],\n",
    " [0.17366323724332, 60, 0, 0, 'off'],\n",
    " [0.32633676275668, 60, 105, 0, 'on'],\n",
    " [0.16298597599166, 60, 0, 0, 'off'],\n",
    " [0.08701402400834, 60, 95, 0, 'on'],\n",
    " [0.17452761168374, 60, 0, 0, 'off'],\n",
    " [0.32547238831626, 60, 116, 0, 'on'],\n",
    " [0.19636576324069, 60, 0, 0, 'off'],\n",
    " [0.30363423675931, 0, 0, 0, 'timeAfterLastHit']]\n",
    "loop2 = [[0.0, 63, 98, 0, 'on'],\n",
    " [0.08077396240185, 63, 0, 0, 'off'],\n",
    " [0.66922603759815, 62, 107, 0, 'on'],\n",
    " [0.14656983480671, 62, 0, 0, 'off'],\n",
    " [0.60343016519329, 60, 103, 0, 'on'],\n",
    " [0.14721199971888, 60, 0, 0, 'off'],\n",
    " [0.60278800028112, 62, 110, 0, 'on'],\n",
    " [0.15809415775112, 62, 0, 0, 'off'],\n",
    " [0.59190584224888, 63, 110, 0, 'on'],\n",
    " [0.14687753298239, 63, 0, 0, 'off'],\n",
    " [0.60312246701761, 65, 101, 0, 'on'],\n",
    " [0.17093161197243, 65, 0, 0, 'off'],\n",
    " [0.57906838802757, 67, 107, 0, 'on'],\n",
    " [0.14678211657241, 67, 0, 0, 'off'],\n",
    " [0.60321788342759, 65, 98, 0, 'on'],\n",
    " [0.13548617451193, 65, 0, 0, 'off'],\n",
    " [0.61451382548807, 63, 109, 0, 'on'],\n",
    " [0.16879031485729, 63, 0, 0, 'off'],\n",
    " [0.58120968514271, 62, 110, 0, 'on'],\n",
    " [0.15891339785867, 62, 0, 0, 'off'],\n",
    " [0.59108660214133, 60, 108, 0, 'on'],\n",
    " [0.14645264142581, 60, 0, 0, 'off'],\n",
    " [0.35354735857419, 0, 0, 0, 'timeAfterLastHit']]"
   ]
  },
  {
   "cell_type": "code",
   "execution_count": null,
   "metadata": {
    "collapsed": false
   },
   "outputs": [],
   "source": [
    "for c in itertools.chain(*[[[1], [1], [1]], [[2], [2], [2]]]):\n",
    "    print c"
   ]
  }
 ],
 "metadata": {
  "kernelspec": {
   "display_name": "Python 2",
   "language": "python",
   "name": "python2"
  },
  "language_info": {
   "codemirror_mode": {
    "name": "ipython",
    "version": 2
   },
   "file_extension": ".py",
   "mimetype": "text/x-python",
   "name": "python",
   "nbconvert_exporter": "python",
   "pygments_lexer": "ipython2",
   "version": "2.7.10"
  }
 },
 "nbformat": 4,
 "nbformat_minor": 2
}
