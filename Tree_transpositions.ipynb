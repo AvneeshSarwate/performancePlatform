{
 "cells": [
  {
   "cell_type": "code",
   "execution_count": 1,
   "metadata": {
    "collapsed": false
   },
   "outputs": [],
   "source": [
    "import fh\n",
    "from fh import FH\n",
    "from treeBuilder import TreeBuilder\n",
    "import PydalChanel as pydal\n",
    "\n",
    "lp = FH()\n",
    "tempo = pydal.tempo\n",
    "\n",
    "tree = TreeBuilder([0]*8, fh.transformTranspositionVector, 4, lambda depth: 5)\n",
    "getVec = lambda:tree.executeStepwise(\"+ \\/*3 -\")"
   ]
  },
  {
   "cell_type": "code",
   "execution_count": 6,
   "metadata": {
    "collapsed": true
   },
   "outputs": [],
   "source": [
    "chan = 0\n",
    "lp.startChannel(1, lambda buf: fh.vectorTranspose(buf, lp.roots[chan], lp.scales[chan], getVec()), lp.loops[chan][0])"
   ]
  },
  {
   "cell_type": "code",
   "execution_count": 7,
   "metadata": {
    "collapsed": true
   },
   "outputs": [],
   "source": [
    "lp.stopChannel(1)"
   ]
  },
  {
   "cell_type": "code",
   "execution_count": null,
   "metadata": {
    "collapsed": false
   },
   "outputs": [],
   "source": [
    "v = [0]*8\n",
    "for i in range(10):\n",
    "    v = fh.transformTranspositionVector(v)\n",
    "print v"
   ]
  },
  {
   "cell_type": "code",
   "execution_count": 10,
   "metadata": {
    "collapsed": false
   },
   "outputs": [
    {
     "name": "stdout",
     "output_type": "stream",
     "text": [
      "True\n"
     ]
    }
   ],
   "source": [
    "lp.loops[chan][0]\n",
    "loop = [[0.0, 60, 94, 0, 'on'],\n",
    " [0.14063000081231, 60, 0, 0, 'off'],\n",
    " [0.51175137605074, 60, 99, 0, 'on'],\n",
    " [0.15868170673301, 60, 0, 0, 'off'],\n",
    " [0.55655044656615, 60, 108, 0, 'on'],\n",
    " [0.14736692429781, 60, 0, 0, 'off'],\n",
    " [0.55770031195787, 60, 105, 0, 'on'],\n",
    " [0.10191742162333, 60, 0, 0, 'off'],\n",
    " [0.8091041462513, 60, 102, 0, 'on'],\n",
    " [0.15966266050387, 60, 0, 0, 'off'],\n",
    " [0.3180058220948, 60, 100, 0, 'on'],\n",
    " [0.14783544193324, 60, 0, 0, 'off'],\n",
    " [0.41028907341952, 60, 105, 0, 'on'],\n",
    " [0.11329049315795, 60, 0, 0, 'off'],\n",
    " [0.54484435068714, 60, 102, 0, 'on'],\n",
    " [0.056396603028261, 60, 0, 0, 'off'],\n",
    " [0.77382801685586, 60, 98, 0, 'on'],\n",
    " [0.057244205290615, 60, 0, 0, 'off'],\n",
    " [0.44430773514117, 60, 112, 0, 'on'],\n",
    " [0.090228920976642, 60, 0, 0, 'off'],\n",
    " [0.13622603720478, 60, 93, 0, 'on'],\n",
    " [0.14819511787948, 60, 0, 0, 'off'],\n",
    " [0.26078833363805, 60, 113, 0, 'on'],\n",
    " [0.14799636263979, 60, 0, 0, 'off'],\n",
    " [0.12460816536873, 60, 104, 0, 'on'],\n",
    " [0.18353714024576, 60, 0, 0, 'off'],\n",
    " [0.34051168761141, 60, 105, 0, 'on'],\n",
    " [0.15836812585964, 60, 0, 0, 'off'],\n",
    " [0.40013337217079, 0, 0, 0, 'timeAfterLastHit']]\n",
    "print loop == lp.loops[chan][0]"
   ]
  }
 ],
 "metadata": {
  "kernelspec": {
   "display_name": "Python 2",
   "language": "python",
   "name": "python2"
  },
  "language_info": {
   "codemirror_mode": {
    "name": "ipython",
    "version": 2
   },
   "file_extension": ".py",
   "mimetype": "text/x-python",
   "name": "python",
   "nbconvert_exporter": "python",
   "pygments_lexer": "ipython2",
   "version": "2.7.10"
  }
 },
 "nbformat": 4,
 "nbformat_minor": 2
}
