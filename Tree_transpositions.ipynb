{
 "cells": [
  {
   "cell_type": "code",
   "execution_count": null,
   "metadata": {
    "collapsed": false
   },
   "outputs": [],
   "source": [
    "import fh\n",
    "from fh import FH\n",
    "from treeBuilder import TreeBuilder\n",
    "import PydalChanel as pydal\n",
    "import copy\n",
    "\n",
    "lp = FH()\n",
    "tempo = pydal.tempo\n",
    "\n",
    "buf2chan = lambda buf, chan: map(lambda elem: elem[:3] + [chan, elem[-1]], buf)\n"
   ]
  },
  {
   "cell_type": "code",
   "execution_count": 2,
   "metadata": {
    "collapsed": false
   },
   "outputs": [],
   "source": [
    "tree = TreeBuilder([0]*8, fh.transformTranspositionVector, 6, lambda depth: 5)\n",
    "trees = [copy.deepcopy(tree) for i in range(4)]\n",
    "trees[0].execute(\"\\/ \\/\")\n",
    "trees[1].execute(\"\\/:1 \\/\")\n",
    "trees[2].execute(\"\\/:2 \\/\")\n",
    "trees[3].execute(\"\\/:3 \\/\")\n",
    "\n",
    "traversals = [0]*4\n",
    "traversals[0] = \"+ _ \\/*3 -@\"\n",
    "traversals[1] = \"+ _ > - + >:2 - + >:3 > -\"\n",
    "traversals[2] = \"+ _ \\/ ^ \\/:1 - + \\/:1 \\/ > -@\"\n",
    "traversals[3] = \"+ \\/ \\/ ^ > \\/ -@\"\n",
    "getVec = lambda treeInd, traversalInd : trees[treeInd].executeStepwise(traversals[traversalInd])\n",
    "\n"
   ]
  },
  {
   "cell_type": "code",
   "execution_count": 11,
   "metadata": {
    "collapsed": false
   },
   "outputs": [],
   "source": [
    "chan = 0\n",
    "lp.startChannel(1, lambda buf: fh.vectorTranspose(buf, lp.roots[chan], lp.scales[chan], getVec(chan, chan)), loop)\n",
    "chan = 2\n",
    "lp.startChannel(2, lambda buf: fh.vectorTranspose(buf, lp.roots[chan], lp.scales[chan], getVec(chan, chan)), buf2chan(loop, chan))"
   ]
  },
  {
   "cell_type": "code",
   "execution_count": 12,
   "metadata": {
    "collapsed": false
   },
   "outputs": [],
   "source": [
    "lp.stopChannel(1)\n",
    "lp.stopChannel(2)"
   ]
  },
  {
   "cell_type": "code",
   "execution_count": 3,
   "metadata": {
    "collapsed": false
   },
   "outputs": [],
   "source": [
    "loop = [[0.0, 60, 94, 0, 'on'],\n",
    " [0.14063000081231, 60, 0, 0, 'off'],\n",
    " [0.51175137605074, 60, 99, 0, 'on'],\n",
    " [0.15868170673301, 60, 0, 0, 'off'],\n",
    " [0.55655044656615, 60, 108, 0, 'on'],\n",
    " [0.14736692429781, 60, 0, 0, 'off'],\n",
    " [0.55770031195787, 60, 105, 0, 'on'],\n",
    " [0.10191742162333, 60, 0, 0, 'off'],\n",
    " [0.8091041462513, 60, 102, 0, 'on'],\n",
    " [0.15966266050387, 60, 0, 0, 'off'],\n",
    " [0.3180058220948, 60, 100, 0, 'on'],\n",
    " [0.14783544193324, 60, 0, 0, 'off'],\n",
    " [0.41028907341952, 60, 105, 0, 'on'],\n",
    " [0.11329049315795, 60, 0, 0, 'off'],\n",
    " [0.54484435068714, 60, 102, 0, 'on'],\n",
    " [0.056396603028261, 60, 0, 0, 'off'],\n",
    " [0.77382801685586, 60, 98, 0, 'on'],\n",
    " [0.057244205290615, 60, 0, 0, 'off'],\n",
    " [0.44430773514117, 60, 112, 0, 'on'],\n",
    " [0.090228920976642, 60, 0, 0, 'off'],\n",
    " [0.13622603720478, 60, 93, 0, 'on'],\n",
    " [0.14819511787948, 60, 0, 0, 'off'],\n",
    " [0.26078833363805, 60, 113, 0, 'on'],\n",
    " [0.14799636263979, 60, 0, 0, 'off'],\n",
    " [0.12460816536873, 60, 104, 0, 'on'],\n",
    " [0.18353714024576, 60, 0, 0, 'off'],\n",
    " [0.34051168761141, 60, 105, 0, 'on'],\n",
    " [0.15836812585964, 60, 0, 0, 'off'],\n",
    " [0.40013337217079, 0, 0, 0, 'timeAfterLastHit']]"
   ]
  }
 ],
 "metadata": {
  "kernelspec": {
   "display_name": "Python 2",
   "language": "python",
   "name": "python2"
  },
  "language_info": {
   "codemirror_mode": {
    "name": "ipython",
    "version": 2
   },
   "file_extension": ".py",
   "mimetype": "text/x-python",
   "name": "python",
   "nbconvert_exporter": "python",
   "pygments_lexer": "ipython2",
   "version": "2.7.10"
  }
 },
 "nbformat": 4,
 "nbformat_minor": 2
}
