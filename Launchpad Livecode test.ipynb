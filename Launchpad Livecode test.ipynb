{
 "cells": [
  {
   "cell_type": "code",
   "execution_count": 1,
   "metadata": {
    "collapsed": false,
    "deletable": true,
    "editable": true
   },
   "outputs": [],
   "source": [
    "from fh import FH \n",
    "import fh\n",
    "from treeBuilder import TreeBuilder as TB\n",
    "import copy\n",
    "import pickle\n",
    "import arpeggiator\n",
    "from spatializer import Spatializer\n",
    "from LFOFM import *\n",
    "import PydalChanel as pydalmodule\n",
    "from OSC import *\n",
    "\n",
    "wp = WavePlayer()\n",
    "lp = FH()\n",
    "\n",
    "def sendMsgSC(addr, *args):\n",
    "    msg = OSCMessage()\n",
    "    msg.setAddress(addr)\n",
    "    msg.append(args)\n",
    "    wp.superColliderClient.send(msg)\n",
    "    \n",
    "def loopPat(loop):\n",
    "    return pydalmodule.LoopPattern(loop)\n",
    "\n",
    "plotWave = wp.plotWave\n",
    "oneHitShift = fh.oneHitShift\n",
    "read = pydalmodule.read\n",
    "rootScale = lp.rootScale\n",
    "\n",
    "arpPydal = pydalmodule.getInstance(('127.0.0.1', 34567))"
   ]
  },
  {
   "cell_type": "code",
   "execution_count": 2,
   "metadata": {
    "collapsed": false,
    "deletable": true,
    "editable": true
   },
   "outputs": [],
   "source": [
    "#IGNORE THIS for Max backend piece\n",
    "pydal = pydalmodule.getInstance()\n",
    "\n",
    "end = pydal.end\n",
    "tempo = pydal.setTempo\n",
    "stripSymbols = lambda beats : map(lambda beat : list(beat[1])[0], beats)\n",
    "\n",
    "ch1 = pydal.newChannel(1)\n",
    "ch2 = pydal.newChannel(2)\n",
    "ch3 = pydal.newChannel(3)\n",
    "ch4 = pydal.newChannel(4)\n",
    "ch5 = pydal.newChannel(5)\n",
    "ch5 = pydal.newChannel(5)"
   ]
  },
  {
   "cell_type": "code",
   "execution_count": 3,
   "metadata": {
    "collapsed": false,
    "deletable": true,
    "editable": true
   },
   "outputs": [],
   "source": [
    "#sustainPad -> arpeggiator setup\n",
    "\n",
    "s = Spatializer(60, [[0,1,2,3], [4,5,6,7], [8,9,10,11]], lp, 0)\n",
    "s.spatialize = False\n",
    "s.separateChannels = False\n",
    "s.broadcasting = False\n",
    "lp.addForwardingHandler(0, s)\n",
    "# s.loadChordsFromFile(\"songV4.chords\")\n",
    "\n",
    "a = arpeggiator.Arpeggiator(0, arpPydal, read(\"0 1 2\", 1, \"arp\"))\n",
    "a.normalForwardingBehavior = False\n",
    "lp.addForwardingHandler(0, a)\n",
    "\n",
    "s2 = Spatializer(60, [[0,1,2,3], [4,5,6,7], [8,9,10,11]], lp, 1)\n",
    "s2.spatialize = False\n",
    "s2.separateChannels = False\n",
    "s2.broadcasting = False\n",
    "lp.addForwardingHandler(1, s2)\n",
    "\n",
    "b = arpeggiator.Arpeggiator(1, arpPydal, read(\"0 1 2\", 1, \"arp\"))\n",
    "b.normalForwardingBehavior = False\n",
    "lp.addForwardingHandler(1, b)\n",
    "\n",
    "\n",
    "\n",
    "def play(patStr, dur, arp):\n",
    "    pat = read(patStr, dur, \"arp\")\n",
    "    arp.pattern = pat\n",
    "    arp.channel.pydalPattern = pat"
   ]
  },
  {
   "cell_type": "markdown",
   "metadata": {
    "deletable": true,
    "editable": true
   },
   "source": [
    "## ALGO-FOLK SETUP"
   ]
  },
  {
   "cell_type": "code",
   "execution_count": 343,
   "metadata": {
    "collapsed": false,
    "deletable": true,
    "editable": true
   },
   "outputs": [],
   "source": [
    "lp.resetButtonDestinations([\"-0\"]*80)\n",
    "s.loadChordsFromFile(\"algofolk/6.chords\")\n",
    "s.broadcasting = True\n",
    "s2.broadcasting = True\n",
    "s.swappingChords = True\n",
    "tempo(120)\n",
    "\n",
    "a0 = (\"0 1 3 0 2 4\", 2)\n",
    "a1 = (\"<0, 2 1> <1, 1*2, 3 2 1> [4 [(1 2, 3 2, 0)] <4*2, 3*1>]\", 2)\n",
    "a2 = (\"<[0 1 2 3], [0 2 3 4]>\", 1)\n",
    "a3 = (\"<<0 1, 1 0> <1 2, 2 1>, <2 3, 3 2> <3 4, 4 3>, 0 1 2 3>\", 1)\n",
    "a4 = (\"0 ~ 2 0 1 2 <4, 3> 2 1 <4, 2> 2 1\", 3)\n",
    "a5 = (\"[0 0b 0 1] [1 1 2 2] [2 3 3 3]\", 3)\n",
    "a6 = (\"[0 ~ 1 2 ~ 3, 2 ~ 3 4 ~ 0]\", 1)\n",
    "a7 = (\"<[<0, 0, 0 1 2 3>, 2, 4], [0 2, 1, <3, 4 [4 3]>]>\", 1)\n",
    "\n",
    "c1 = read(\"aa [<af, ag> <ac, ad>] bd [bc <ac, bf>]\", 8, \"chord\")\n",
    "c2 = read(\"ca [<ef, cg> <cc, cd>] ed [ec <cc, ef>]\", 8, \"chord\")\n",
    "c3 = read(\"ca [<cf, cg> <cc, cd>] cd [cc <cc, cf>]\", 8, \"chord\")\n",
    "c4 = read(\"ea eb ec ed ee ef eg eh\", 8, \"chord\")"
   ]
  },
  {
   "cell_type": "code",
   "execution_count": 400,
   "metadata": {
    "collapsed": false,
    "deletable": true,
    "editable": true
   },
   "outputs": [],
   "source": [
    "#TODO - be able to change chords without restarting pattern \n",
    "#make this selectable per-chord as a symbol extension on pydal-chords\n",
    "#also add this as a toggle on the chord-pad \n",
    "#TODO - add velocity controls \n",
    "#   - fwd sustain-velocity to chords/arp\n",
    "#   - add velocity annotation in arp\n",
    "#   - make velocity controllable via LFOFM\n",
    "#TODO - note length - add note-level annotation in arp, also LFOFM\n",
    "\n",
    "#tempo(120)\n",
    "a0 = (\"0 [1 [0 1]] 3 0 <2, 3 2> <4, 1 0>\", 2)\n",
    "c1 = read(\"af [<aa, ag> <af, ad>] bf [bc <ac, bf>]\", 8, \"chord\")\n",
    "a1 = (\"<0, 2 1> <1, 1*2, 3 2 1> [4 [(1 2, 3 2, 0)] <4*2, 3*1>]\", 2)\n",
    "arp = a3\n",
    "chrd = c2"
   ]
  },
  {
   "cell_type": "code",
   "execution_count": 398,
   "metadata": {
    "collapsed": false,
    "deletable": true,
    "editable": true
   },
   "outputs": [],
   "source": [
    "#tempo(160)\n",
    "\n",
    "s.swappingChords = True\n",
    "a3 = (\"<<0 1, 1 <0, ~>> <1 2, 2 <1, ~>>, <2 3, 3 2> <3 4, 4 3>, 0 1 2 3>\", 1)\n",
    "a4 = (\"0 ~ 2 0 ~ 2 <4, 3> 2 1 <4, 2> 2 1\", 4)\n",
    "a5 = (\"0 0 0 1 1 1 2 2 2 3 3 3\", 4)\n",
    "\n",
    "arp = a0\n",
    "chrd = c3"
   ]
  },
  {
   "cell_type": "code",
   "execution_count": 401,
   "metadata": {
    "collapsed": true,
    "deletable": true,
    "editable": true
   },
   "outputs": [],
   "source": [
    "tempo(120)\n",
    "play(arp[0], arp[1], a)\n",
    "ch1.play(chrd, [0])"
   ]
  },
  {
   "cell_type": "code",
   "execution_count": null,
   "metadata": {
    "collapsed": false,
    "deletable": true,
    "editable": true
   },
   "outputs": [],
   "source": [
    "s.debug = False\n",
    "a.debug=True"
   ]
  },
  {
   "cell_type": "code",
   "execution_count": null,
   "metadata": {
    "collapsed": false,
    "deletable": true,
    "editable": true
   },
   "outputs": [],
   "source": [
    "a.sendNoteDuration(1)"
   ]
  },
  {
   "cell_type": "code",
   "execution_count": 402,
   "metadata": {
    "collapsed": true
   },
   "outputs": [],
   "source": [
    "ch1.stop()"
   ]
  },
  {
   "cell_type": "code",
   "execution_count": 336,
   "metadata": {
    "collapsed": false
   },
   "outputs": [],
   "source": [
    "s.savedChords[60:70]\n",
    "newChords = [{} for i in range(100)]\n",
    "for i in range(10):\n",
    "    newChords[70+i] = s.savedChords[40+i]\n",
    "    newChords[60+i] = s.savedChords[30+i]\n",
    "    newChords[50+i] = s.savedChords[60+i]\n",
    "    newChords[30+i] = s.savedChords[20+i]"
   ]
  },
  {
   "cell_type": "code",
   "execution_count": 364,
   "metadata": {
    "collapsed": false
   },
   "outputs": [],
   "source": [
    "s.saveChordsToFile(\"algofolk/6.chords\")"
   ]
  },
  {
   "cell_type": "markdown",
   "metadata": {
    "deletable": true,
    "editable": true
   },
   "source": [
    "## DRONE SETUP"
   ]
  },
  {
   "cell_type": "code",
   "execution_count": 295,
   "metadata": {
    "collapsed": false,
    "deletable": true,
    "editable": true
   },
   "outputs": [],
   "source": [
    "#load for drone song\n",
    "#set divider in chordpad to 20\n",
    "# masterclock, spatializer, lfofm, faders, chordpad, arpeggiator\n",
    "# shift pad lower by 1 row\n",
    "\n",
    "lp.resetButtonDestinations([0]*20 + [\"-1\"]*60)\n",
    "s2.loadChordsFromFile(\"droneSong3.chords\")\n",
    "s2.broadcasting = False\n",
    "s2.separateChannels = True\n",
    "\n",
    "spray = 12\n",
    "freq = 13\n",
    "pitch = 14\n",
    "rpitch = 15\n",
    "fdbk = 16\n",
    "mix = 17\n",
    "params = [spray, freq, pitch, rpitch, fdbk, mix]\n",
    "\n",
    "def stopAllWaves():\n",
    "    for p in params:\n",
    "        wp.stopWave(p)\n",
    "\n",
    "def resetWaves():\n",
    "    vals = [-64, 64, 64, -64, -64, 64]\n",
    "    for i in range(len(params)):\n",
    "        wp.startWave(params[i], vals[i])\n",
    "    stopAllWaves()\n",
    "def wave(cc, wave):\n",
    "    wp.startWave(cc, wave)\n",
    "# 8 \"lines\"\n",
    "# l,2,3 - rows 1,2,3 - 1 beat per chord, 2 beats on last\n",
    "# 4 - row 3 - 1248537 - 1 beat per chord, 2 beats on last\n",
    "# 5,6 - row 4 - 12545456 then 1-8\n",
    "# 7 - row 1 - 123, row 3 - 4567 1 beat per chord, 2 beats on last\n",
    "# 8 - row 3 - 1234, row 6 - 567 1 beat per chord, 2 beats on last"
   ]
  },
  {
   "cell_type": "code",
   "execution_count": 314,
   "metadata": {
    "collapsed": false,
    "deletable": true,
    "editable": true
   },
   "outputs": [],
   "source": [
    "\n",
    "wp.startWave(freq, 0)\n",
    "wave(spray, Sin(freq=0.3)*20)"
   ]
  },
  {
   "cell_type": "code",
   "execution_count": null,
   "metadata": {
    "collapsed": false,
    "deletable": true,
    "editable": true
   },
   "outputs": [],
   "source": [
    "plotWave(Tri(freq=0.4, phase=Sin(phase=Saw(0.1))*0.1), 0, 40)"
   ]
  },
  {
   "cell_type": "code",
   "execution_count": 297,
   "metadata": {
    "collapsed": false,
    "deletable": true,
    "editable": true
   },
   "outputs": [],
   "source": [
    "wp.startWave(spray, Tri(freq=0.3, phase=Sin()*0.3))\n",
    "wp.startWave(freq, 60)\n",
    "wp.startWave(pitch, Sin(0.1, phase=Tri())*40-20)\n",
    "wp.startWave(rpitch, Sin(0.3)*30-30)\n",
    "wp.startWave(fdbk, 64)\n",
    "wp.startWave(mix, Saw(0.2, phase=Sin())*12 - 32)"
   ]
  },
  {
   "cell_type": "code",
   "execution_count": 299,
   "metadata": {
    "collapsed": true,
    "deletable": true,
    "editable": true
   },
   "outputs": [],
   "source": [
    "wp.startWave(spray, -64)\n",
    "wp.startWave(freq, 64)\n",
    "wp.startWave(pitch, 64)\n",
    "wp.startWave(rpitch, -64)\n",
    "wp.startWave(fdbk, -64)\n",
    "wp.startWave(mix, 64)"
   ]
  },
  {
   "cell_type": "code",
   "execution_count": null,
   "metadata": {
    "collapsed": true,
    "deletable": true,
    "editable": true
   },
   "outputs": [],
   "source": [
    "w1 = Sin(0.1, phase=Tri())*40-20"
   ]
  },
  {
   "cell_type": "code",
   "execution_count": 315,
   "metadata": {
    "collapsed": false,
    "deletable": true,
    "editable": true
   },
   "outputs": [],
   "source": [
    "resetWaves()"
   ]
  },
  {
   "cell_type": "markdown",
   "metadata": {
    "deletable": true,
    "editable": true
   },
   "source": [
    "## RHYTHM WARP SETUP"
   ]
  },
  {
   "cell_type": "code",
   "execution_count": 220,
   "metadata": {
    "collapsed": true
   },
   "outputs": [],
   "source": [
    "tempo(100)"
   ]
  },
  {
   "cell_type": "code",
   "execution_count": 258,
   "metadata": {
    "collapsed": false
   },
   "outputs": [],
   "source": [
    "# ch1.play(read(\"[bd [bd bd]]\"))\n",
    "ch2.play(read(\"hc [hc hc]\"))"
   ]
  },
  {
   "cell_type": "code",
   "execution_count": 251,
   "metadata": {
    "collapsed": true
   },
   "outputs": [],
   "source": [
    "# ch1.play(read(\"<[bd [bd bd]]*2, [bd [bd bd]]>\"))\n",
    "# ch2.play(read(\"hc [hc hc]\"))\n",
    "ch3.play(read(\"[lt lt] lt\"))"
   ]
  },
  {
   "cell_type": "code",
   "execution_count": 193,
   "metadata": {
    "collapsed": true
   },
   "outputs": [],
   "source": [
    "#rotating visualization working\n",
    "ch2.play(read(\"hc [hc hc]\"))\n",
    "ch3.play(read(\"[lt lt] lt\"))\n",
    "w0 = 102\n",
    "w =  Tri(freq=0.25)*20 + 100\n",
    "wp.startWaveOSC(\"chan2\", \"/changeChannelTempo\", w, \"sc\", 2)"
   ]
  },
  {
   "cell_type": "code",
   "execution_count": null,
   "metadata": {
    "collapsed": true
   },
   "outputs": [],
   "source": [
    "#score\n",
    "# 100 102 phase\n",
    "# sync\n",
    "# steady - wave \n",
    "# steady - wave increase wave amp\n",
    "# sync\n",
    "# wave - wave same wave\n",
    "# wave - wave increase amp\n",
    "# waves diverge\n",
    "# make waves same again\n",
    "# sync w/o stopping waves\n",
    "# add third pattern at static tempo\n",
    "# add alt version of pat 1 <> version\n",
    "# steady phase 3 patterns against each other\n",
    "# drop chan 1\n",
    "# repeat wave experiments from 1 but with chans 2/3 and FM waves\n",
    "# slowly increase the speed of chan 2 till you're getting wave table synths\n",
    "# use FM on chan 2 to play with the pitch chan 2\n",
    "# throw low speed FM on chan 3\n",
    "# start bringing chan 2 speed down to a much lower pitch\n",
    "# swap chan 2/3 waves - chan 3 is pitch and chan 2 is rhythm\n",
    "# play with chan 3 pitches, new timbre\n",
    "# bring chan 3 down and let both be rhythms\n",
    "# stop waves, sync, end"
   ]
  },
  {
   "cell_type": "code",
   "execution_count": 235,
   "metadata": {
    "collapsed": false,
    "deletable": true,
    "editable": true
   },
   "outputs": [],
   "source": [
    "sendMsgSC(\"/changeChannelTempo\", 100, 1)\n",
    "sendMsgSC(\"/changeChannelTempo\", 102, 2)"
   ]
  },
  {
   "cell_type": "code",
   "execution_count": 291,
   "metadata": {
    "collapsed": true,
    "deletable": true,
    "editable": true
   },
   "outputs": [],
   "source": [
    "sendMsgSC(\"/syncClocks\", \"both\", 'master', 1, 2, 3)"
   ]
  },
  {
   "cell_type": "code",
   "execution_count": 292,
   "metadata": {
    "collapsed": true,
    "deletable": true,
    "editable": true
   },
   "outputs": [],
   "source": [
    "ch1.stop()\n",
    "ch2.stop()\n",
    "ch3.stop()"
   ]
  },
  {
   "cell_type": "code",
   "execution_count": 288,
   "metadata": {
    "collapsed": true,
    "deletable": true,
    "editable": true
   },
   "outputs": [],
   "source": [
    "w0 = 102\n",
    "w =  Tri(freq=0.25)*20 + 100\n",
    "w2 =  Tri(freq=0.5, phase=Sin(freq=0.3, phase=Sin()))*50 + 100\n",
    "w3 =  Tri(freq=0.5, phase=Sin(freq=0.3))*30 + 100\n",
    "# w2 =  Tri(freq=0.125)*50 + 100\n",
    "# wp.startWaveOSC(\"chan1\", \"/changeChannelTempo\", w, \"sc\", 1)\n",
    "wp.startWaveOSC(\"chan2\", \"/changeChannelTempo\", w3, \"sc\", 2)\n",
    "# wp.startWaveOSC(\"chan3\", \"/changeChannelTempo\", w2, \"sc\", 3)\n",
    "wp.startWaveOSC(\"chan3\", \"/changeChannelTempo\",w2, \"sc\", 3)"
   ]
  },
  {
   "cell_type": "code",
   "execution_count": 289,
   "metadata": {
    "collapsed": true
   },
   "outputs": [],
   "source": [
    "wp.stopWave(\"chan1\")\n",
    "wp.stopWave(\"chan2\")\n",
    "wp.stopWave(\"chan3\")"
   ]
  },
  {
   "cell_type": "code",
   "execution_count": 260,
   "metadata": {
    "collapsed": true
   },
   "outputs": [],
   "source": []
  },
  {
   "cell_type": "markdown",
   "metadata": {
    "deletable": true,
    "editable": true
   },
   "source": [
    "## FUNK SETUP"
   ]
  },
  {
   "cell_type": "code",
   "execution_count": null,
   "metadata": {
    "collapsed": false,
    "deletable": true,
    "editable": true
   },
   "outputs": [],
   "source": [
    "#load for funky jam\n",
    "#set divider in chordpad to 50\n",
    "#make sure stems are \"0-\" and \"-1\"\n",
    "\n",
    "# masterClock, multiLoop, chordPad, spatialize \n",
    "\n",
    "#todo - a different groove for a proper \"b\" section (currently the grooves are kind of the same)\n",
    "\n",
    "s2.loadChordsFromFile(\"phillyjam/horns2.chords\")\n",
    "s.loadChordsFromFile(\"phillyjam/organ3.chords\")\n",
    "lp.loadScenesFromFile(\"phillyjam/philly2.scenes\")\n",
    "\n",
    "s.broadcasting = False\n",
    "s2.broadcasting = False"
   ]
  },
  {
   "cell_type": "code",
   "execution_count": null,
   "metadata": {
    "collapsed": true,
    "deletable": true,
    "editable": true
   },
   "outputs": [],
   "source": [
    "s.broadcasting = False\n",
    "s2.broadcasting = False"
   ]
  },
  {
   "cell_type": "code",
   "execution_count": null,
   "metadata": {
    "collapsed": true,
    "deletable": true,
    "editable": true
   },
   "outputs": [],
   "source": [
    "play(\"(0,1,2)*6\", 1, a)\n",
    "play(\"(0,1,2)*6\", 1, b)\n",
    "a.sendNoteDuration(0.1)\n",
    "b.sendNoteDuration(0.1)"
   ]
  },
  {
   "cell_type": "markdown",
   "metadata": {
    "deletable": true,
    "editable": true
   },
   "source": [
    "## sampler DnB setup"
   ]
  },
  {
   "cell_type": "code",
   "execution_count": null,
   "metadata": {
    "collapsed": true,
    "deletable": true,
    "editable": true
   },
   "outputs": [],
   "source": [
    "s3 = Spatializer(60, [[0,1,2,3], [4,5,6,7], [8,9,10,11]], lp, 2)\n",
    "s3.spatialize = False\n",
    "s3.separateChannels = False\n",
    "s3.broadcasting = False\n",
    "lp.addForwardingHandler(2, s3)\n",
    "\n",
    "c = arpeggiator.Arpeggiator(2, arpPydal, read(\"0 1 2\", 1, \"arp\"))\n",
    "c.normalForwardingBehavior = False\n",
    "lp.addForwardingHandler(2, c)\n",
    "\n",
    "#set divider in chordpad to 50, and change 20-divider to have stem \"-2\"\n",
    "# allinone, maxLink, multiloop, chordpad, spatialize, arpeggiator\n",
    "# shift pad lower by 1 row"
   ]
  },
  {
   "cell_type": "code",
   "execution_count": null,
   "metadata": {
    "collapsed": true,
    "deletable": true,
    "editable": true
   },
   "outputs": [],
   "source": [
    "s3.broadcasting = False\n",
    "s3.normalForwardingBehavior = False\n",
    "c.normalForwardingBehavior = True"
   ]
  },
  {
   "cell_type": "code",
   "execution_count": null,
   "metadata": {
    "collapsed": true,
    "deletable": true,
    "editable": true
   },
   "outputs": [],
   "source": [
    "c.sendNoteDuration(0.025)"
   ]
  },
  {
   "cell_type": "code",
   "execution_count": null,
   "metadata": {
    "collapsed": false,
    "deletable": true,
    "editable": true
   },
   "outputs": [],
   "source": [
    "a1 = \"0*4\"\n",
    "a2 = \"3 0 4 0 1 0 2 0 \"\n",
    "play(a1, 1, c)"
   ]
  },
  {
   "cell_type": "code",
   "execution_count": null,
   "metadata": {
    "collapsed": false,
    "deletable": true,
    "editable": true
   },
   "outputs": [],
   "source": [
    "s3.saveChordsToFile(\"phillyjam/dnb.chords\")"
   ]
  },
  {
   "cell_type": "code",
   "execution_count": null,
   "metadata": {
    "collapsed": false,
    "deletable": true,
    "editable": true
   },
   "outputs": [],
   "source": [
    "chanInd = 2\n",
    "bankNum = 1\n",
    "lp.loops[chanInd][bankNum] = goodBass\n",
    "lp.loopInfo[chanInd][bankNum][\"button\"] = 20\n",
    "lp.loopInfo[chanInd][bankNum][\"playing\"] = False\n",
    "lp.roots[chanInd] = lp.roots[2]\n",
    "lp.scales[chanInd] = lp.scales[2]"
   ]
  },
  {
   "cell_type": "markdown",
   "metadata": {
    "deletable": true,
    "editable": true
   },
   "source": [
    "# SCRATCH"
   ]
  },
  {
   "cell_type": "markdown",
   "metadata": {
    "deletable": true,
    "editable": true
   },
   "source": [
    "# SCRATCH"
   ]
  },
  {
   "cell_type": "markdown",
   "metadata": {
    "deletable": true,
    "editable": true
   },
   "source": [
    "# SCRATCH"
   ]
  },
  {
   "cell_type": "code",
   "execution_count": null,
   "metadata": {
    "collapsed": false,
    "deletable": true,
    "editable": true
   },
   "outputs": [],
   "source": [
    "# s2.saveChordsToFile(\"phillyjam/horns4.chords\")\n",
    "# s.saveChordsToFile(\"phillyjam/organ4.chords\")\n",
    "# lp.saveScenesToFile(\"phillyjam/philly3.scenes\")"
   ]
  },
  {
   "cell_type": "code",
   "execution_count": null,
   "metadata": {
    "collapsed": false,
    "deletable": true,
    "editable": true
   },
   "outputs": [],
   "source": [
    "wp.plotWave(Sin(freq=0.1, phase=Sin(freq=0.2))*40+60)"
   ]
  },
  {
   "cell_type": "code",
   "execution_count": null,
   "metadata": {
    "collapsed": true,
    "deletable": true,
    "editable": true
   },
   "outputs": [],
   "source": [
    "a.sendNoteDuration(0.1)"
   ]
  },
  {
   "cell_type": "code",
   "execution_count": null,
   "metadata": {
    "collapsed": true,
    "deletable": true,
    "editable": true
   },
   "outputs": [],
   "source": [
    "play(\"(0, 1, 2)*4\", 1)"
   ]
  },
  {
   "cell_type": "code",
   "execution_count": null,
   "metadata": {
    "collapsed": false,
    "deletable": true,
    "editable": true
   },
   "outputs": [],
   "source": [
    "p1 = read(\"da [ab ac]\", 16, \"chord\")"
   ]
  },
  {
   "cell_type": "code",
   "execution_count": null,
   "metadata": {
    "collapsed": false,
    "deletable": true,
    "editable": true
   },
   "outputs": [],
   "source": [
    "p1.render()"
   ]
  },
  {
   "cell_type": "code",
   "execution_count": null,
   "metadata": {
    "collapsed": false,
    "deletable": true,
    "editable": true
   },
   "outputs": [],
   "source": [
    "ch1.play(p1, [1])"
   ]
  },
  {
   "cell_type": "code",
   "execution_count": null,
   "metadata": {
    "collapsed": false,
    "deletable": true,
    "editable": true
   },
   "outputs": [],
   "source": [
    "s.broadcasting = True\n",
    "s2.broadcasting = True"
   ]
  },
  {
   "cell_type": "code",
   "execution_count": null,
   "metadata": {
    "collapsed": false,
    "deletable": true,
    "editable": true
   },
   "outputs": [],
   "source": [
    "ch1.stop()"
   ]
  },
  {
   "cell_type": "code",
   "execution_count": null,
   "metadata": {
    "collapsed": false,
    "deletable": true,
    "editable": true
   },
   "outputs": [],
   "source": [
    "lp.loops[2]"
   ]
  },
  {
   "cell_type": "code",
   "execution_count": null,
   "metadata": {
    "collapsed": false,
    "deletable": true,
    "editable": true
   },
   "outputs": [],
   "source": [
    "s = Spatializer(60, [[0,1,2,3], [4,5,6,7], [8,9,10,11]], lp)\n",
    "s.spatialize = False\n",
    "s.separateChannels = True\n",
    "lp.addForwardingHandler(1, s)\n",
    "s.loadChordsFromFile(\"songV4.chords\")\n",
    "def toggleSustain():\n",
    "    s.sustaining = not s.sustaining\n",
    "def toggleSeparateChannels():\n",
    "    s.separateChannels = not s.separateChannels\n",
    "lp.topRowFunctions[0] = toggleSustain\n",
    "lp.topRowFunctions[1] = toggleSeparateChannels\n"
   ]
  },
  {
   "cell_type": "code",
   "execution_count": null,
   "metadata": {
    "collapsed": false,
    "deletable": true,
    "editable": true
   },
   "outputs": [],
   "source": [
    "# ch1.play(read(\"[a:0_0.25*2, b:1_1.5*3] \", 1, \"max\"))\n",
    "ch1.stop()"
   ]
  },
  {
   "cell_type": "code",
   "execution_count": null,
   "metadata": {
    "collapsed": false,
    "deletable": true,
    "editable": true
   },
   "outputs": [],
   "source": [
    "rootScale(0, 57, \"minor\")"
   ]
  },
  {
   "cell_type": "code",
   "execution_count": null,
   "metadata": {
    "collapsed": false,
    "deletable": true,
    "editable": true
   },
   "outputs": [],
   "source": [
    "def toggleSustain():\n",
    "    s.sustaining = not s.sustaining\n",
    "def toggleSeparateChannels():\n",
    "    s.separateChannels = not s.separateChannels\n",
    "lp.topRowFunctions[0] = toggleSustain\n",
    "lp.topRowFunctions[1] = toggleSeparateChannels"
   ]
  },
  {
   "cell_type": "code",
   "execution_count": null,
   "metadata": {
    "collapsed": false,
    "deletable": true,
    "editable": true
   },
   "outputs": [],
   "source": [
    "s.heldNotesOff(1)"
   ]
  },
  {
   "cell_type": "code",
   "execution_count": null,
   "metadata": {
    "collapsed": false,
    "deletable": true,
    "editable": true
   },
   "outputs": [],
   "source": [
    "lp.startChannel(1, lambda buf: buf, lp.loops[2][0])"
   ]
  },
  {
   "cell_type": "code",
   "execution_count": null,
   "metadata": {
    "collapsed": false,
    "deletable": true,
    "editable": true
   },
   "outputs": [],
   "source": [
    "lp.stopChannel(1)"
   ]
  },
  {
   "cell_type": "code",
   "execution_count": null,
   "metadata": {
    "collapsed": false,
    "deletable": true,
    "editable": true
   },
   "outputs": [],
   "source": [
    "a = read(\"{bd (lt*2, lt, lt), hc <~, sn hc> ~ hc:2}\")\n",
    "b = read(\"{(bd ~, sn:3 <~, cp>)}\")\n",
    "c = read(\"((bd:2*2, [bd:3 bd:3] bd), [sn:5 [bd sn:3]], [[bd sn:3] bd], <sn:6 [bd sn:3], <sn:6*4, sn:6*2 ~, sn:6*2 [sn:6 ~]>>)\")\n",
    "c2 = read(\"(bd:2*2, [bd:3 bd:3] bd) [sn:5 [bd sn:3]] [[bd sn:3] bd] <sn:6 [bd sn:3], <sn:6*4, sn:6*2 ~, sn:6*2 [sn:6 ~]>>\", 4)\n",
    "d = read(\"{~ ~, bin ~ bin ~}\")\n",
    "e = read(\"{[bin <bin:1, bin, bin*2> bin bot, hc <hc, ho>], bd sn:3}\")\n",
    "\n",
    "'''\n",
    "bd 3\n",
    "lt\n",
    "sn 5\n",
    "cp\n",
    "hc:1 \n",
    "ho\n",
    "bot\n",
    "bin \n",
    "bend:2\n",
    "1 freebie \n",
    "'''\n",
    "\n",
    "demo = read(\"bend:2 bin\")\n",
    "\n",
    "f = read(\"aa:4_4.75*2 aa:5_5.75*3\", 2, 'sample')\n",
    "f2 = read(\"hc*2 cp*3\", 2)\n",
    "d2 = read(\"{~ ~ , bd ~ sn:3 ~}\", 4)\n",
    "g = read(\"{~ ~ , ab:0_2 ~ ab:3_5 ~}\", 4, 'sample')"
   ]
  },
  {
   "cell_type": "code",
   "execution_count": null,
   "metadata": {
    "collapsed": false,
    "deletable": true,
    "editable": true
   },
   "outputs": [],
   "source": [
    "ch1.play(read(\"[bd bd bd, hc (hc, ho, hc*2), bot <bot*2, bot> bot bot*2]\", 2))"
   ]
  },
  {
   "cell_type": "code",
   "execution_count": null,
   "metadata": {
    "collapsed": true,
    "deletable": true,
    "editable": true
   },
   "outputs": [],
   "source": [
    "ch1.stop()"
   ]
  },
  {
   "cell_type": "code",
   "execution_count": null,
   "metadata": {
    "collapsed": false,
    "deletable": true,
    "editable": true
   },
   "outputs": [],
   "source": [
    "s.loadChordsFromFile(\"songV4.chords\")"
   ]
  },
  {
   "cell_type": "code",
   "execution_count": null,
   "metadata": {
    "collapsed": false,
    "deletable": true,
    "editable": true
   },
   "outputs": [],
   "source": [
    "rootScale(1, lp.roots[1], \"maj5\")"
   ]
  },
  {
   "cell_type": "code",
   "execution_count": null,
   "metadata": {
    "collapsed": false,
    "deletable": true,
    "editable": true
   },
   "outputs": [],
   "source": [
    "lp.startChannel(1, lambda buf: fh.randTranspose(buf, lp.roots[0], lp.scales[0]), lp.loops[0][1])"
   ]
  },
  {
   "cell_type": "code",
   "execution_count": null,
   "metadata": {
    "collapsed": true,
    "deletable": true,
    "editable": true
   },
   "outputs": [],
   "source": [
    "lp.stopChannel(1)"
   ]
  },
  {
   "cell_type": "code",
   "execution_count": null,
   "metadata": {
    "collapsed": false,
    "deletable": true,
    "editable": true
   },
   "outputs": [],
   "source": [
    "lp.startChannel(1, lambda buf: fh.warp(buf, 3, 1), lp.loops[1][3])"
   ]
  }
 ],
 "metadata": {
  "kernelspec": {
   "display_name": "Python 2",
   "language": "python",
   "name": "python2"
  },
  "language_info": {
   "codemirror_mode": {
    "name": "ipython",
    "version": 2
   },
   "file_extension": ".py",
   "mimetype": "text/x-python",
   "name": "python",
   "nbconvert_exporter": "python",
   "pygments_lexer": "ipython2",
   "version": "2.7.13"
  }
 },
 "nbformat": 4,
 "nbformat_minor": 0
}
