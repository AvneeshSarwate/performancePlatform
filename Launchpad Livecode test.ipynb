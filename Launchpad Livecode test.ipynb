{
 "cells": [
  {
   "cell_type": "code",
   "execution_count": 1,
   "metadata": {
    "collapsed": false
   },
   "outputs": [],
   "source": [
    "from fh import FH \n",
    "import fh\n",
    "from treeBuilder import TreeBuilder as TB\n",
    "import PydalChanel as pydal\n",
    "import copy\n",
    "import pickle\n",
    "import arpeggiator\n",
    "from spatializer import Spatializer\n",
    "\n",
    "lp = FH()\n",
    "\n",
    "\n",
    "oneHitShift = fh.oneHitShift\n",
    "\n",
    "read = pydal.read\n",
    "end = pydal.end\n",
    "tempo = pydal.tempo\n",
    "rootScale = lp.rootScale\n",
    "stripSymbols = lambda beats : map(lambda beat : list(beat[1])[0], beats)\n",
    "\n",
    "ch1 = pydal.newChannel(1)\n",
    "ch2 = pydal.newChannel(2)\n",
    "ch3 = pydal.newChannel(3)\n",
    "ch4 = pydal.newChannel(4)\n",
    "ch5 = pydal.newChannel(5)\n",
    "\n",
    "idv = lambda a : a\n",
    "codec = lambda buf: fh.noteListToHitList(fh.flattenByBeat(fh.notesByBeat(fh.hitListToNoteList(buf))))"
   ]
  },
  {
   "cell_type": "code",
   "execution_count": 2,
   "metadata": {
    "collapsed": false
   },
   "outputs": [],
   "source": [
    "s = Spatializer(60, [[0,1,2,3], [4,5,6,7], [8,9,10,11]])\n",
    "s.spatialize = False\n",
    "lp.addForwardingHandler(1, s)"
   ]
  },
  {
   "cell_type": "code",
   "execution_count": 8,
   "metadata": {
    "collapsed": false
   },
   "outputs": [],
   "source": [
    "s.sustaining = True"
   ]
  },
  {
   "cell_type": "code",
   "execution_count": null,
   "metadata": {
    "collapsed": false
   },
   "outputs": [],
   "source": [
    "lp.startChannel(1, lambda buf: fh.spatialize(buf, lp.roots[0], [[0,1,2,3], [4,5,6,7], [8,9,10,11]]), lp.loops[0][0])"
   ]
  },
  {
   "cell_type": "code",
   "execution_count": null,
   "metadata": {
    "collapsed": true
   },
   "outputs": [],
   "source": [
    "lp.stopChannel(1)"
   ]
  },
  {
   "cell_type": "code",
   "execution_count": null,
   "metadata": {
    "collapsed": false
   },
   "outputs": [],
   "source": [
    "a = read(\"{bd (lt*2, lt, lt), hc <~, sn hc> ~ hc:2}\")\n",
    "b = read(\"{(bd ~, sn:3 <~, cp>)}\")\n",
    "c = read(\"((bd:2*2, [bd:3 bd:3] bd), [sn:5 [bd sn:3]], [[bd sn:3] bd], <sn:6 [bd sn:3], <sn:6*4, sn:6*2 ~, sn:6*2 [sn:6 ~]>>)\")\n",
    "c2 = read(\"(bd:2*2, [bd:3 bd:3] bd) [sn:5 [bd sn:3]] [[bd sn:3] bd] <sn:6 [bd sn:3], <sn:6*4, sn:6*2 ~, sn:6*2 [sn:6 ~]>>\", 4)\n",
    "d = read(\"{~ ~, bin ~ bin ~}\")\n",
    "e = read(\"{[bin <bin:1, bin, bin*2> bin bot, hc <hc, ho>], bd sn:3}\")\n",
    "\n",
    "\n",
    "demo = read(\"< bd bd, sn sn, hc hc>\")\n",
    "\n",
    "f = read(\"aa:4_4.75*2 aa:5_5.75*3\", 2, 'sample')\n",
    "f2 = read(\"hc*2 cp*3\", 2)\n",
    "d2 = read(\"{~ ~ , bd ~ sn:3 ~}\", 4)\n",
    "g = read(\"{~ ~ , ab:0_2 ~ ab:3_5 ~}\", 4, 'sample')"
   ]
  },
  {
   "cell_type": "code",
   "execution_count": null,
   "metadata": {
    "collapsed": false
   },
   "outputs": [],
   "source": [
    "rootScale(1, lp.roots[1], \"maj5\")"
   ]
  },
  {
   "cell_type": "code",
   "execution_count": null,
   "metadata": {
    "collapsed": false
   },
   "outputs": [],
   "source": [
    "lp.startChannel(1, lambda buf: fh.randTranspose(buf, lp.roots[0], lp.scales[0]), lp.loops[0][0])"
   ]
  },
  {
   "cell_type": "code",
   "execution_count": null,
   "metadata": {
    "collapsed": false
   },
   "outputs": [],
   "source": [
    "lp.startChannel(1, lambda buf: fh.warp(buf, 3, 1), lp.loops[1][3])"
   ]
  }
 ],
 "metadata": {
  "kernelspec": {
   "display_name": "Python 2",
   "language": "python",
   "name": "python2"
  },
  "language_info": {
   "codemirror_mode": {
    "name": "ipython",
    "version": 2
   },
   "file_extension": ".py",
   "mimetype": "text/x-python",
   "name": "python",
   "nbconvert_exporter": "python",
   "pygments_lexer": "ipython2",
   "version": "2.7.10"
  }
 },
 "nbformat": 4,
 "nbformat_minor": 0
}
