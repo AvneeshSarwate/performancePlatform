{
 "cells": [
  {
   "cell_type": "code",
   "execution_count": 1,
   "metadata": {
    "collapsed": false
   },
   "outputs": [
    {
     "ename": "NameError",
     "evalue": "name 'Arpeggiator' is not defined",
     "output_type": "error",
     "traceback": [
      "\u001b[0;31m---------------------------------------------------------------------------\u001b[0m",
      "\u001b[0;31mNameError\u001b[0m                                 Traceback (most recent call last)",
      "\u001b[0;32m<ipython-input-1-463a472d6b6a>\u001b[0m in \u001b[0;36m<module>\u001b[0;34m()\u001b[0m\n\u001b[1;32m      8\u001b[0m \u001b[0;34m\u001b[0m\u001b[0m\n\u001b[1;32m      9\u001b[0m \u001b[0mlp\u001b[0m \u001b[0;34m=\u001b[0m \u001b[0mFH\u001b[0m\u001b[0;34m(\u001b[0m\u001b[0;34m)\u001b[0m\u001b[0;34m\u001b[0m\u001b[0m\n\u001b[0;32m---> 10\u001b[0;31m \u001b[0mlp\u001b[0m\u001b[0;34m.\u001b[0m\u001b[0maddForwardingHandler\u001b[0m\u001b[0;34m(\u001b[0m\u001b[0mArpeggiator\u001b[0m\u001b[0;34m(\u001b[0m\u001b[0;34m)\u001b[0m\u001b[0;34m)\u001b[0m\u001b[0;34m\u001b[0m\u001b[0m\n\u001b[0m\u001b[1;32m     11\u001b[0m \u001b[0;34m\u001b[0m\u001b[0m\n\u001b[1;32m     12\u001b[0m \u001b[0moneHitShift\u001b[0m \u001b[0;34m=\u001b[0m \u001b[0mfh\u001b[0m\u001b[0;34m.\u001b[0m\u001b[0moneHitShift\u001b[0m\u001b[0;34m\u001b[0m\u001b[0m\n",
      "\u001b[0;31mNameError\u001b[0m: name 'Arpeggiator' is not defined"
     ]
    }
   ],
   "source": [
    "from fh import FH \n",
    "import fh\n",
    "from treeBuilder import TreeBuilder as TB\n",
    "import PydalChanel as pydal\n",
    "import copy\n",
    "import pickle\n",
    "import arpeggiator\n",
    "\n",
    "lp = FH()\n",
    "lp.addForwardingHandler(Arpeggiator())\n",
    "\n",
    "oneHitShift = fh.oneHitShift\n",
    "\n",
    "read = pydal.read\n",
    "end = pydal.end\n",
    "tempo = pydal.tempo\n",
    "rootScale = lp.rootScale\n",
    "stripSymbols = lambda beats : map(lambda beat : list(beat[1])[0], beats)\n",
    "\n",
    "ch1 = pydal.newChannel(1)\n",
    "ch2 = pydal.newChannel(2)\n",
    "ch3 = pydal.newChannel(3)\n",
    "ch4 = pydal.newChannel(4)\n",
    "ch5 = pydal.newChannel(5)\n",
    "\n",
    "idv = lambda a : a\n",
    "codec = lambda buf: fh.noteListToHitList(fh.flattenByBeat(fh.notesByBeat(fh.hitListToNoteList(buf))))"
   ]
  },
  {
   "cell_type": "code",
   "execution_count": null,
   "metadata": {
    "collapsed": false
   },
   "outputs": [],
   "source": [
    "lp.buttonForwardingHandlers"
   ]
  },
  {
   "cell_type": "code",
   "execution_count": null,
   "metadata": {
    "collapsed": false
   },
   "outputs": [],
   "source": [
    "a = read(\"{bd (lt*2, lt, lt), hc <~, sn hc> ~ hc:2}\")\n",
    "b = read(\"{(bd ~, sn:3 <~, cp>)}\")\n",
    "c = read(\"((bd:2*2, [bd:3 bd:3] bd), [sn:5 [bd sn:3]], [[bd sn:3] bd], <sn:6 [bd sn:3], <sn:6*4, sn:6*2 ~, sn:6*2 [sn:6 ~]>>)\")\n",
    "c2 = read(\"(bd:2*2, [bd:3 bd:3] bd) [sn:5 [bd sn:3]] [[bd sn:3] bd] <sn:6 [bd sn:3], <sn:6*4, sn:6*2 ~, sn:6*2 [sn:6 ~]>>\", 4)\n",
    "d = read(\"{~ ~, bin ~ bin ~}\")\n",
    "e = read(\"{[bin <bin:1, bin, bin*2> bin bot, hc <hc, ho>], bd sn:3}\")\n",
    "\n",
    "\n",
    "demo = read(\"bd ~\")\n",
    "\n",
    "f = read(\"aa:1_1.75*2 aa:3_3.75*3\", 2, 'sample')\n",
    "d2 = read(\"{~ ~ , bd ~ sn:3 ~}\", 4)\n",
    "g = read(\"{~ ~ , ab:0_2 ~ ab:3_5 ~}\", 4, 'sample')"
   ]
  },
  {
   "cell_type": "code",
   "execution_count": null,
   "metadata": {
    "collapsed": false
   },
   "outputs": [],
   "source": [
    "ch1.stop()"
   ]
  },
  {
   "cell_type": "code",
   "execution_count": null,
   "metadata": {
    "collapsed": false
   },
   "outputs": [],
   "source": [
    "tempo(150)"
   ]
  },
  {
   "cell_type": "code",
   "execution_count": null,
   "metadata": {
    "collapsed": false,
    "scrolled": true
   },
   "outputs": [],
   "source": [
    "lp.loadScenesFromFile(\"song1e.scenes\")"
   ]
  },
  {
   "cell_type": "code",
   "execution_count": null,
   "metadata": {
    "collapsed": false
   },
   "outputs": [],
   "source": [
    "rootScale(0, lp.roots[0]+5, \"hminor\")\n",
    "rootScale(1, lp.roots[1]+5, \"hminor\")\n",
    "rootScale(2, lp.roots[2]+5, \"hminor\")"
   ]
  },
  {
   "cell_type": "code",
   "execution_count": null,
   "metadata": {
    "collapsed": false
   },
   "outputs": [],
   "source": [
    "lp.saveScenesToFile(\"song1slow.scenes\")"
   ]
  },
  {
   "cell_type": "code",
   "execution_count": null,
   "metadata": {
    "collapsed": false
   },
   "outputs": [],
   "source": [
    "st = '69 0.49950693402567,80,101,1,on-0.12300503053356,80,0,1,off-0.37064133602195,75,98,1,on-0.10712906254986,75,0,1,off-0.36297831440561,75,103,1,on-0.090360763184094,75,0,1,off-0.40264527718247,75,108,1,on-0.098848608124257,75,0,1,off-0.39581608216994,75,103,1,on-0.074119008398242,75,0,1,off-0.41079760461554,75,111,1,on-0.073419676461185,75,0,1,off-0.41209621156585,75,112,1,on-0.12404576558649,75,0,1,off-0.45459032517527,0,0,0,timeAfterLastHit 216'\n",
    "for s in st.split('-'):\n",
    "    print s"
   ]
  },
  {
   "cell_type": "code",
   "execution_count": null,
   "metadata": {
    "collapsed": false
   },
   "outputs": [],
   "source": [
    "lp.startChannel(1, lambda buf: fh.randTranspose(buf, lp.roots[2], lp.scales[2]), lp.loops[2][0])"
   ]
  },
  {
   "cell_type": "code",
   "execution_count": null,
   "metadata": {
    "collapsed": true
   },
   "outputs": [],
   "source": [
    "lp.stopChannel(1)"
   ]
  }
 ],
 "metadata": {
  "kernelspec": {
   "display_name": "Python 2",
   "language": "python",
   "name": "python2"
  },
  "language_info": {
   "codemirror_mode": {
    "name": "ipython",
    "version": 2
   },
   "file_extension": ".py",
   "mimetype": "text/x-python",
   "name": "python",
   "nbconvert_exporter": "python",
   "pygments_lexer": "ipython2",
   "version": "2.7.10"
  }
 },
 "nbformat": 4,
 "nbformat_minor": 0
}
