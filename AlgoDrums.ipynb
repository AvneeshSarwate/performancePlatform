{
 "cells": [
  {
   "cell_type": "code",
   "execution_count": null,
   "metadata": {
    "collapsed": false,
    "deletable": true,
    "editable": true
   },
   "outputs": [],
   "source": [
    "import PydalChanel as pydal\n",
    "from fh import FH\n",
    "\n",
    "read = pydal.read\n",
    "end = pydal.end\n",
    "tempo = pydal.tempo\n",
    "\n",
    "ch1 = pydal.newChannel(1)\n",
    "ch2 = pydal.newChannel(2)\n",
    "ch3 = pydal.newChannel(3)\n",
    "\n",
    "lp = FH()\n",
    "\n",
    "tempo(150)\n",
    "\n",
    "#start metronome, muliLoop, pydal, faders, xyFaders, miniPad"
   ]
  },
  {
   "cell_type": "code",
   "execution_count": null,
   "metadata": {
    "collapsed": false,
    "deletable": true,
    "editable": true
   },
   "outputs": [],
   "source": [
    "'''\n",
    "bd 3\n",
    "lt\n",
    "sn 5\n",
    "ho\n",
    "hc \n",
    "bot 1\n",
    "bin \n",
    "bend\n",
    "2 freebie - rd:1? bin:1? cp? bend? sn3?\n",
    "'''\n",
    "\n",
    "a = read('[bd sn]*2 rd:1 [bd sn]*2 [rd:1 ~ ~ rd:1] [~ rd:1]', 5)\n",
    "a1 = read('[~ <sn, ~>]*2 bin [~ sn]*2 [rd:1 ~ ~ bin] [~ rd:1]', 5)\n",
    "b = read(\"~ [lt lt ~]\", 1.5)\n",
    "c = read(\"bd:3 <bd:3, bd> ~\")\n",
    "br = read(\"(bd*2, [bd:3 bd:3] bd) [sn:5 [bd sn:3]] [[bd sn:3] bd] <sn:5 [bd sn:3], <sn:5*4, sn:5*2 ~, sn:5*2 [sn:5 ~]>>\", 4)\n",
    "d = read(\"bd:3 bd:3 <sn:5, ~, bd:3*2> <bd:3, bd:3*2> bd:3 sn:5 bd sn:5*2\", 4)\n",
    "e = read(\"{[bin <bin:1, bin, bin*2> bin bot, hc <hc, ho>], bd sn:3}\")\n",
    "f = read(\"[hc ~] [bend ~] ([~ bin], [bin ~])\", 3)\n",
    "g = read(\"((lt,  bd, <lt, bd>, <lt, bd>)*4, sn:3 (~, <sn:3, ~>))\")\n",
    "h = read(\"lt bd\")"
   ]
  },
  {
   "cell_type": "code",
   "execution_count": null,
   "metadata": {
    "collapsed": false,
    "deletable": true,
    "editable": true
   },
   "outputs": [],
   "source": [
    "lp.saveScenesToFile(\"jamSet.scenes\")\n",
    "lp.playScene(60)\n",
    "# lp.saveScene(61)"
   ]
  },
  {
   "cell_type": "code",
   "execution_count": null,
   "metadata": {
    "collapsed": false,
    "deletable": true,
    "editable": true
   },
   "outputs": [],
   "source": [
    "ch1.play(f)\n",
    "ch2.play(g)\n",
    "# ch3.play(g)"
   ]
  },
  {
   "cell_type": "code",
   "execution_count": null,
   "metadata": {
    "collapsed": false,
    "deletable": true,
    "editable": true
   },
   "outputs": [],
   "source": [
    "ch1.stop()\n",
    "ch2.stop()\n",
    "ch3.stop()"
   ]
  },
  {
   "cell_type": "code",
   "execution_count": null,
   "metadata": {
    "collapsed": false,
    "deletable": true,
    "editable": true
   },
   "outputs": [],
   "source": [
    "# lp.setFollowers(4, (0, 1), (1, 2))\n",
    "tempo(150)"
   ]
  },
  {
   "cell_type": "code",
   "execution_count": null,
   "metadata": {
    "collapsed": true,
    "deletable": true,
    "editable": true
   },
   "outputs": [],
   "source": [
    "# rough structure - 5 minutes approx - \n",
    "# 1. simple - tidal drums and mild-distorted guitar - drums start moving around, establish melodic themes\n",
    "# 2. ramp up - drums start moving more, separate drone track (tanpura), guitar soloing\n",
    "# 3. start heavy - taiko drums come in, guitar gets sub-octave and delay (notes stay high)\n",
    "# 4. metal - play drop d with sub octave, tidal drums playing blast beats over heavy taiko groove\n",
    "# 5. tone down - sparse half time taiko and high pitched tidal (random accents) - soft guitar playing with mild-distorton\n",
    "\n",
    "# grooves - \n",
    "# d, f\n",
    "# br \n",
    "# d, e\n",
    "# a couple of low-only and high-only beats\n",
    "\n",
    "# new structure\n",
    "# f - only spatialization\n",
    "# f d - spatialization and mild resonator\n",
    "# f d guitar (light distortion) - get heavier on the resonance, guitar playing with its own drone\n",
    "# br tanpura guitar (light distortion) - guitar playing without its own drone (drum effects - do whatever)\n",
    "# d e tanpura guitar (reverse delay effect) (drum effects - do whatever)\n",
    "# g f tanpura guitar (sub octave, play low notes)\n",
    "# g - replace hits of g with ~ till it is silence, on guitar, play high notes w/ guitar drone and sub-octave  "
   ]
  },
  {
   "cell_type": "code",
   "execution_count": null,
   "metadata": {
    "collapsed": false,
    "deletable": true,
    "editable": true
   },
   "outputs": [],
   "source": [
    "def clearFollow():\n",
    "    lp.delays.clear()\n",
    "    \n",
    "    \n",
    "dS = \"bd bd:3 sn:5\"\n",
    "fS = \"hc bin bend\"\n",
    "def follow_fd():     # sn:5 hc\n",
    "    lp.delays.clear()\n",
    "    lp.setFollowers(5, (0, 3), (1, 2))\n",
    "    lp.setFollowers(7, (11, 1.5), (10, 3))\n",
    "    \n",
    "\n",
    "brS = \"bd bd:3 sn:3 sn:5\" \n",
    "def follow_br():     # bd sn:3\n",
    "    lp.delays.clear()\n",
    "    lp.setFollowers(0, (1, 1.5))\n",
    "    lp.setFollowers(4, (5, 1.5))\n",
    "\n",
    "dS = \"bd bd:3 sn:5\"\n",
    "eS = \"bd sn:3 ho hc bot bin\" \n",
    "def follow_de():\n",
    "    lp.delays.clear() # hc sn:5 bot\n",
    "    lp.setFollowers(7, (6, 1.5))\n",
    "    lp.setFollowers(8, (10, 1.5))\n",
    "    lp.setFollowers(5, (0, 3), (1, 2))\n",
    "\n",
    "gS =  \"bd lt sn:3\"\n",
    "fS = \"hc bin bend\"\n",
    "def follow_gf():     # lt hc\n",
    "    lp.delays.clear()\n",
    "    lp.setFollowers(2, (0, 1), (4, 2))\n",
    "    lp.setFollowers(7, (11, 1.5), (10, 3))\n",
    "\n",
    "lp.topRowFunctions = [follow_fd, follow_br, follow_de, follow_gf] + [lambda:None]*3 + [clearFollow]"
   ]
  },
  {
   "cell_type": "code",
   "execution_count": null,
   "metadata": {
    "collapsed": false,
    "deletable": true,
    "editable": true
   },
   "outputs": [],
   "source": [
    "lp.setFollowers(7, (11, 1.5), (10, 3))"
   ]
  },
  {
   "cell_type": "code",
   "execution_count": null,
   "metadata": {
    "collapsed": false,
    "deletable": true,
    "editable": true
   },
   "outputs": [],
   "source": [
    "#TODO - copy pattern definitions here so you can livecode them\n",
    "def b0():\n",
    "    ch1.play(f)\n",
    "    ch2.stop()\n",
    "lp.topRowFunctions[0] = b0\n",
    "def b1():\n",
    "    ch1.play(f)\n",
    "    ch2.play(d)\n",
    "lp.topRowFunctions[1] = b1\n",
    "def b2():\n",
    "    ch1.play(br)\n",
    "    ch2.stop()\n",
    "    lp.startChannel(1, lambda a : a, loop)\n",
    "lp.topRowFunctions[2] = b2\n",
    "def b3():\n",
    "    ch1.play(d)\n",
    "    ch2.play(e)\n",
    "lp.topRowFunctions[3] = b3\n",
    "def b4():\n",
    "    ch1.play(g)\n",
    "    ch2.play(f)\n",
    "lp.topRowFunctions[4] = b4\n",
    "def b5():\n",
    "    ch1.play(g)\n",
    "    ch2.stop()\n",
    "    lp.stopChannel(1)\n",
    "lp.topRowFunctions[5] = b5\n",
    "def b7():\n",
    "    ch1.stop()\n",
    "    ch2.stop()\n",
    "lp.topRowFunctions[7] = b7\n",
    "\n",
    "sectionInd = [0]\n",
    "sections = [b0, b1, b2, b3, b4, b5, b7]\n",
    "def sectionFunc():\n",
    "    sections[sectionInd[0]]()\n",
    "    sectionInd[0] = (sectionInd[0]+1) % len(sections)\n",
    "lp.pedalButtonFunc = sectionFunc"
   ]
  },
  {
   "cell_type": "code",
   "execution_count": null,
   "metadata": {
    "collapsed": true,
    "deletable": true,
    "editable": true
   },
   "outputs": [],
   "source": [
    "pat = read(\"lt sn:5\")\n",
    "\n",
    "lp.setFollowers(2, (5, 3))"
   ]
  },
  {
   "cell_type": "code",
   "execution_count": null,
   "metadata": {
    "collapsed": true,
    "deletable": true,
    "editable": true
   },
   "outputs": [],
   "source": [
    "ch1.play(pat)"
   ]
  },
  {
   "cell_type": "code",
   "execution_count": null,
   "metadata": {
    "collapsed": false,
    "deletable": true,
    "editable": true
   },
   "outputs": [],
   "source": [
    "ch1.stop()"
   ]
  },
  {
   "cell_type": "code",
   "execution_count": null,
   "metadata": {
    "collapsed": false,
    "deletable": true,
    "editable": true
   },
   "outputs": [],
   "source": [
    "lp.delays"
   ]
  },
  {
   "cell_type": "code",
   "execution_count": null,
   "metadata": {
    "collapsed": false,
    "deletable": true,
    "editable": true
   },
   "outputs": [],
   "source": [
    "loop = [[0.030189080770356, 50, 96, 0, 'on'],\n",
    " [0.41382399855593, 50, 0, 0, 'off'],\n",
    " [0.42741111042073, 62, 97, 0, 'on'],\n",
    " [0.25628322278737, 62, 0, 0, 'off'],\n",
    " [0.51245090590908, 74, 94, 0, 'on'],\n",
    " [0.30553642863163, 74, 0, 0, 'off'],\n",
    " [0.41361945389099, 69, 16, 0, 'on'],\n",
    " [0.36665605302403, 69, 0, 0, 'off'],\n",
    " [0.45229681484022, 57, 31, 0, 'on'],\n",
    " [0.37877712223747, 57, 0, 0, 'off'],\n",
    " [0.31727587418152, 62, 42, 0, 'on'],\n",
    " [0.45067520185592, 62, 0, 0, 'off'],\n",
    " [0.34341513625543, 50, 64, 0, 'on'],\n",
    " [0.47532368794475, 50, 0, 0, 'off'],\n",
    " [0.28123347653957, 57, 80, 0, 'on'],\n",
    " [0.45138891718227, 57, 0, 0, 'off'],\n",
    " [0.38993109012677, 62, 87, 0, 'on'],\n",
    " [0.47438935362027, 62, 0, 0, 'off'],\n",
    " [0.34053258995061, 74, 76, 0, 'on'],\n",
    " [0.48915342680743, 74, 0, 0, 'off'],\n",
    " [0.30598444029374, 69, 72, 0, 'on'],\n",
    " [0.40193051567394, 69, 0, 0, 'off'],\n",
    " [0.24312709391768, 74, 45, 0, 'on'],\n",
    " [0.51269586390674, 74, 0, 0, 'off'],\n",
    " [0.30525819263448, 69, 92, 0, 'on'],\n",
    " [0.34095034061306, 69, 0, 0, 'off'],\n",
    " [0.46447693605239, 50, 69, 0, 'on'],\n",
    " [0.42634445509805, 50, 0, 0, 'off'],\n",
    " [0.4390534239717, 62, 54, 0, 'on'],\n",
    " [0.39007443379126, 62, 0, 0, 'off'],\n",
    " [0.35358744282121, 57, 51, 0, 'on'],\n",
    " [0.47630503660173, 57, 0, 0, 'off'],\n",
    " [0.28036421421461, 50, 33, 0, 'on'],\n",
    " [0.52475359012044, 50, 0, 0, 'off'],\n",
    " [0.24449755857086, 62, 45, 0, 'on'],\n",
    " [0.35344378648892, 62, 0, 0, 'off'],\n",
    " [0.3660860430299, 57, 79, 0, 'on'],\n",
    " [0.42711114175734, 57, 0, 0, 'off'],\n",
    " [0.36492469637449, 69, 86, 0, 'on'],\n",
    " [0.3897447804618, 69, 0, 0, 'off'],\n",
    " [0.35444430347866, 74, 71, 0, 'on'],\n",
    " [0.40377990165587, 74, 0, 0, 'off'],\n",
    " [0.403835572655, 69, 84, 0, 'on'],\n",
    " [0.40300338932946, 69, 0, 0, 'off'],\n",
    " [0.42867384740839, 62, 75, 0, 'on'],\n",
    " [0.37805256391073, 62, 0, 0, 'off'],\n",
    " [0.34129829194308, 57, 32, 0, 'on'],\n",
    " [0.36632885669405, 57, 0, 0, 'off'],\n",
    " [0.37704253158813, 50, 75, 0, 'on'],\n",
    " [0.42574624910355, 50, 0, 0, 'off'],\n",
    " [0.31725899951516, 62, 47, 0, 'on'],\n",
    " [0.17065003497112, 62, 0, 0, 'off'],\n",
    " [0.50059805802732, 57, 59, 0, 'on'],\n",
    " [0.26898815499464, 57, 0, 0, 'off'],\n",
    " [0.47638432326744, 62, 73, 0, 'on'],\n",
    " [0.31646810452264, 62, 0, 0, 'off'],\n",
    " [0.35470394980962, 57, 39, 0, 'on'],\n",
    " [0.32971745472457, 57, 0, 0, 'off'],\n",
    " [0.57234120664793, 74, 84, 0, 'on'],\n",
    " [0.28111750987387, 74, 0, 0, 'off'],\n",
    " [0.49925386204029, 69, 56, 0, 'on'],\n",
    " [0.32962644072552, 69, 0, 0, 'off'],\n",
    " [0.26934683499076, 74, 45, 0, 'on'],\n",
    " [0.26790311767229, 74, 0, 0, 'off'],\n",
    " [0.43982727396383, 50, 83, 0, 'on'],\n",
    " [0.47641008560072, 50, 0, 0, 'off'],\n",
    " [0.26839372666723, 50, 92, 0, 'on'],\n",
    " [0.3780064549112, 50, 0, 0, 'off'],\n",
    " [0.38998064079249, 62, 93, 0, 'on'],\n",
    " [0.34154849760705, 62, 0, 0, 'off'],\n",
    " [0.40317324899502, 57, 2, 0, 'on'],\n",
    " [0.36454301437834, 57, 0, 0, 'off'],\n",
    " [0.37857480590606, 50, 56, 0, 'on'],\n",
    " [0.32973060539098, 50, 0, 0, 'off'],\n",
    " [0.46341033673013, 62, 75, 0, 'on'],\n",
    " [0.20799143193381, 62, 0, 0, 'off'],\n",
    " [0.52374034713023, 57, 65, 0, 'on'],\n",
    " [0.19574554572227, 57, 0, 0, 'off'],\n",
    " [0.42822152141264, 69, 81, 0, 'on'],\n",
    " [0.20773844960286, 69, 0, 0, 'off'],\n",
    " [0.48907329780832, 74, 59, 0, 'on'],\n",
    " [0.243435068248, 74, 0, 0, 'off'],\n",
    " [0.51398304722738, 62, 72, 0, 'on'],\n",
    " [0.29274791175862, 62, 0, 0, 'off'],\n",
    " [0.42771003141752, 50, 82, 0, 'on'],\n",
    " [0.29393841108026, 50, 0, 0, 'off'],\n",
    " [0.58565788984845, 62, 26, 0, 'on'],\n",
    " [0.097365057032903, 62, 0, 0, 'off'],\n",
    " [0.58563806818211, 57, 65, 0, 'on'],\n",
    " [0.21863060116141, 57, 0, 0, 'off'],\n",
    " [0.64566124991927, 74, 57, 0, 'on'],\n",
    " [0.18291569618282, 74, 0, 0, 'off'],\n",
    " [0.37993935322584, 69, 56, 0, 'on'],\n",
    " [0.15852186075881, 69, 0, 0, 'off'],\n",
    " [0.070105977926687, 0, 0, 0, 'timeAfterLastHit']]"
   ]
  }
 ],
 "metadata": {
  "kernelspec": {
   "display_name": "Python 2",
   "language": "python",
   "name": "python2"
  },
  "language_info": {
   "codemirror_mode": {
    "name": "ipython",
    "version": 2
   },
   "file_extension": ".py",
   "mimetype": "text/x-python",
   "name": "python",
   "nbconvert_exporter": "python",
   "pygments_lexer": "ipython2",
   "version": "2.7.13"
  }
 },
 "nbformat": 4,
 "nbformat_minor": 2
}
