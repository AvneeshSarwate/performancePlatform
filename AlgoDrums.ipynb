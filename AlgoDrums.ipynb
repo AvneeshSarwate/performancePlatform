{
 "cells": [
  {
   "cell_type": "code",
   "execution_count": 1,
   "metadata": {
    "collapsed": false
   },
   "outputs": [],
   "source": [
    "import PydalChanel as pydal\n",
    "from fh import FH\n",
    "\n",
    "read = pydal.read\n",
    "end = pydal.end\n",
    "tempo = pydal.tempo\n",
    "\n",
    "ch1 = pydal.newChannel(1)\n",
    "ch2 = pydal.newChannel(2)\n",
    "ch3 = pydal.newChannel(3)\n",
    "\n",
    "lp = FH()\n",
    "\n",
    "tempo(150)"
   ]
  },
  {
   "cell_type": "code",
   "execution_count": 78,
   "metadata": {
    "collapsed": false
   },
   "outputs": [],
   "source": [
    "'''\n",
    "bd 3\n",
    "lt\n",
    "sn 5\n",
    "ho\n",
    "hc \n",
    "bot 1\n",
    "bin \n",
    "bend\n",
    "2 freebie - rd:1? bin:1? cp? bend? sn3?\n",
    "'''\n",
    "\n",
    "a = read('[bd sn]*2 rd:1 [bd sn]*2 [rd:1 ~ ~ rd:1] [~ rd:1]', 5)\n",
    "a1 = read('[~ <sn, ~>]*2 bin [~ sn]*2 [rd:1 ~ ~ bin] [~ rd:1]', 5)\n",
    "b = read(\"~ [lt lt ~]\", 1.5)\n",
    "c = read(\"bd:3 <bd:3, bd> ~\")\n",
    "br = read(\"(bd*2, [bd:3 bd:3] bd) [sn:5 [bd sn:3]] [[bd sn:3] bd] <sn:5 [bd sn:3], <sn:5*4, sn:5*2 ~, sn:5*2 [sn:5 ~]>>\", 4)\n",
    "d = read(\"bd:3 bd:3 <sn:5, ~, bd:3*2> <bd:3, bd:3*2> bd:3 sn:5 bd sn:5*2\", 4)\n",
    "e = read(\"{[bin <bin:1, bin, bin*2> bin bot, hc <hc, ho>], bd sn:3}\")\n",
    "f = read(\"[hc ~] [bend ~] ([~ bin], [bin ~])\", 3)\n",
    "g = read(\"((lt,  bd, <lt, bd>, <lt, bd>)*4, sn:3 (~, <sn:3, ~>))\")\n",
    "h = read(\"lt bd\")"
   ]
  },
  {
   "cell_type": "code",
   "execution_count": 125,
   "metadata": {
    "collapsed": false
   },
   "outputs": [],
   "source": [
    "# ch1.play(d)\n",
    "# ch2.play(f)\n",
    "ch3.play(g)"
   ]
  },
  {
   "cell_type": "code",
   "execution_count": 126,
   "metadata": {
    "collapsed": true
   },
   "outputs": [],
   "source": [
    "ch1.stop()\n",
    "ch2.stop()\n",
    "ch3.stop()"
   ]
  },
  {
   "cell_type": "code",
   "execution_count": null,
   "metadata": {
    "collapsed": false
   },
   "outputs": [],
   "source": [
    "# lp.setFollowers(4, (0, 1), (1, 2))\n",
    "tempo(150)"
   ]
  },
  {
   "cell_type": "code",
   "execution_count": 90,
   "metadata": {
    "collapsed": true
   },
   "outputs": [],
   "source": [
    "# rough structure - 5 minutes approx - \n",
    "# 1. simple - tidal drums and mild-distorted guitar - drums start moving around, establish melodic themes\n",
    "# 2. ramp up - drums start moving more, separate drone track (tanpura), guitar soloing\n",
    "# 3. start heavy - taiko drums come in, guitar gets sub-octave and delay (notes stay high)\n",
    "# 4. metal - play drop d with sub octave, tidal drums playing blast beats over heavy taiko groove\n",
    "# 5. tone down - sparse half time taiko and high pitched tidal (random accents) - soft guitar playing with mild-distorton\n",
    "\n",
    "# grooves - \n",
    "# d, f\n",
    "# br \n",
    "# d, e\n",
    "# a couple of low-only and high-only beats\n",
    "\n",
    "# new structure\n",
    "# f - only spatialization\n",
    "# f d - spatialization and mild resonator\n",
    "# f d guitar (light distortion) - get heavier on the resonance, guitar playing with its own drone\n",
    "# br tanpura guitar (light distortion) - guitar playing without its own drone (drum effects - do whatever)\n",
    "# d e tanpura guitar (reverse delay effect) (drum effects - do whatever)\n",
    "# g f tanpura guitar (sub octave, play low notes)\n",
    "# g - replace hits of g with ~ till it is silence, on guitar, play high notes w/ guitar drone and sub-octave  "
   ]
  },
  {
   "cell_type": "code",
   "execution_count": null,
   "metadata": {
    "collapsed": true
   },
   "outputs": [],
   "source": []
  }
 ],
 "metadata": {
  "kernelspec": {
   "display_name": "Python 2",
   "language": "python",
   "name": "python2"
  },
  "language_info": {
   "codemirror_mode": {
    "name": "ipython",
    "version": 2
   },
   "file_extension": ".py",
   "mimetype": "text/x-python",
   "name": "python",
   "nbconvert_exporter": "python",
   "pygments_lexer": "ipython2",
   "version": "2.7.10"
  }
 },
 "nbformat": 4,
 "nbformat_minor": 2
}
