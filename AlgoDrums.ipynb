{
 "cells": [
  {
   "cell_type": "code",
   "execution_count": 1,
   "metadata": {
    "collapsed": true
   },
   "outputs": [],
   "source": [
    "import PydalChanel as pydal\n",
    "\n",
    "read = pydal.read\n",
    "end = pydal.end\n",
    "tempo = pydal.tempo\n",
    "\n",
    "ch1 = pydal.newChannel(1)\n",
    "ch2 = pydal.newChannel(2)\n",
    "ch3 = pydal.newChannel(3)\n",
    "\n",
    "tempo(150)"
   ]
  },
  {
   "cell_type": "code",
   "execution_count": 70,
   "metadata": {
    "collapsed": false
   },
   "outputs": [],
   "source": [
    "'''\n",
    "bd 3\n",
    "lt\n",
    "sn 5\n",
    "cp\n",
    "hc:1 \n",
    "ho\n",
    "bot\n",
    "bin \n",
    "bend:2\n",
    "1 freebie - rd:1? bin:1?\n",
    "'''\n",
    "\n",
    "a = read('[bd sn]*2 rd:1 [bd sn]*2 [rd:1 ~ ~ rd:1] [~ rd:1]', 5)\n",
    "a1 = read('[~ <sn, ~>]*2 bin [~ sn]*2 [rd:1 ~ ~ bin] [~ rd:1]', 5)\n",
    "b = read(\"~ [lt lt ~]\", 1.5)\n",
    "c = read(\"bd:3 <bd:3, bd> ~\")\n",
    "c2 = read(\"(bd*2, [bd:3 bd:3] bd) [sn:5 [bd sn:3]] [[bd sn:3] bd] <sn:5 [bd sn:3], <sn:5*4, sn:5*2 ~, sn:5*2 [sn:5 ~]>>\", 4)\n",
    "d = read(\"bd:3 bd:3 <sn:5, ~, bd:3*2> <bd:3, bd:3*2> bd:3 sn:5 bd sn:5*2\", 4)\n",
    "e = read(\"{[bin <bin:1, bin, bin*2> bin bot, hc <hc, ho>], bd sn:3}\")"
   ]
  },
  {
   "cell_type": "code",
   "execution_count": 77,
   "metadata": {
    "collapsed": true
   },
   "outputs": [],
   "source": [
    "ch1.play(c2)"
   ]
  },
  {
   "cell_type": "code",
   "execution_count": 78,
   "metadata": {
    "collapsed": true
   },
   "outputs": [],
   "source": [
    "ch1.stop()\n",
    "ch2.stop()\n",
    "ch3.stop()"
   ]
  },
  {
   "cell_type": "code",
   "execution_count": null,
   "metadata": {
    "collapsed": true
   },
   "outputs": [],
   "source": [
    "# rough structure - 5 minutes approx - \n",
    "# 1. simple - tidal drums and mild-distorted guitar - drums start moving around, establish melodic themes\n",
    "# 2. ramp up - drums start moving more, separate drone track, guitar soloing\n",
    "# 3. start heavy - taiko drums come in, guitar gets sub-octave and delay (notes stay high)\n",
    "# 4. metal - play drop d with sub octave, tidal drums playing blast beats over heavy taiko groove\n",
    "# 5. tone down - sparse half time taiko and high pitched tidal (random accents) - soft guitar playing with mild-distorton"
   ]
  }
 ],
 "metadata": {
  "kernelspec": {
   "display_name": "Python 2",
   "language": "python",
   "name": "python2"
  },
  "language_info": {
   "codemirror_mode": {
    "name": "ipython",
    "version": 2
   },
   "file_extension": ".py",
   "mimetype": "text/x-python",
   "name": "python",
   "nbconvert_exporter": "python",
   "pygments_lexer": "ipython2",
   "version": "2.7.10"
  }
 },
 "nbformat": 4,
 "nbformat_minor": 2
}
